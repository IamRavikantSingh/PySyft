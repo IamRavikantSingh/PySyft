{
 "cells": [
  {
   "cell_type": "code",
   "execution_count": 1,
   "metadata": {
    "tags": []
   },
   "outputs": [],
   "source": [
    "import random\n",
    "\n",
    "import syft as sy\n",
    "import torch as th\n",
    "hook = sy.TorchHook(th)\n",
    "\n",
    "from syft.frameworks.torch.he.fv.modulus import CoeffModulus\n",
    "from syft.frameworks.torch.he.fv.encryption_params import EncryptionParams\n",
    "from syft.frameworks.torch.he.fv.context import Context\n",
    "from syft.frameworks.torch.he.fv.key_generator import KeyGenerator\n",
    "from syft.frameworks.torch.he.fv.context import Context\n",
    "from syft.frameworks.torch.he.fv.encryption_params import EncryptionParams\n",
    "context = Context(EncryptionParams(64, CoeffModulus().create(64, [30, 30]), 64))"
   ]
  },
  {
   "cell_type": "code",
   "execution_count": 2,
   "metadata": {
    "tags": []
   },
   "outputs": [],
   "source": [
    "key_generator = KeyGenerator(context)\n",
    "keys = key_generator.keygen()\n",
    "relin_key = key_generator.get_relin_keys()"
   ]
  },
  {
   "cell_type": "code",
   "execution_count": 3,
   "metadata": {
    "tags": []
   },
   "outputs": [],
   "source": [
    "a = th.tensor([[1,2,3], [4,5,6]])\n",
    "b = th.tensor([[4,5,6], [7,8,9]])\n",
    "def encyptTensor(tensor):\n",
    "    return tensor.int().encrypt(protocol=\"bfv\", private_key=keys[0], context = context) \n",
    "\n",
    "def get_x_y():\n",
    "    return encyptTensor(a), encyptTensor(b)\n",
    "\n",
    "def decrypt_ct(ct):\n",
    "    return ct.decrypt(private_key = keys[0])\n",
    "\n",
    "def check_value(ab, ct):\n",
    "    assert(th.equal(ab, ct))"
   ]
  },
  {
   "cell_type": "code",
   "execution_count": 4,
   "metadata": {},
   "outputs": [],
   "source": [
    "x, y = get_x_y()"
   ]
  },
  {
   "cell_type": "code",
   "execution_count": 5,
   "metadata": {},
   "outputs": [],
   "source": [
    "check_value(a, decrypt_ct(x))\n",
    "check_value(b, decrypt_ct(y))\n",
    "\n",
    "check_value(a + b, decrypt_ct(x + y))\n",
    "\n",
    "check_value(a, decrypt_ct(x))\n",
    "check_value(b, decrypt_ct(y))"
   ]
  },
  {
   "cell_type": "code",
   "execution_count": 6,
   "metadata": {},
   "outputs": [],
   "source": [
    "check_value(a, decrypt_ct(x))\n",
    "check_value(b, decrypt_ct(y))\n",
    "\n",
    "assert (th.equal(a + b, decrypt_ct(x.add(y))))\n",
    "\n",
    "check_value(a, decrypt_ct(x))\n",
    "check_value(b, decrypt_ct(y))"
   ]
  },
  {
   "cell_type": "code",
   "execution_count": 7,
   "metadata": {},
   "outputs": [],
   "source": [
    "check_value(a, decrypt_ct(x))\n",
    "check_value(b, decrypt_ct(y))\n",
    "\n",
    "check_value(a + b, decrypt_ct(th.add(x, y)))\n",
    "\n",
    "check_value(a, decrypt_ct(x))\n",
    "check_value(b, decrypt_ct(y))"
   ]
  },
  {
   "cell_type": "code",
   "execution_count": 8,
   "metadata": {},
   "outputs": [],
   "source": [
    "check_value(a, decrypt_ct(x))\n",
    "check_value(b, decrypt_ct(y))\n",
    "\n",
    "check_value(a * b, decrypt_ct(x * y))\n",
    "\n",
    "check_value(a, decrypt_ct(x))\n",
    "check_value(b, decrypt_ct(y))"
   ]
  },
  {
   "cell_type": "code",
   "execution_count": 9,
   "metadata": {},
   "outputs": [],
   "source": [
    "check_value(a, decrypt_ct(x))\n",
    "check_value(b, decrypt_ct(y))\n",
    "\n",
    "check_value(a * b, decrypt_ct(x.mul(y)))\n",
    "\n",
    "check_value(a, decrypt_ct(x))\n",
    "check_value(b, decrypt_ct(y))"
   ]
  },
  {
   "cell_type": "code",
   "execution_count": 10,
   "metadata": {},
   "outputs": [],
   "source": [
    "check_value(a, decrypt_ct(x))\n",
    "check_value(b, decrypt_ct(y))\n",
    "\n",
    "check_value(a * b, decrypt_ct(th.mul(x, y)))\n",
    "\n",
    "check_value(a, decrypt_ct(x))\n",
    "check_value(b, decrypt_ct(y))"
   ]
  },
  {
   "cell_type": "code",
   "execution_count": 11,
   "metadata": {},
   "outputs": [],
   "source": [
    "a = th.tensor([[1,2,3], [4,5,6]])\n",
    "b = th.tensor([[4,5], [6,7], [7,8]])\n",
    "x, y = get_x_y()\n",
    "\n",
    "check_value(a, decrypt_ct(x))\n",
    "check_value(b, decrypt_ct(y))\n",
    "\n",
    "check_value(a.mm(b), decrypt_ct(x.mm(y, relin_key=relin_key)))\n",
    "\n",
    "check_value(a, decrypt_ct(x))\n",
    "check_value(b, decrypt_ct(y))"
   ]
  },
  {
   "cell_type": "code",
   "execution_count": 12,
   "metadata": {},
   "outputs": [],
   "source": [
    "# check_value(a, decrypt_ct(x))\n",
    "# check_value(b, decrypt_ct(y))\n",
    "\n",
    "# check_value(th.mm(a, b), decrypt_ct(th.mm(x, y)))\n",
    "\n",
    "# check_value(a, decrypt_ct(x))\n",
    "# check_value(b, decrypt_ct(y))"
   ]
  },
  {
   "cell_type": "code",
   "execution_count": 15,
   "metadata": {},
   "outputs": [
    {
     "output_type": "stream",
     "name": "stdout",
     "text": [
      "BFVTensor>[<syft.frameworks.torch.he.fv.ciphertext.CipherText object at 0x1309e17f0>\n <syft.frameworks.torch.he.fv.ciphertext.CipherText object at 0x1306d22e0>\n <syft.frameworks.torch.he.fv.ciphertext.CipherText object at 0x1309e1490>\n <syft.frameworks.torch.he.fv.ciphertext.CipherText object at 0x130ad19d0>]\ntensor([1, 2, 3, 4], dtype=torch.int32)\n"
     ]
    }
   ],
   "source": [
    "a = th.tensor([1, 2, 3, 4]).int()\n",
    "b = a.encrypt(protocol=\"bfv\", private_key=keys[0], context = context, inplace = True)\n",
    "print(b)\n",
    "print(a)"
   ]
  },
  {
   "cell_type": "code",
   "execution_count": null,
   "metadata": {},
   "outputs": [],
   "source": []
  }
 ],
 "metadata": {
  "file_extension": ".py",
  "kernelspec": {
   "name": "python3",
   "language": "python",
   "display_name": "Python 3"
  },
  "language_info": {
   "codemirror_mode": {
    "name": "ipython",
    "version": 3
   },
   "file_extension": ".py",
   "mimetype": "text/x-python",
   "name": "python",
   "nbconvert_exporter": "python",
   "pygments_lexer": "ipython3",
   "version": "3.8.5-final"
  },
  "mimetype": "text/x-python",
  "name": "python",
  "npconvert_exporter": "python",
  "pygments_lexer": "ipython3",
  "version": 3
 },
 "nbformat": 4,
 "nbformat_minor": 2
}
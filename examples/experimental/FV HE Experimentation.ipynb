{
 "cells": [
  {
   "cell_type": "markdown",
   "metadata": {},
   "source": [
    "# Testing Individual components of the FV HE scheme"
   ]
  },
  {
   "cell_type": "code",
   "execution_count": 1,
   "metadata": {
    "tags": []
   },
   "outputs": [
    {
     "output_type": "stream",
     "name": "stderr",
     "text": "Falling back to insecure randomness since the required custom op could not be found for the installed version of TensorFlow. Fix this by compiling custom ops. Missing file was '/usr/local/lib/python3.7/site-packages/tf_encrypted/operations/secure_random/secure_random_module_tf_1.15.3.so'\nWARNING:tensorflow:From /usr/local/lib/python3.7/site-packages/tf_encrypted/session.py:24: The name tf.Session is deprecated. Please use tf.compat.v1.Session instead.\n\n"
    }
   ],
   "source": [
    "import random\n",
    "\n",
    "from syft.frameworks.torch.he.fv.modulus import CoeffModulus\n",
    "from syft.frameworks.torch.he.fv.encryption_params import EncryptionParams\n",
    "from syft.frameworks.torch.he.fv.context import Context\n",
    "from syft.frameworks.torch.he.fv.integer_encoder import IntegerEncoder\n",
    "from syft.frameworks.torch.he.fv.key_generator import KeyGenerator\n",
    "from syft.frameworks.torch.he.fv.encryptor import Encryptor\n",
    "from syft.frameworks.torch.he.fv.decryptor import Decryptor\n",
    "from syft.frameworks.torch.he.fv.integer_encoder import IntegerEncoder\n",
    "from syft.frameworks.torch.he.fv.modulus import SeqLevelType\n",
    "from syft.frameworks.torch.he.fv.evaluator import Evaluator"
   ]
  },
  {
   "cell_type": "markdown",
   "metadata": {},
   "source": [
    "## Keygeneration"
   ]
  },
  {
   "cell_type": "code",
   "execution_count": 2,
   "metadata": {},
   "outputs": [],
   "source": [
    "poly_modulus = 8\n",
    "bit_sizes= [10,10]\n",
    "plain_modulus = 8\n",
    "ctx = Context(EncryptionParams(poly_modulus, CoeffModulus().create(poly_modulus, bit_sizes), plain_modulus))\n",
    "keygenerator = KeyGenerator(ctx)\n",
    "sk, pk = keygenerator.keygen()"
   ]
  },
  {
   "cell_type": "code",
   "execution_count": 3,
   "metadata": {
    "tags": []
   },
   "outputs": [
    {
     "output_type": "stream",
     "name": "stdout",
     "text": "[977, 1009]\n"
    }
   ],
   "source": [
    "print(ctx.param.coeff_modulus)"
   ]
  },
  {
   "cell_type": "code",
   "execution_count": 4,
   "metadata": {
    "tags": []
   },
   "outputs": [
    {
     "output_type": "stream",
     "name": "stdout",
     "text": "secret key values :  [[1, 1, 976, 0, 1, 0, 0, 976], [1, 1, 1008, 0, 1, 0, 0, 1008]]\n"
    }
   ],
   "source": [
    "# print(len(sk.data))\n",
    "print('secret key values : ', sk.data)"
   ]
  },
  {
   "cell_type": "code",
   "execution_count": 5,
   "metadata": {},
   "outputs": [],
   "source": [
    "# print(pk.data)\n",
    "# print('public key values : ', pk.data)"
   ]
  },
  {
   "cell_type": "markdown",
   "metadata": {},
   "source": [
    "## Integer Encoder\n",
    "Encodes Integer values to Plaintext object"
   ]
  },
  {
   "cell_type": "code",
   "execution_count": 6,
   "metadata": {
    "tags": []
   },
   "outputs": [
    {
     "output_type": "stream",
     "name": "stdout",
     "text": "[1, 1, 1, 1, 0, 0, 1]     [0, 1, 0, 0, 1, 1]     [0, 1]\n"
    }
   ],
   "source": [
    "int_encoder = IntegerEncoder(ctx)\n",
    "ri1 = random.randint(0,100)\n",
    "ri2 = random.randint(0,100)\n",
    "ri3 = random.randint(0,100)\n",
    "pt1 = int_encoder.encode(ri1)\n",
    "pt2 = int_encoder.encode(ri2)\n",
    "pt3 = int_encoder.encode(ri3)\n",
    "print(pt1.data,\"   \", pt2.data, \"   \", pt3.data)\n",
    "# print('plaintext data',plaintext.data)"
   ]
  },
  {
   "cell_type": "markdown",
   "metadata": {},
   "source": [
    "### Decodes back to Integer"
   ]
  },
  {
   "cell_type": "code",
   "execution_count": 7,
   "metadata": {
    "tags": []
   },
   "outputs": [
    {
     "output_type": "stream",
     "name": "stdout",
     "text": "79\n50\n2\n"
    }
   ],
   "source": [
    "print(int_encoder.decode(pt1))\n",
    "print(int_encoder.decode(pt2))\n",
    "print(int_encoder.decode(pt3))"
   ]
  },
  {
   "cell_type": "markdown",
   "metadata": {},
   "source": [
    "## Encrypter\n",
    "Encrypt Plaintext to ciphertext using public_key"
   ]
  },
  {
   "cell_type": "code",
   "execution_count": 8,
   "metadata": {},
   "outputs": [],
   "source": [
    "encrypter = Encryptor(ctx, pk)"
   ]
  },
  {
   "cell_type": "code",
   "execution_count": 9,
   "metadata": {},
   "outputs": [],
   "source": [
    "ct1 = encrypter.encrypt(pt1)\n",
    "ct2 = encrypter.encrypt(pt2)\n",
    "ct3 = encrypter.encrypt(pt3)"
   ]
  },
  {
   "cell_type": "markdown",
   "metadata": {},
   "source": [
    "Encrypt Plaintext to ciphertext using secret_key"
   ]
  },
  {
   "cell_type": "markdown",
   "metadata": {},
   "source": [
    "## Decryptor\n",
    "Decrypt Ciphertext to Plaintext using secret_key"
   ]
  },
  {
   "cell_type": "code",
   "execution_count": 10,
   "metadata": {},
   "outputs": [],
   "source": [
    "decrypter = Decryptor(ctx, sk)"
   ]
  },
  {
   "cell_type": "code",
   "execution_count": 11,
   "metadata": {
    "tags": []
   },
   "outputs": [
    {
     "output_type": "stream",
     "name": "stdout",
     "text": "[[1, 1, 976, 0, 1, 0, 0, 976], [1, 1, 1008, 0, 1, 0, 0, 1008]]\n\n\n\nsk_power :  [[[1, 1, 976, 0, 1, 0, 0, 976], [1, 1, 1008, 0, 1, 0, 0, 1008]]]\n\n\n\nphase [c0 + c1 * sk + c2 * sk^2 ...]_q. :  [[122, 112, 126, 124, 9, 975, 126, 7], [126, 116, 130, 128, 9, 1007, 130, 7]]\n\n\n\ntemp_product_modq :  [[122, 112, 126, 124, 9, 975, 126, 7], [126, 116, 130, 128, 9, 1007, 130, 7]]\n\n\n\nresult \"Divide scaling variant using BEHZ FullRNS techniques :  [1, 1, 1, 1, 0, 0, 1, 0]\n\n\n\n[[1, 1, 976, 0, 1, 0, 0, 976], [1, 1, 1008, 0, 1, 0, 0, 1008]]\n\n\n\nsk_power :  [[[1, 1, 976, 0, 1, 0, 0, 976], [1, 1, 1008, 0, 1, 0, 0, 1008]]]\n\n\n\nphase [c0 + c1 * sk + c2 * sk^2 ...]_q. :  [[975, 120, 968, 4, 121, 106, 5, 969], [1007, 124, 1000, 4, 125, 110, 5, 1001]]\n\n\n\ntemp_product_modq :  [[975, 120, 968, 4, 121, 106, 5, 969], [1007, 124, 1000, 4, 125, 110, 5, 1001]]\n\n\n\nresult \"Divide scaling variant using BEHZ FullRNS techniques :  [0, 1, 0, 0, 1, 1, 0, 0]\n\n\n\n[[1, 1, 976, 0, 1, 0, 0, 976], [1, 1, 1008, 0, 1, 0, 0, 1008]]\n\n\n\nsk_power :  [[[1, 1, 976, 0, 1, 0, 0, 976], [1, 1, 1008, 0, 1, 0, 0, 1008]]]\n\n\n\nphase [c0 + c1 * sk + c2 * sk^2 ...]_q. :  [[1, 107, 1, 975, 1, 964, 966, 13], [1, 111, 1, 1007, 1, 996, 998, 13]]\n\n\n\ntemp_product_modq :  [[1, 107, 1, 975, 1, 964, 966, 13], [1, 111, 1, 1007, 1, 996, 998, 13]]\n\n\n\nresult \"Divide scaling variant using BEHZ FullRNS techniques :  [0, 1, 0, 0, 0, 0, 0, 0]\n\n\n\n"
    }
   ],
   "source": [
    "dec1 = decrypter.decrypt(ct1)\n",
    "dec2 = decrypter.decrypt(ct2)\n",
    "dec3 = decrypter.decrypt(ct3)"
   ]
  },
  {
   "cell_type": "code",
   "execution_count": 12,
   "metadata": {
    "tags": []
   },
   "outputs": [
    {
     "output_type": "stream",
     "name": "stdout",
     "text": "79     50     2\n"
    }
   ],
   "source": [
    "print(int_encoder.decode(dec1), \"   \", int_encoder.decode(dec2), \"   \", int_encoder.decode(dec3))"
   ]
  },
  {
   "cell_type": "markdown",
   "metadata": {},
   "source": [
    "## Evaluator"
   ]
  },
  {
   "cell_type": "code",
   "execution_count": 13,
   "metadata": {},
   "outputs": [],
   "source": [
    "eval = Evaluator(ctx)"
   ]
  },
  {
   "cell_type": "code",
   "execution_count": 14,
   "metadata": {
    "tags": []
   },
   "outputs": [
    {
     "output_type": "stream",
     "name": "stdout",
     "text": "[[1, 1, 976, 0, 1, 0, 0, 976], [1, 1, 1008, 0, 1, 0, 0, 1008]]\n\n\n\nsk_power :  [[[1, 1, 976, 0, 1, 0, 0, 976], [1, 1, 1008, 0, 1, 0, 0, 1008]]]\n\n\n\nphase [c0 + c1 * sk + c2 * sk^2 ...]_q. :  [[120, 232, 117, 128, 130, 104, 131, 976], [124, 240, 121, 132, 134, 108, 135, 1008]]\n\n\n\ntemp_product_modq :  [[120, 232, 117, 128, 130, 104, 131, 976], [124, 240, 121, 132, 134, 108, 135, 1008]]\n\n\n\nresult \"Divide scaling variant using BEHZ FullRNS techniques :  [1, 2, 1, 1, 1, 1, 1, 0]\n\n\n\n129\n"
    }
   ],
   "source": [
    "cc12 = eval.add(ct1, ct2)\n",
    "cc12 = decrypter.decrypt(cc12)\n",
    "print(int_encoder.decode(cc12))"
   ]
  },
  {
   "cell_type": "code",
   "execution_count": 15,
   "metadata": {
    "tags": []
   },
   "outputs": [
    {
     "output_type": "stream",
     "name": "stdout",
     "text": "[[1, 1, 976, 0, 1, 0, 0, 976], [1, 1, 1008, 0, 1, 0, 0, 1008]]\n\n\n\nsk_power :  [[[1, 1, 976, 0, 1, 0, 0, 976], [1, 1, 1008, 0, 1, 0, 0, 1008]]]\n\n\n\nphase [c0 + c1 * sk + c2 * sk^2 ...]_q. :  [[120, 242, 113, 126, 121, 106, 127, 969], [124, 250, 117, 130, 125, 110, 131, 1001]]\n\n\n\ntemp_product_modq :  [[120, 242, 113, 126, 121, 106, 127, 969], [124, 250, 117, 130, 125, 110, 131, 1001]]\n\n\n\nresult \"Divide scaling variant using BEHZ FullRNS techniques :  [1, 2, 1, 1, 1, 1, 1, 0]\n\n\n\n129\n"
    }
   ],
   "source": [
    "pc12 = eval.add(pt1, ct2)\n",
    "pc12 = decrypter.decrypt(pc12)\n",
    "print(int_encoder.decode(pc12))"
   ]
  },
  {
   "cell_type": "code",
   "execution_count": 16,
   "metadata": {
    "tags": []
   },
   "outputs": [
    {
     "output_type": "stream",
     "name": "stdout",
     "text": "129\n"
    }
   ],
   "source": [
    "pp12 = eval.add(pt1, pt2)\n",
    "print(int_encoder.decode(pp12))"
   ]
  },
  {
   "cell_type": "markdown",
   "metadata": {},
   "source": [
    "### Verify result"
   ]
  },
  {
   "cell_type": "code",
   "execution_count": 17,
   "metadata": {},
   "outputs": [],
   "source": [
    "assert int_encoder.decode(cc12) == int_encoder.decode(pc12) == int_encoder.decode(pp12) == ri1+ri2"
   ]
  },
  {
   "cell_type": "code",
   "execution_count": 18,
   "metadata": {
    "tags": []
   },
   "outputs": [
    {
     "output_type": "stream",
     "name": "stdout",
     "text": "[[1, 1, 976, 0, 1, 0, 0, 976], [1, 1, 1008, 0, 1, 0, 0, 1008]]\n\n\n\nsk_power :  [[[1, 1, 976, 0, 1, 0, 0, 976], [1, 1, 1008, 0, 1, 0, 0, 1008]], [[2, 0, 976, 0, 3, 2, 974, 975], [2, 0, 1008, 0, 3, 2, 1006, 1007]]]\n\n\n\nphase [c0 + c1 * sk + c2 * sk^2 ...]_q. :  [[19, 15, 7, 0, 50, 53, 17, 970], [39, 23, 23, 9, 35, 51, 31, 1004]]\n\n\n\ntemp_product_modq :  [[19, 15, 7, 0, 50, 53, 17, 970], [39, 23, 23, 9, 35, 51, 31, 1004]]\n\n\n\nresult \"Divide scaling variant using BEHZ FullRNS techniques :  [5, 2, 4, 6, 0, 0, 3, 0]\n\n\n\nsk :  [[1, 1, 976, 0, 1, 0, 0, 976], [1, 1, 1008, 0, 1, 0, 0, 1008]]\nfinal result:  161\n"
    }
   ],
   "source": [
    "result = eval._mul_cipher_cipher(ct1, ct2)\n",
    "\n",
    "result = decrypter.decrypt(result)\n",
    "\n",
    "result = int_encoder.decode(result)\n",
    "print('sk : ', sk.data)\n",
    "\n",
    "print('final result: ', result)"
   ]
  },
  {
   "cell_type": "code",
   "execution_count": 19,
   "metadata": {
    "tags": []
   },
   "outputs": [
    {
     "output_type": "stream",
     "name": "stdout",
     "text": "3950      161\n"
    },
    {
     "output_type": "error",
     "ename": "AssertionError",
     "evalue": "",
     "traceback": [
      "\u001b[0;31m---------------------------------------------------------------------------\u001b[0m",
      "\u001b[0;31mAssertionError\u001b[0m                            Traceback (most recent call last)",
      "\u001b[0;32m<ipython-input-19-3ce690e24e15>\u001b[0m in \u001b[0;36m<module>\u001b[0;34m\u001b[0m\n\u001b[1;32m      1\u001b[0m \u001b[0mprint\u001b[0m\u001b[0;34m(\u001b[0m\u001b[0mri1\u001b[0m \u001b[0;34m*\u001b[0m \u001b[0mri2\u001b[0m\u001b[0;34m,\u001b[0m \u001b[0;34m\"    \"\u001b[0m\u001b[0;34m,\u001b[0m \u001b[0mresult\u001b[0m\u001b[0;34m)\u001b[0m\u001b[0;34m\u001b[0m\u001b[0;34m\u001b[0m\u001b[0m\n\u001b[0;32m----> 2\u001b[0;31m \u001b[0;32massert\u001b[0m \u001b[0mri1\u001b[0m \u001b[0;34m*\u001b[0m \u001b[0mri2\u001b[0m \u001b[0;34m==\u001b[0m \u001b[0mresult\u001b[0m\u001b[0;34m\u001b[0m\u001b[0;34m\u001b[0m\u001b[0m\n\u001b[0m",
      "\u001b[0;31mAssertionError\u001b[0m: "
     ]
    }
   ],
   "source": [
    "print(ri1 * ri2, \"    \", result)\n",
    "assert ri1 * ri2 == result"
   ]
  },
  {
   "cell_type": "code",
   "execution_count": 20,
   "metadata": {
    "tags": []
   },
   "outputs": [
    {
     "output_type": "stream",
     "name": "stdout",
     "text": "[[1, 1, 976, 0, 1, 0, 0, 976], [1, 1, 1008, 0, 1, 0, 0, 1008]]\n\n\n\nsk_power :  [[[1, 1, 976, 0, 1, 0, 0, 976], [1, 1, 1008, 0, 1, 0, 0, 1008]], [[2, 0, 976, 0, 3, 2, 974, 975], [2, 0, 1008, 0, 3, 2, 1006, 1007]]]\n\n\n\n[[1, 1, 976, 0, 1, 0, 0, 976], [1, 1, 1008, 0, 1, 0, 0, 1008]]\n\n\n[[1, 1, 976, 0, 1, 0, 0, 976], [1, 1, 1008, 0, 1, 0, 0, 1008]]\n\n\n\nsk_power :  [[[1, 1, 976, 0, 1, 0, 0, 976], [1, 1, 1008, 0, 1, 0, 0, 1008]], [[2, 0, 976, 0, 3, 2, 974, 975], [2, 0, 1008, 0, 3, 2, 1006, 1007]]]\n\n\n\n[[2, 0, 976, 0, 3, 2, 974, 975], [2, 0, 1008, 0, 3, 2, 1006, 1007]]\n"
    }
   ],
   "source": [
    "print(decrypter._get_sufficient_sk_power(2)[0])\n",
    "print('\\n')\n",
    "print(decrypter._get_sufficient_sk_power(2)[1])"
   ]
  },
  {
   "cell_type": "code",
   "execution_count": null,
   "metadata": {},
   "outputs": [],
   "source": []
  },
  {
   "cell_type": "code",
   "execution_count": null,
   "metadata": {},
   "outputs": [],
   "source": []
  },
  {
   "cell_type": "code",
   "execution_count": 21,
   "metadata": {},
   "outputs": [],
   "source": [
    "#Testing\n",
    "from syft.frameworks.torch.he.fv.util.operations import poly_mul_mod\n",
    "\n",
    "class Test:\n",
    "    def __init__(self):\n",
    "        self._secret_key_array = [[[1,2,3]]]\n",
    "        self._coeff_modulus = [5]\n",
    "    def _get_sufficient_sk_power(self, max_power):\n",
    "            \"\"\"Generate an list of secret key polynomial raised to 1...max_power.\n",
    "\n",
    "            Args:\n",
    "                max_power: heighest power up to which we want to raise secretkey.\n",
    "\n",
    "            Returns:\n",
    "                A 2-dim list having secretkey powers.\n",
    "            \"\"\"\n",
    "\n",
    "            if max_power == len(self._secret_key_array):\n",
    "                return self._secret_key_array\n",
    "\n",
    "            while len(self._secret_key_array) < max_power:\n",
    "                sk_extra_power = [0] * len(self._coeff_modulus)\n",
    "                for i in range(len(self._coeff_modulus)):\n",
    "                    sk_extra_power[i] = poly_mul_mod(self._secret_key_array[-1][i], self._secret_key_array[0][i], self._coeff_modulus[i])\n",
    "                self._secret_key_array.append(sk_extra_power)\n",
    "\n",
    "            return self._secret_key_array"
   ]
  },
  {
   "cell_type": "code",
   "execution_count": 22,
   "metadata": {
    "tags": []
   },
   "outputs": [
    {
     "output_type": "stream",
     "name": "stdout",
     "text": "[[[1, 2, 3]], [[4, 0, 0]]]\n"
    }
   ],
   "source": [
    "print(Test()._get_sufficient_sk_power(2))"
   ]
  },
  {
   "cell_type": "code",
   "execution_count": null,
   "metadata": {},
   "outputs": [],
   "source": []
  }
 ],
 "metadata": {
  "file_extension": ".py",
  "kernelspec": {
   "display_name": "Python 3.7.7 64-bit",
   "language": "python",
   "name": "python37764bit7e2fa8fe9ae747e1a294a521efbce80f"
  },
  "language_info": {
   "codemirror_mode": {
    "name": "ipython",
    "version": 3
   },
   "file_extension": ".py",
   "mimetype": "text/x-python",
   "name": "python",
   "nbconvert_exporter": "python",
   "pygments_lexer": "ipython3",
   "version": "3.7.7-final"
  },
  "mimetype": "text/x-python",
  "name": "python",
  "npconvert_exporter": "python",
  "pygments_lexer": "ipython3",
  "version": 3
 },
 "nbformat": 4,
 "nbformat_minor": 2
}
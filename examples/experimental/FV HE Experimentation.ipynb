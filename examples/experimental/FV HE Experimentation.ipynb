{
 "cells": [
  {
   "cell_type": "markdown",
   "metadata": {},
   "source": [
    "# Testing Individual components of the FV HE scheme"
   ]
  },
  {
   "cell_type": "code",
   "execution_count": 1,
   "metadata": {},
   "outputs": [
    {
     "output_type": "stream",
     "name": "stderr",
     "text": "Falling back to insecure randomness since the required custom op could not be found for the installed version of TensorFlow. Fix this by compiling custom ops. Missing file was '/Users/ravikantsingh/Desktop/PySyft/venv/lib/python3.7/site-packages/tf_encrypted/operations/secure_random/secure_random_module_tf_1.15.2.so'\nWARNING:tensorflow:From /Users/ravikantsingh/Desktop/PySyft/venv/lib/python3.7/site-packages/tf_encrypted/session.py:24: The name tf.Session is deprecated. Please use tf.compat.v1.Session instead.\n\n"
    }
   ],
   "source": [
    "from syft.frameworks.torch.he.fv.modulus import CoeffModulus\n",
    "from syft.frameworks.torch.he.fv.encryption_params import EncryptionParams\n",
    "from syft.frameworks.torch.he.fv.context import Context\n",
    "from syft.frameworks.torch.he.fv.integer_encoder import IntegerEncoder\n",
    "from syft.frameworks.torch.he.fv.key_generator import KeyGenerator\n",
    "from syft.frameworks.torch.he.fv.encrypter import Encrypter\n",
    "from syft.frameworks.torch.he.fv.decrypter import Decrypter\n",
    "from syft.frameworks.torch.he.fv.integer_encoder import IntegerEncoder\n",
    "from syft.frameworks.torch.he.fv.modulus import SeqLevelType"
   ]
  },
  {
   "cell_type": "markdown",
   "metadata": {},
   "source": [
    "## Generates coeff_modulus using Polymodulus degree and bit-length parameters.\n",
    "Generates random integer of the given bit length for using as coeff_modulus"
   ]
  },
  {
   "cell_type": "code",
   "execution_count": 2,
   "metadata": {},
   "outputs": [
    {
     "output_type": "stream",
     "name": "stdout",
     "text": "coeff_modulus:  [1073692673, 1125899906826241, 1152921504606830593]\n"
    }
   ],
   "source": [
    "params = EncryptionParams()\n",
    "cm = CoeffModulus()\n",
    "params.coeff_modulus = cm.create(4096, [30, 50, 60])\n",
    "print(\"coeff_modulus: \", params.coeff_modulus)"
   ]
  },
  {
   "cell_type": "markdown",
   "metadata": {},
   "source": [
    "## Use standard values of coeff_modulus for the given Poly Modulus degree and security_level.\n",
    "Need some refractoring and integration of code."
   ]
  },
  {
   "cell_type": "code",
   "execution_count": 3,
   "metadata": {},
   "outputs": [
    {
     "output_type": "stream",
     "name": "stdout",
     "text": "coeff_modulus for SeqLevelType.TC128 and poly_modulus = 1024 [132120577]\ncoeff_modulus for SeqLevelType.TC128 and poly_modulus = 4096 [68719403009, 68719230977, 137438822401]\ncoeff_modulus for SeqLevelType.TC128 and poly_modulus = 32768 [36028797017456641, 36028797014704129, 36028797014573057, 36028797014376449, 36028797013327873, 36028797013000193, 36028797012606977, 36028797010444289, 36028797009985537, 36028797005856769, 36028797005529089, 36028797005135873, 36028797003694081, 36028797003563009, 36028797001138177, 72057594037338113]\n\n\ncoeff_modulus for SeqLevelType.TC192 and poly_modulus = 1024 [520193]\ncoeff_modulus for SeqLevelType.TC192 and poly_modulus = 4096 [33538049, 33349633, 33292289]\ncoeff_modulus for SeqLevelType.TC192 and poly_modulus = 32768 [18014398506729473, 18014398505943041, 18014398499848193, 18014398498799617, 18014398498275329, 36028797017456641, 36028797014704129, 36028797014573057, 36028797014376449, 36028797013327873, 36028797013000193]\n\n\ncoeff_modulus for SeqLevelType.TC256 and poly_modulus = 1024 [12289]\ncoeff_modulus for SeqLevelType.TC256 and poly_modulus = 4096 [288230376135196673]\ncoeff_modulus for SeqLevelType.TC256 and poly_modulus = 32768 [4503599626321921, 9007199252840449, 9007199252119553, 9007199251660801, 9007199250874369, 9007199250481153, 9007199250087937, 9007199249891329, 9007199248777217]\n\n\n"
    }
   ],
   "source": [
    "params_standard = EncryptionParams()\n",
    "cm_standard = CoeffModulus()\n",
    "for i in SeqLevelType:\n",
    "    for j in [1024, 4096, 32768]:           # ... [1024, 2048, 4096, 8192, 16384, 32768]\n",
    "        params_standard.coeff_modulus = cm_standard.bfv_default(j, i)\n",
    "        print(f\"coeff_modulus for {i} and poly_modulus = {j}\", params_standard.coeff_modulus)\n",
    "    print('\\n')"
   ]
  },
  {
   "cell_type": "markdown",
   "metadata": {},
   "source": [
    "## Keygeneration"
   ]
  },
  {
   "cell_type": "code",
   "execution_count": 4,
   "metadata": {},
   "outputs": [],
   "source": [
    "params = EncryptionParams(128, CoeffModulus().create(128, [40, 40]), 1<<6 )\n",
    "ctx = Context(params)\n",
    "keygenerator = KeyGenerator(ctx)\n",
    "sk, pk = keygenerator.keygen()"
   ]
  },
  {
   "cell_type": "code",
   "execution_count": 5,
   "metadata": {},
   "outputs": [
    {
     "output_type": "stream",
     "name": "stdout",
     "text": "secret key values :  tensor([            0,             1,             0, 1099511607040,\n                    1, 1099511607040,             0, 1099511607040,\n        1099511607040,             0,             0, 1099511607040,\n                    1,             1,             0, 1099511607040,\n                    0,             1,             1, 1099511607040,\n        1099511607040,             1, 1099511607040,             0,\n                    1,             1, 1099511607040,             1,\n        1099511607040,             1,             1,             0,\n        1099511607040,             0,             0, 1099511607040,\n                    0,             1,             0,             0,\n                    0,             0,             1,             1,\n        1099511607040, 1099511607040, 1099511607040,             0,\n        1099511607040,             0,             0,             0,\n        1099511607040, 1099511607040,             1,             1,\n        1099511607040,             0,             0,             0,\n                    1,             0,             1,             1,\n                    0,             1, 1099511607040,             0,\n                    0,             1,             1, 1099511607040,\n        1099511607040,             0, 1099511607040,             1,\n                    1,             0, 1099511607040,             1,\n        1099511607040,             0,             1, 1099511607040,\n        1099511607040,             0,             0, 1099511607040,\n        1099511607040,             1, 1099511607040,             0,\n                    0, 1099511607040,             0,             1,\n                    0,             0, 1099511607040,             1,\n                    1,             0, 1099511607040,             1,\n                    0,             1, 1099511607040, 1099511607040,\n                    0,             0,             0, 1099511607040,\n                    0, 1099511607040, 1099511607040,             1,\n                    1,             0,             0,             0,\n        1099511607040,             0, 1099511607040,             1,\n        1099511607040, 1099511607040,             0,             0,\n                    0,             1,             0, 1099511619840,\n                    1, 1099511619840,             0, 1099511619840,\n        1099511619840,             0,             0, 1099511619840,\n                    1,             1,             0, 1099511619840,\n                    0,             1,             1, 1099511619840,\n        1099511619840,             1, 1099511619840,             0,\n                    1,             1, 1099511619840,             1,\n        1099511619840,             1,             1,             0,\n        1099511619840,             0,             0, 1099511619840,\n                    0,             1,             0,             0,\n                    0,             0,             1,             1,\n        1099511619840, 1099511619840, 1099511619840,             0,\n        1099511619840,             0,             0,             0,\n        1099511619840, 1099511619840,             1,             1,\n        1099511619840,             0,             0,             0,\n                    1,             0,             1,             1,\n                    0,             1, 1099511619840,             0,\n                    0,             1,             1, 1099511619840,\n        1099511619840,             0, 1099511619840,             1,\n                    1,             0, 1099511619840,             1,\n        1099511619840,             0,             1, 1099511619840,\n        1099511619840,             0,             0, 1099511619840,\n        1099511619840,             1, 1099511619840,             0,\n                    0, 1099511619840,             0,             1,\n                    0,             0, 1099511619840,             1,\n                    1,             0, 1099511619840,             1,\n                    0,             1, 1099511619840, 1099511619840,\n                    0,             0,             0, 1099511619840,\n                    0, 1099511619840, 1099511619840,             1,\n                    1,             0,             0,             0,\n        1099511619840,             0, 1099511619840,             1,\n        1099511619840, 1099511619840,             0,             0])\n<syft.frameworks.torch.he.fv.secret_key.SecretKey object at 0x10663ed50>\n"
    }
   ],
   "source": [
    "print('secret key values : ', sk.data)\n",
    "print(sk)"
   ]
  },
  {
   "cell_type": "code",
   "execution_count": 13,
   "metadata": {},
   "outputs": [
    {
     "output_type": "stream",
     "name": "stdout",
     "text": "public key values :  [[tensor(0), tensor(926338339671), tensor(1), tensor(343623747282), tensor(111998154084), tensor(21541215752), tensor(0), tensor(923538336383), tensor(4470200389), tensor(0), tensor(0), tensor(713086186495), tensor(330482760182), tensor(390105111580), tensor(1), tensor(1039656338495), tensor(1), tensor(639107084176), tensor(1077112679102), tensor(768853219080), tensor(146133806542), tensor(610999334908), tensor(429509144121), tensor(1), tensor(1069267655976), tensor(1096476462334), tensor(734562530218), tensor(313613802683), tensor(769148218926), tensor(551663375977), tensor(1048045545820), tensor(1), tensor(451393525139), tensor(3), tensor(1099511607040), tensor(708692148279), tensor(1), tensor(344200810267), tensor(2), tensor(1099511607036), tensor(0), tensor(1099511607040), tensor(292676095009), tensor(10764874096), tensor(545792873552), tensor(69009178180), tensor(124833529244), tensor(4), tensor(1005381688773), tensor(0), tensor(0), tensor(1), tensor(378248691535), tensor(21609406710), tensor(143193744381), tensor(468953145880), tensor(408377364387), tensor(1099511607037), tensor(2), tensor(1099511607038), tensor(946503757530), tensor(1099511607040), tensor(436302950701), tensor(774111880314), tensor(1), tensor(830604981028), tensor(128965287768), tensor(0), tensor(0), tensor(546591488402), tensor(852637192824), tensor(867705046996), tensor(889446683486), tensor(1099511607040), tensor(876523616399), tensor(938614656104), tensor(983042775741), tensor(4), tensor(403963140015), tensor(210774438755), tensor(434036285060), tensor(1099511607037), tensor(526908847432), tensor(541378532033), tensor(777592303392), tensor(1099511607039), tensor(1099511607040), tensor(26103738970), tensor(811772578354), tensor(596561705837), tensor(412395461558), tensor(1), tensor(1099511607036), tensor(378325307431), tensor(1099511607039), tensor(102401976389), tensor(1099511607036), tensor(5), tensor(270744591797), tensor(51588709388), tensor(741727551599), tensor(2), tensor(1095256768653), tensor(936912743083), tensor(3), tensor(14908649281), tensor(77441407201), tensor(653107989118), tensor(4), tensor(0), tensor(1099511607037), tensor(193428242874), tensor(3), tensor(1060904854614), tensor(60431316786), tensor(66743164806), tensor(430954474798), tensor(3), tensor(0), tensor(1), tensor(945240521098), tensor(1), tensor(593030659134), tensor(898689297528), tensor(1082630497017), tensor(949574346545), tensor(1099511607037), tensor(0), tensor(0), tensor(557814595060), tensor(1), tensor(382277494637), tensor(580138543726), tensor(300715696578), tensor(0), tensor(712971585625), tensor(9579348), tensor(0), tensor(0), tensor(1047978141890), tensor(520012704418), tensor(576484784637), tensor(1), tensor(335043359491), tensor(1), tensor(1018639601654), tensor(309210589092), tensor(352214345821), tensor(996458022770), tensor(160259171736), tensor(335038170780), tensor(1), tensor(917171682977), tensor(1091343533038), tensor(884816415532), tensor(809770763106), tensor(579855412847), tensor(374085287730), tensor(360546257958), tensor(1), tensor(4309935056), tensor(3), tensor(1099511619840), tensor(506838057185), tensor(1), tensor(104133270059), tensor(2), tensor(1099511619836), tensor(0), tensor(1099511619840), tensor(708474944324), tensor(11695291744), tensor(773104158709), tensor(554087603050), tensor(360791859736), tensor(4), tensor(266319243386), tensor(0), tensor(0), tensor(1), tensor(880498098143), tensor(618510932830), tensor(353420160948), tensor(490377416889), tensor(1009362987032), tensor(1099511619837), tensor(2), tensor(1099511619838), tensor(735849648629), tensor(1099511619840), tensor(201985222713), tensor(487488048050), tensor(1), tensor(971905001762), tensor(828939442745), tensor(0), tensor(0), tensor(150367972692), tensor(949788916949), tensor(146075880100), tensor(536884574513), tensor(1099511619840), tensor(816094835876), tensor(82669298326), tensor(325384392547), tensor(4), tensor(399485837046), tensor(663858452907), tensor(755967290995), tensor(1099511619837), tensor(1044654386816), tensor(691515871208), tensor(38720143541), tensor(1099511619839), tensor(1099511619840), tensor(498242057827), tensor(1069448689435), tensor(438399082439), tensor(725851644680), tensor(1), tensor(1099511619836), tensor(794621021098), tensor(1099511619839), tensor(246601762053), tensor(1099511619836), tensor(5), tensor(279231198934), tensor(275707480792), tensor(987292539), tensor(2), tensor(304967510563), tensor(216099886032), tensor(3), tensor(513598438868), tensor(923461575720), tensor(369378009139), tensor(4), tensor(0), tensor(1099511619837), tensor(519710583093), tensor(3), tensor(841868773894), tensor(820354197393), tensor(97528111652), tensor(401183628990), tensor(3), tensor(0), tensor(1), tensor(979262224413), tensor(1), tensor(1052337061760), tensor(319238841513), tensor(30101645949), tensor(549800325396), tensor(1099511619837), tensor(0)], tensor([1053745782615,  173173267370,  996662071742,   61474051163,\n         987513452957,  173760056783,  995335028461,  303451227861,\n         445352278540,   89970209371,  525954987186,  325438800632,\n         769028846864,  709406495461,  332679464192,  718628522288,\n         137181266557,  460404522859,   22398927945,  136416285973,\n         285642098649,  488512272133,   39255756060,  309818526981,\n          30243951055,    3035144712,  301642748386,  785897804358,\n         875156780709,  547848231064,   51466061221,  213236353459,\n        1059136667033,  525374579127,  632233605889,   56187482459,\n         416636754796,  755310796776,  542955039340,  277785519544,\n         839692599943,  619777915709,  806835512032, 1088746732945,\n         862461115096,  760469966922,  696010115816, 1051809346169,\n         939683764734,  504674224244,  675205199221,  141998846122,\n         755239396337,  345559758185,  956317862660,  630558461159,\n         913467348973,  781707023496, 1047015892019,  786152346348,\n         153007849511, 1019073703075,  663208656339,  325399726729,\n         663789147930,  268906626013,  282366400292,  889583398318,\n         157407659546,  552920118639,  246874414216,  299209536479,\n         984071257566,  679277905446,  906435269975,  160896950939,\n         116468831298,  156311644626,  596969679268,  888737168291,\n         643516622316,  108766042346,  572602759604,  554549903769,\n         511724995282,  131858317354,  571753667039,  833869046215,\n          67324414502,  502949901204,  212059692116,  229090036955,\n         251801349314,  931340810435,  458204821776,  997109630655,\n         401545960720,  934154995409,  393249047218, 1047922897653,\n         357784055446,  157251306807,   87230765818,  162598863961,\n         249786858260, 1084602957763,  328333721873,  717654524256,\n         604343004993,  968784896366,  993220890221,  412796692266,\n         817418365710,  106424219179,  767425091260, 1032768442241,\n         668557132240,  233645039195,  609400366736,  969277343632,\n         872354727629,  697699631432,  826414123039,  200822309508,\n         774096795141,  991280761399,  310555662075,  675610245486,\n         813439397601,  541697024781,  258221186708,  367341513930,\n         519373076115, 1052174051686,  876868913088,    6885284230,\n         133145939981,  178594136822,  179457082067,  105428116410,\n         579498915428,  523026835204,  417547268468,  704135340254,\n         760557997179,   80872018181,  790301030755,  452818155810,\n         335416509670,  939252448105,  407794381082,  286754578850,\n         182339936854,    8168086808,  985456832244,  289740856735,\n         676872844931,  725426332111,  738965361883,  434255885545,\n         261439351343,  917233472030,  542856253267,  613271149612,\n          16310320795,  995378349784,  576644262007,  384338572098,\n         205285850516,  758805053375,  391036675517, 1087816328097,\n          29200734918,  675901815928,  365804076142,  151053340204,\n         438126399188,  687758099813,  820555104233,  384372711984,\n         582283295304,  590291406848,  746091458893,  609134202950,\n         776132017912,  920298906513,  634285787653,  605657888601,\n         363661971212,  309313410533,  897526397127,  612023571793,\n         371099912644,  127606618079,  116488299904,  186988534813,\n         705597429784,  949143647149,  149722702891,  853052460978,\n         162726564809,    7065356700,  783871247295, 1016842321517,\n         774127227292,  155987972973,  944942898581,  435653166939,\n         898991906763,   23914718256,   54857233020,  563691537354,\n        1034405447647,  962966421413,  691246988956,  472646514357,\n          38234925869,  661112537402,  129766510255,  289798021802,\n         766171054047,  773756187002,  522209788058,  852909857791,\n         154781305013,  861429874315,  977627488875,  823804139049,\n        1098524327306,  251569440053,  531916003363,  883411733812,\n         359869829278,  585913180976,  666950083573,  334630008998,\n         809452779995,  119560167362,  165599890640,  487051006455,\n         750085292424, 1029647519244,  267915467807, 1001983508195,\n         698327990848,  919049209794,  621349325179,  389985682394,\n         247425898518,  786469753373, 1084134911504,  780272778323,\n         756327232214,  861136138331,  699465670547,  610827535440])]\n<syft.frameworks.torch.he.fv.public_key.PublicKey object at 0x148462ed0>\n"
    }
   ],
   "source": [
    "print('public key values : ', pk.data)\n",
    "print(pk)"
   ]
  },
  {
   "cell_type": "markdown",
   "metadata": {},
   "source": [
    "## Integer Encoder\n",
    "Encodes Integer values to Plaintext object"
   ]
  },
  {
   "cell_type": "code",
   "execution_count": 7,
   "metadata": {},
   "outputs": [
    {
     "output_type": "stream",
     "name": "stdout",
     "text": "<syft.frameworks.torch.he.fv.plaintext.PlainText object at 0x148a8ced0>\nplaintext data [0, 0, 0, 1, 1, 1, 1, 0, 0, 1, 1, 0, 1, 0, 1, 0, 0, 0, 1, 0, 1, 1, 0, 0, 0, 1, 0, 0, 1]\n"
    }
   ],
   "source": [
    "int_encoder = IntegerEncoder(ctx)\n",
    "plaintext = int_encoder.encode(0x12345678)\n",
    "print(plaintext)\n",
    "print('plaintext data',plaintext.data)"
   ]
  },
  {
   "cell_type": "markdown",
   "metadata": {},
   "source": [
    "### Decodes back to Integer"
   ]
  },
  {
   "cell_type": "code",
   "execution_count": 8,
   "metadata": {},
   "outputs": [
    {
     "output_type": "stream",
     "name": "stdout",
     "text": "305419896\n"
    }
   ],
   "source": [
    "print(int_encoder.decode(plaintext))"
   ]
  },
  {
   "cell_type": "markdown",
   "metadata": {},
   "source": [
    "## Encrypter\n",
    "Encrypt Plaintext to ciphertext using public_key"
   ]
  },
  {
   "cell_type": "code",
   "execution_count": 9,
   "metadata": {},
   "outputs": [
    {
     "output_type": "stream",
     "name": "stdout",
     "text": "<syft.frameworks.torch.he.fv.ciphertext.CipherText object at 0x1066ac650>\nciphertext data : [[tensor(223338295178), tensor(1039018689007), tensor(4), tensor(1), tensor(738697101791), tensor(21541215751), tensor(1), tensor(923538336382), tensor(1099511607040), tensor(1099511607040), tensor(1099511607040), tensor(0), tensor(330482760181), tensor(0), tensor(1), tensor(0), tensor(1), tensor(639107084176), tensor(1), tensor(768853219080), tensor(111607748856), tensor(128603406854), tensor(751455665262), tensor(1099511607036), tensor(527857486749), tensor(295922453706), tensor(0), tensor(313613802685), tensor(390544490621), tensor(1099511607040), tensor(0), tensor(1), tensor(1099511607039), tensor(1), tensor(1099511607040), tensor(751336365566), tensor(5), tensor(3), tensor(1099511607040), tensor(1), tensor(4), tensor(5), tensor(322010528108), tensor(10764874098), tensor(545792873559), tensor(1099511607038), tensor(124833529244), tensor(1099511607040), tensor(390441847626), tensor(0), tensor(1), tensor(1), tensor(1099511607040), tensor(21609406713), tensor(519634831760), tensor(893173392251), tensor(1), tensor(1099081666823), tensor(0), tensor(1099511607038), tensor(686824287202), tensor(1099511607037), tensor(436302950703), tensor(774111880315), tensor(1099511607038), tensor(0), tensor(128965287772), tensor(2), tensor(0), tensor(880247970225), tensor(1008981576541), tensor(862944885529), tensor(1099511607034), tensor(1099511607038), tensor(876523616399), tensor(1099511607039), tensor(540782870957), tensor(9), tensor(626905912084), tensor(210774438753), tensor(0), tensor(1099511607036), tensor(1099511607035), tensor(541378532033), tensor(223032324394), tensor(1), tensor(1099511607039), tensor(738725761680), tensor(6), tensor(0), tensor(412395461558), tensor(3), tensor(1099081666822), tensor(1), tensor(1099081666818), tensor(102401976389), tensor(1099511607039), tensor(1099511607035), tensor(270744591797), tensor(55815629506), tensor(0), tensor(5), tensor(403292069922), tensor(6), tensor(3), tensor(14908649283), tensor(515368003545), tensor(1030532212641), tensor(1099511607034), tensor(2), tensor(1099081666820), tensor(167424363660), tensor(1099511607037), tensor(1099511607037), tensor(60431316784), tensor(1099511607035), tensor(430954474795), tensor(1099511607034), tensor(5), tensor(1099511607040), tensor(945240521100), tensor(0), tensor(593030659133), tensor(898689297526), tensor(334587333316), tensor(794196908481), tensor(1099081666824), tensor(1099511607040), tensor(223338297778), tensor(962035002574), tensor(4), tensor(1), tensor(768766722544), tensor(300715696577), tensor(1), tensor(712971585624), tensor(1099511619840), tensor(1099511619840), tensor(1099511619840), tensor(0), tensor(520012704417), tensor(0), tensor(1), tensor(0), tensor(1), tensor(1018639601654), tensor(1), tensor(352214345821), tensor(833174523305), tensor(343584998380), tensor(833207293401), tensor(1099511619836), tensor(51492239162), tensor(1069381935321), tensor(0), tensor(809770763108), tensor(833189166060), tensor(1099511619840), tensor(0), tensor(1), tensor(1099511619839), tensor(1), tensor(1099511619840), tensor(833196259433), tensor(5), tensor(3), tensor(1099511619840), tensor(1), tensor(4), tensor(5), tensor(498168959667), tensor(11695291746), tensor(773104158716), tensor(1099511619838), tensor(360791859736), tensor(1099511619840), tensor(833210679815), tensor(0), tensor(1), tensor(1), tensor(1099511619840), tensor(618510932833), tensor(176065311043), tensor(605566128417), tensor(1), tensor(1099448655623), tensor(0), tensor(1099511619838), tensor(910489961164), tensor(1099511619837), tensor(201985222715), tensor(487488048051), tensor(1099511619838), tensor(0), tensor(828939442749), tensor(2), tensor(0), tensor(700077266152), tensor(704323069431), tensor(700074637435), tensor(1099511619834), tensor(1099511619838), tensor(816094835876), tensor(1099511619839), tensor(558320043720), tensor(9), tensor(700053237838), tensor(663858452905), tensor(0), tensor(1099511619836), tensor(1099511619835), tensor(691515871208), tensor(566935132260), tensor(1), tensor(1099511619839), tensor(833202816167), tensor(6), tensor(0), tensor(725851644680), tensor(3), tensor(1099448655622), tensor(1), tensor(1099448655618), tensor(246601762053), tensor(1099511619839), tensor(1099511619835), tensor(279231198934), tensor(72991163119), tensor(0), tensor(5), tensor(966342113398), tensor(6), tensor(3), tensor(513598438870), tensor(700033499111), tensor(966352434489), tensor(1099511619834), tensor(2), tensor(1099448655620), tensor(966335106425), tensor(1099511619837), tensor(1099511619837), tensor(820354197391), tensor(1099511619835), tensor(401183628987), tensor(1099511619834), tensor(5), tensor(1099511619840), tensor(979262224415), tensor(0), tensor(1052337061759), tensor(319238841511), tensor(833218605144), tensor(700053995370), tensor(1099448655624), tensor(1099511619840)], [tensor(171384225103), tensor(60062977815), tensor(996662071742), tensor(1099511607038), tensor(360384565027), tensor(173760056781), tensor(995335028463), tensor(303451227864), tensor(0), tensor(89970209371), tensor(1077825057292), tensor(0), tensor(769028846865), tensor(1099511607039), tensor(1), tensor(8), tensor(820291120031), tensor(460404522859), tensor(1), tensor(136416285973), tensor(953377800500), tensor(970478259961), tensor(670002462921), tensor(1017792394704), tensor(571224180079), tensor(803159213105), tensor(1099511607038), tensor(785897804359), tensor(330363388115), tensor(1099511607038), tensor(1), tensor(213236353454), tensor(6), tensor(525374579127), tensor(1099511607040), tensor(390819458759), tensor(0), tensor(5), tensor(542955039341), tensor(3), tensor(953161420374), tensor(619777915707), tensor(777071138707), tensor(1088746732943), tensor(862461115095), tensor(1099511607040), tensor(696010115814), tensor(0), tensor(94129918267), tensor(201667317436), tensor(253132889673), tensor(141998846123), tensor(0), tensor(345559758185), tensor(579446835052), tensor(205908274571), tensor(0), tensor(751307382287), tensor(7), tensor(786152346344), tensor(412257379612), tensor(0), tensor(663208656339), tensor(325399726729), tensor(424943583949), tensor(0), tensor(282366400290), tensor(210100452058), tensor(157407659542), tensor(218833696588), tensor(90100090273), tensor(231806560044), tensor(6), tensor(679277905446), tensor(906435269970), tensor(2), tensor(558298795854), tensor(156311644629), tensor(695548467031), tensor(888737168291), tensor(1099511607038), tensor(108766042346), tensor(0), tensor(554549903773), tensor(321919303650), tensor(0), tensor(2), tensor(1073407868071), tensor(1099511607040), tensor(1), tensor(212059692116), tensor(0), tensor(64333924559), tensor(1099511607039), tensor(691308267185), tensor(997109630658), tensor(401545960724), tensor(549390896129), tensor(393249047214), tensor(1043266037311), tensor(0), tensor(157251306809), tensor(4254838387), tensor(0), tensor(249786858265), tensor(1084602957763), tensor(1022070199840), tensor(446403617923), tensor(455036065604), tensor(480656152305), tensor(476360036035), tensor(906083364156), tensor(59811043626), tensor(7), tensor(767425091255), tensor(5), tensor(668557132244), tensor(798767008729), tensor(609400366736), tensor(287376529363), tensor(872354727629), tensor(697699631434), tensor(826414123040), tensor(200822309510), tensor(16881110018), tensor(149937260498), tensor(4180905699), tensor(675610245488), tensor(846065883156), tensor(137413653048), tensor(258221186708), tensor(1099511619838), tensor(330681933074), tensor(1052174051684), tensor(876868913090), tensor(6885284233), tensor(0), tensor(178594136822), tensor(858975195707), tensor(0), tensor(579498915429), tensor(1099511619839), tensor(1), tensor(8), tensor(502471146231), tensor(80872018181), tensor(1), tensor(452818155810), tensor(103053597072), tensor(755863657235), tensor(764473449062), tensor(292042947701), tensor(1047956416466), tensor(30066720290), tensor(1099511619838), tensor(289740856736), tensor(519656206994), tensor(1099511619838), tensor(1), tensor(434255885540), tensor(6), tensor(917233472030), tensor(1099511619840), tensor(592673562653), tensor(0), tensor(5), tensor(576644262008), tensor(3), tensor(326405919286), tensor(758805053373), tensor(601279695948), tensor(1087816328095), tensor(29200734917), tensor(1099511619840), tensor(365804076140), tensor(0), tensor(833192376454), tensor(970630304514), tensor(468106189370), tensor(384372711985), tensor(0), tensor(590291406848), tensor(923383344569), tensor(493882527205), tensor(0), tensor(575471405410), tensor(7), tensor(605657888597), tensor(188958694450), tensor(0), tensor(897526397127), tensor(612023571793), tensor(579794655155), tensor(0), tensor(116488299902), tensor(450954391336), tensor(705597429780), tensor(399371389461), tensor(395125586183), tensor(953435739740), tensor(6), tensor(7065356700), tensor(783871247290), tensor(2), tensor(541128611891), tensor(155987972976), tensor(700025782800), tensor(435653166939), tensor(1099511619838), tensor(23914718256), tensor(0), tensor(563691537358), tensor(1060791476301), tensor(0), tensor(2), tensor(601269562014), tensor(1099511619840), tensor(1), tensor(129766510255), tensor(0), tensor(12835090367), tensor(1099511619839), tensor(919090923551), tensor(852909857794), tensor(154781305017), tensor(485278245823), tensor(977627488871), tensor(1026457492498), tensor(0), tensor(251569440055), tensor(794544109277), tensor(0), tensor(359869829283), tensor(585913180976), tensor(176050044121), tensor(730133610702), tensor(648491257847), tensor(94476706461), tensor(751617795040), tensor(579801036737), tensor(21439134110), tensor(7), tensor(267915467802), tensor(5), tensor(698327990852), tensor(532529986597), tensor(621349325179), tensor(193251894816), tensor(247425898518), tensor(786469753375), tensor(1084134911505), tensor(780272778325), tensor(1069409973886), tensor(549711294447), tensor(528234155299), tensor(610827535442)]]\n"
    }
   ],
   "source": [
    "encrypter = Encrypter(ctx, pk)\n",
    "ciphertext = encrypter.encrypt(plaintext)\n",
    "print(ciphertext)\n",
    "print('ciphertext data :', ciphertext.data)"
   ]
  },
  {
   "cell_type": "markdown",
   "metadata": {},
   "source": [
    "Encrypt Plaintext to ciphertext using secret_key"
   ]
  },
  {
   "cell_type": "code",
   "execution_count": 10,
   "metadata": {},
   "outputs": [
    {
     "output_type": "stream",
     "name": "stdout",
     "text": "[[tensor(223338295174), tensor(980472977070), tensor(2), tensor(717388761444), tensor(69253868208), tensor(326780750251), tensor(1099511607039), tensor(876513201903), tensor(979382042120), tensor(1), tensor(7), tensor(481193864120), tensor(77267322556), tensor(882771645584), tensor(0), tensor(77567442311), tensor(0), tensor(223024296723), tensor(1090788365599), tensor(700228820577), tensor(515736565916), tensor(139627584162), tensor(262013307312), tensor(1099511607040), tensor(804608544324), tensor(85689612406), tensor(116310563817), tensor(732173152214), tensor(386834992754), tensor(398687535810), tensor(1050360288377), tensor(1099511607039), tensor(958129113639), tensor(1099511607037), tensor(2), tensor(326802376877), tensor(0), tensor(1076020874582), tensor(0), tensor(1), tensor(1099511607040), tensor(0), tensor(298847048878), tensor(883492538673), tensor(738895992308), tensor(1005138318639), tensor(605776597071), tensor(1099511607039), tensor(704708506222), tensor(2), tensor(1099511607039), tensor(1099511607038), tensor(730281984153), tensor(365306975358), tensor(586450601485), tensor(327190229401), tensor(47581922207), tensor(1), tensor(1099511607037), tensor(4), tensor(871855612415), tensor(1099511607040), tensor(652902521867), tensor(988996512809), tensor(4), tensor(518399955667), tensor(1095647855925), tensor(1099511607040), tensor(0), tensor(934716537657), tensor(664441672259), tensor(55909370327), tensor(399483584978), tensor(1099511607037), tensor(236590724416), tensor(826845677450), tensor(730694133705), tensor(0), tensor(51962079379), tensor(936562893467), tensor(502843944946), tensor(1099511607040), tensor(1095280030077), tensor(893486125072), tensor(1091183162847), tensor(2), tensor(2), tensor(25863248787), tensor(1061257057679), tensor(40778777969), tensor(932164329090), tensor(1099511607039), tensor(4), tensor(206221092296), tensor(1), tensor(772842732710), tensor(0), tensor(1099511607040), tensor(476980389120), tensor(599911481871), tensor(243528135290), tensor(1099511607040), tensor(81604667418), tensor(492330170732), tensor(1099511607038), tensor(35252998094), tensor(81671724007), tensor(756112460710), tensor(0), tensor(0), tensor(0), tensor(8817857166), tensor(1099511607036), tensor(756144274213), tensor(996717705573), tensor(596265655753), tensor(84286446574), tensor(1099511607038), tensor(2), tensor(0), tensor(244890477554), tensor(2), tensor(51790791397), tensor(678998511019), tensor(197852644821), tensor(511345783995), tensor(1), tensor(0), tensor(223338297774), tensor(764754530889), tensor(2), tensor(1073751711107), tensor(918907288311), tensor(111692560967), tensor(1099511619839), tensor(992191334067), tensor(618508508116), tensor(1), tensor(7), tensor(1026536529739), tensor(552321009129), tensor(377579331401), tensor(0), tensor(940609074123), tensor(0), tensor(756642456852), tensor(820410657244), tensor(884767984272), tensor(266357050432), tensor(388341749411), tensor(360830754124), tensor(1099511619840), tensor(1018547637110), tensor(251014039684), tensor(747375784771), tensor(876680317780), tensor(201911199524), tensor(517814650336), tensor(552013293247), tensor(1099511619839), tensor(794602636197), tensor(1099511619837), tensor(2), tensor(365082386751), tensor(0), tensor(766921638658), tensor(0), tensor(1), tensor(1099511619840), tensor(0), tensor(182621555001), tensor(424192666354), tensor(399480904245), tensor(176142095616), tensor(150348868554), tensor(1099511619839), tensor(309269954152), tensor(2), tensor(1099511619839), tensor(1099511619838), tensor(1082374205588), tensor(614232693931), tensor(507658190308), tensor(328554849656), tensor(146068130318), tensor(1), tensor(1099511619837), tensor(4), tensor(314749885694), tensor(1099511619840), tensor(98013796440), tensor(639150892117), tensor(4), tensor(503438275385), tensor(717311357612), tensor(1099511619840), tensor(0), tensor(500838104665), tensor(492046793237), tensor(193312186106), tensor(545481263320), tensor(1099511619837), tensor(962122502960), tensor(76733244808), tensor(777382167059), tensor(0), tensor(674345904659), tensor(466071963922), tensor(1000764979459), tensor(1099511619840), tensor(661871358717), tensor(712989366807), tensor(236288643265), tensor(2), tensor(2), tensor(713027134663), tensor(524050299530), tensor(505334066818), tensor(60142527018), tensor(1099511619839), tensor(4), tensor(901943563223), tensor(1), tensor(749621379357), tensor(0), tensor(1099511619840), tensor(545515231858), tensor(497301718188), tensor(671563149464), tensor(1099511619840), tensor(446684751841), tensor(858618558360), tensor(1099511619838), tensor(955817722007), tensor(468164989663), tensor(734493226886), tensor(0), tensor(0), tensor(0), tensor(493988155060), tensor(1099511619836), tensor(116024325345), tensor(871890369655), tensor(1093761368949), tensor(175530940846), tensor(1099511619838), tensor(2), tensor(0), tensor(120303187563), tensor(2), tensor(55871212873), tensor(241257001744), tensor(300692099807), tensor(983586135384), tensor(1), tensor(0)], tensor([ 681711462692,  119038629971,  983649793930,  311241663318,\n        1030257738830,  947234441072,  628125464595,  889251704437,\n         350636213213,  960956224155,  264530173833,  401311611203,\n        1022244284485,  216739961452,  742394155029,  676216065630,\n         388292466801,  876487310317,    8723241443,  368080571521,\n         850277311552,  959884022879,   48001152054,  705897359849,\n         294903062718, 1013821994635,  883338222075,  367338454828,\n         743999424064,  700824071229,   49151318662,  246246709866,\n         907023363066,   26420668786,  736549132315,  964429218748,\n         632810579111,   23490732459,  352681873894,  435381995567,\n          54718718534,  841086928299,  800664558163,  216019068369,\n         403395267758,  278274079406,  465957629853,  238934871508,\n         864961788454,  470664583635,   51570745202,  554103825155,\n         341621641155,  613185443247,  513061005554,  772321377638,\n         853007711099,  487455937575,  634179093795,  741315570106,\n         227655994631,  849064265726,  446609085173,  110515094233,\n         155887693646,  581111651373, 1092251189164,  224443762246,\n         216284858442,  164795069385,  435069934782,  210395584855,\n         151608046077,  807174583060,  957888092872,  272665929601,\n         368817473334, 1093704637157, 1066432407335,  162948713574,\n         858537525302,  160963502816,    4231576968,  342790973772,\n         689837295532,    7086534317,  315374578460,  254034708296,\n        1016953427576, 1058732829073,  412463004390,  851199828683,\n         186000807404,  172599167874,  899630295198,  326668874331,\n         715637340238,  334213254850,  625968948766,  499600125173,\n         855983471752,  372970868388,     587263271,  607181436307,\n        1055982969881, 1064258608948,  189558981343,  526930973047,\n         340477661932,  998745166451, 1032438943065,  598638445736,\n         458029125727,  587068815201,  731888379214,  503245951289,\n        1015225160463,  791831264148,  336740458089,  378262185788,\n         190742926594,  605298136944,  632639055488,  420513096022,\n         716424676250,  606788976242,  715359933020,  805936228044,\n         104052610938,  334757088952,  411198772788,  252425429413,\n         180604331527,  281965155639,  538958176227, 1078985191458,\n         663299244424,  878244618530,  192912634809,  705195684903,\n         547190610712,  721932288435,  381843187444,  325420263677,\n          93513366356,  342869162988,  279100962598,  216653286318,\n        1086667124196,  711169870430,  838262314731,  403194540024,\n          80963982732,  848497580157,  861445076107,  222831302062,\n         854445635130,  581696969503,  547498326592, 1053051277651,\n         700727539816,  923822229341,  399652806971,   86089134255,\n         160113509142,  332589981183,  869793895840,  456458323457,\n         479838738225,  368686456965,  916890064840,  675318953488,\n         901990752678,  930778295614,  423004734642,  440708721824,\n         561432912444,  734149605547,  998359244008,  230755620222,\n         783896199085, 1024628604051,  591853429531,  770956770183,\n         573887825985,  248803542860,   69031313033,  566355013482,\n         784761734152,  902645453492, 1001497823400,  460360727725,\n         953645471128,  596073344455,  783721029829,  273218050972,\n         744390484300,  598673515177,  607464826604,  743881034995,\n         427898807528,  463042181981,  859530937954, 1022778375043,\n         322129452780,  613397556715,  484316200638,  633439655919,\n         755757571158,  730969840109,  437640261128,  449259360445,\n        1030412704458,  911709502492,  394855262007, 1003316177422,\n        1023382303075,  594177553024,  292892847214,  829449799453,\n         649182620499,  115655940380,  945995546653,  349890240484,\n         147844962070,  987835034931,  969067661253,  602209901656,\n         427948470378,  798741907513,   15442310994,  240893061479,\n         117474520885,  143693897835,  343373171342,  927529088940,\n         650195470980,  460110850735,  166190962305, 1087386342748,\n         980409418268,  960014303471,  338573619457,    5750250893,\n         923980678991,  532752505202,  369208046911,   51977922927,\n         860665991858,  856871713443,  624163657698,  858254618097,\n         901835209034,  599068373311,  897156865860,  279968188607])]\n"
    }
   ],
   "source": [
    "encrypter_symmetric = Encrypter(ctx, sk)\n",
    "ciphertext_symmetric = encrypter_symmetric.encrypt(plaintext)\n",
    "print(ciphertext_symmetric.data)"
   ]
  },
  {
   "cell_type": "markdown",
   "metadata": {},
   "source": [
    "## Decrypter\n",
    "Decrypt Ciphertext to Plaintext using secret_key"
   ]
  },
  {
   "cell_type": "code",
   "execution_count": 11,
   "metadata": {},
   "outputs": [
    {
     "output_type": "stream",
     "name": "stdout",
     "text": "len :  2\n[tensor(31), tensor(34)]\n<syft.frameworks.torch.he.fv.plaintext.PlainText object at 0x1066afc10>\n"
    }
   ],
   "source": [
    "decrypter = Decrypter(ctx, sk)\n",
    "result = decrypter.decrypt(ciphertext)\n",
    "print(\"len : \",len(result.data))\n",
    "print(result.data)\n",
    "print(result)"
   ]
  },
  {
   "cell_type": "code",
   "execution_count": 12,
   "metadata": {},
   "outputs": [
    {
     "output_type": "stream",
     "name": "stdout",
     "text": "tensor(-29)\n"
    }
   ],
   "source": [
    "print(int_encoder.decode(result))"
   ]
  }
 ],
 "metadata": {
  "file_extension": ".py",
  "kernelspec": {
   "display_name": "Python 3.7.6 64-bit ('venv': venv)",
   "language": "python",
   "name": "python37664bitvenvvenva1c7c9103a204810a3f3af5ae87f2655"
  },
  "language_info": {
   "codemirror_mode": {
    "name": "ipython",
    "version": 3
   },
   "file_extension": ".py",
   "mimetype": "text/x-python",
   "name": "python",
   "nbconvert_exporter": "python",
   "pygments_lexer": "ipython3",
   "version": "3.7.6-final"
  },
  "mimetype": "text/x-python",
  "name": "python",
  "npconvert_exporter": "python",
  "pygments_lexer": "ipython3",
  "version": 3
 },
 "nbformat": 4,
 "nbformat_minor": 2
}
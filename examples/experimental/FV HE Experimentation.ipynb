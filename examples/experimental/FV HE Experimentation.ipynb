{
 "cells": [
  {
   "cell_type": "markdown",
   "metadata": {},
   "source": [
    "# Testing Individual components of the FV HE scheme"
   ]
  },
  {
   "cell_type": "code",
   "execution_count": 1,
   "metadata": {},
   "outputs": [
    {
     "name": "stderr",
     "output_type": "stream",
     "text": [
      "Falling back to insecure randomness since the required custom op could not be found for the installed version of TensorFlow. Fix this by compiling custom ops. Missing file was '/Users/ravikantsingh/Desktop/PySyft/venv/lib/python3.7/site-packages/tf_encrypted/operations/secure_random/secure_random_module_tf_1.15.2.so'\n"
     ]
    },
    {
     "name": "stdout",
     "output_type": "stream",
     "text": [
      "WARNING:tensorflow:From /Users/ravikantsingh/Desktop/PySyft/venv/lib/python3.7/site-packages/tf_encrypted/session.py:24: The name tf.Session is deprecated. Please use tf.compat.v1.Session instead.\n",
      "\n"
     ]
    }
   ],
   "source": [
    "from syft.frameworks.torch.he.fv.modulus import CoeffModulus\n",
    "from syft.frameworks.torch.he.fv.encryption_params import EncryptionParams\n",
    "from syft.frameworks.torch.he.fv.context import Context\n",
    "from syft.frameworks.torch.he.fv.integer_encoder import IntegerEncoder\n",
    "from syft.frameworks.torch.he.fv.key_generator import KeyGenerator\n",
    "from syft.frameworks.torch.he.fv.encrypter import Encrypter\n",
    "from syft.frameworks.torch.he.fv.integer_encoder import IntegerEncoder"
   ]
  },
  {
   "cell_type": "markdown",
   "metadata": {},
   "source": [
    "## Generates coeff_modulus using Polymodulus degree and bit-length parameters.\n",
    "Generates random integer of the given bit length for using as coeff_modulus"
   ]
  },
  {
   "cell_type": "code",
   "execution_count": 2,
   "metadata": {},
   "outputs": [
    {
     "name": "stdout",
     "output_type": "stream",
     "text": [
      "coeff_modulus:  [1073692673, 1125899906826241, 1152921504606830593]\n"
     ]
    }
   ],
   "source": [
    "params = EncryptionParams()\n",
    "params.poly_modulus_degree = 1024\n",
    "params.plain_modulus = 64\n",
    "cm = CoeffModulus()\n",
    "params.coeff_modulus = cm.create(4096, [30, 50, 60])\n",
    "print(\"coeff_modulus: \", params.coeff_modulus)"
   ]
  },
  {
   "cell_type": "markdown",
   "metadata": {},
   "source": [
    "## Use standard values of coeff_modulus for the given Poly Modulus degree and security_level.\n",
    "Need some refractoring and integration of code."
   ]
  },
  {
   "cell_type": "code",
   "execution_count": 3,
   "metadata": {},
   "outputs": [],
   "source": [
    "# params_standard = EncryptionParams()\n",
    "# params_standard.poly_modulus_degree = 1024\n",
    "# params_standard.plain_modulus = 64\n",
    "# cm_standard = CoeffModulus()\n",
    "# params.coeff_modulus = cm_standard.bfv_default(poly_modulus, seq_level)\n",
    "# print(\"coeff_modulus: \", params.coeff_modulus)"
   ]
  },
  {
   "cell_type": "markdown",
   "metadata": {},
   "source": [
    "## Keygeneration"
   ]
  },
  {
   "cell_type": "code",
   "execution_count": 4,
   "metadata": {},
   "outputs": [],
   "source": [
    "ctx = Context(params)\n",
    "keygenerator = KeyGenerator(ctx)\n",
    "sk, pk = keygenerator.keygen()"
   ]
  },
  {
   "cell_type": "code",
   "execution_count": 5,
   "metadata": {},
   "outputs": [
    {
     "name": "stdout",
     "output_type": "stream",
     "text": [
      "secret key values :  tensor([         1073692672,                   0,          1073692672,\n",
      "         ...,                   1,                   1,\n",
      "        1152921504606830592])\n",
      " <syft.frameworks.torch.he.fv.plaintext.PlainText object at 0x145d70fd0>\n"
     ]
    }
   ],
   "source": [
    "print('secret key values : ', sk.data)\n",
    "print(sk)"
   ]
  },
  {
   "cell_type": "code",
   "execution_count": 6,
   "metadata": {},
   "outputs": [
    {
     "name": "stdout",
     "output_type": "stream",
     "text": [
      "public key values :  [tensor([         626823032,         1073692671,          430622948,\n",
      "         ...,  43901817688109317, 582861923654278665,\n",
      "        539320566441181175]), tensor([          626823040,           781198415,           430622943,\n",
      "         ..., 1109019686918721280,  570059580952551925,\n",
      "         168354953588013859])]\n",
      " <syft.frameworks.torch.he.fv.ciphertext.CipherText object at 0x145d70e90>\n"
     ]
    }
   ],
   "source": [
    "print('public key values : ', pk.data)\n",
    "print(pk)"
   ]
  },
  {
   "cell_type": "markdown",
   "metadata": {},
   "source": [
    "## Integer Encoder\n",
    "Encodes Integer values to Plaintext object"
   ]
  },
  {
   "cell_type": "code",
   "execution_count": 13,
   "metadata": {},
   "outputs": [
    {
     "name": "stdout",
     "output_type": "stream",
     "text": [
      "<syft.frameworks.torch.he.fv.plaintext.PlainText object at 0x145d99f10>\n",
      "plaintext data [0, 1, 1]\n"
     ]
    }
   ],
   "source": [
    "int_encoder = IntegerEncoder(ctx)\n",
    "plaintext = int_encoder.encode(6)\n",
    "print(plaintext)\n",
    "print('plaintext data',plaintext.data)"
   ]
  },
  {
   "cell_type": "markdown",
   "metadata": {},
   "source": [
    "### Decodes back to Integer"
   ]
  },
  {
   "cell_type": "code",
   "execution_count": 8,
   "metadata": {},
   "outputs": [
    {
     "name": "stdout",
     "output_type": "stream",
     "text": [
      "6\n"
     ]
    }
   ],
   "source": [
    "print(int_encoder.decode(plaintext))"
   ]
  },
  {
   "cell_type": "markdown",
   "metadata": {},
   "source": [
    "## Encrypter\n",
    "Encrypt Plaintext to ciphertext using public_key"
   ]
  },
  {
   "cell_type": "code",
   "execution_count": 14,
   "metadata": {},
   "outputs": [
    {
     "name": "stdout",
     "output_type": "stream",
     "text": [
      "<syft.frameworks.torch.he.fv.plaintext.PlainText object at 0x13691ee90>\n",
      "ciphertext data : [tensor([          480422528,                   2,                   2,\n",
      "         ..., 1152921504606830591,                   0,\n",
      "        1692242071048011761]), tensor([          446869636,          1366186922,                   1,\n",
      "         ..., 1152921504606830591, 1152921504606830591,\n",
      "         168354953588013860])]\n"
     ]
    }
   ],
   "source": [
    "encrypter = Encrypter(ctx, pk)\n",
    "ciphertext = encrypter.encrypt(plaintext)\n",
    "print(ciphertext)\n",
    "print('ciphertext data :', ciphertext.data)"
   ]
  },
  {
   "cell_type": "markdown",
   "metadata": {},
   "source": [
    "Encrypt Plaintext to ciphertext using secret_key"
   ]
  },
  {
   "cell_type": "code",
   "execution_count": 10,
   "metadata": {},
   "outputs": [],
   "source": [
    "# TODO Need some changes.\n",
    "\n",
    "# encrypter_symmetric = Encrypter(ctx, sk)\n",
    "# ciphertext_symmetric = encrypter_symmetric.encrypt(plaintext)\n",
    "# print(ciphertext_symmetric)"
   ]
  }
 ],
 "metadata": {
  "file_extension": ".py",
  "kernelspec": {
   "display_name": "Python 3.7.6 64-bit ('venv': venv)",
   "language": "python",
   "name": "python37664bitvenvvenva1c7c9103a204810a3f3af5ae87f2655"
  },
  "language_info": {
   "codemirror_mode": {
    "name": "ipython",
    "version": 3
   },
   "file_extension": ".py",
   "mimetype": "text/x-python",
   "name": "python",
   "nbconvert_exporter": "python",
   "pygments_lexer": "ipython3",
   "version": "3.7.6"
  },
  "mimetype": "text/x-python",
  "name": "python",
  "npconvert_exporter": "python",
  "pygments_lexer": "ipython3",
  "version": 3
 },
 "nbformat": 4,
 "nbformat_minor": 2
}

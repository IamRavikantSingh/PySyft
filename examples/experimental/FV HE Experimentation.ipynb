{
 "cells": [
  {
   "cell_type": "markdown",
   "metadata": {},
   "source": [
    "# Testing Individual components of the FV HE scheme"
   ]
  },
  {
   "cell_type": "code",
   "execution_count": 1,
   "metadata": {},
   "outputs": [],
   "source": [
    "import random\n",
    "\n",
    "from syft.frameworks.torch.he.fv.modulus import CoeffModulus\n",
    "from syft.frameworks.torch.he.fv.encryption_params import EncryptionParams\n",
    "from syft.frameworks.torch.he.fv.context import Context\n",
    "from syft.frameworks.torch.he.fv.integer_encoder import IntegerEncoder\n",
    "from syft.frameworks.torch.he.fv.key_generator import KeyGenerator\n",
    "from syft.frameworks.torch.he.fv.encryptor import Encryptor\n",
    "from syft.frameworks.torch.he.fv.decryptor import Decryptor\n",
    "from syft.frameworks.torch.he.fv.integer_encoder import IntegerEncoder\n",
    "from syft.frameworks.torch.he.fv.modulus import SeqLevelType\n",
    "from syft.frameworks.torch.he.fv.evaluator import Evaluator"
   ]
  },
  {
   "cell_type": "markdown",
   "metadata": {},
   "source": [
    "## Keygeneration"
   ]
  },
  {
   "cell_type": "code",
   "execution_count": 2,
   "metadata": {},
   "outputs": [],
   "source": [
    "poly_modulus = 64\n",
    "bit_sizes= [40]\n",
    "plain_modulus = 64\n",
    "ctx = Context(EncryptionParams(poly_modulus, CoeffModulus().create(poly_modulus, bit_sizes), plain_modulus))\n",
    "keygenerator = KeyGenerator(ctx)\n",
    "sk, pk = keygenerator.keygen()"
   ]
  },
  {
   "cell_type": "code",
   "execution_count": 3,
   "metadata": {
    "tags": []
   },
   "outputs": [
    {
     "output_type": "stream",
     "name": "stdout",
     "text": "secret key values :  [[1099511623296, 1, 1099511623296, 1, 1, 1099511623296, 1099511623296, 1, 0, 1, 0, 1, 1, 1, 1, 0, 1, 0, 0, 1, 1, 1, 0, 1099511623296, 0, 1, 1, 1099511623296, 0, 1099511623296, 1099511623296, 1, 1, 1099511623296, 0, 1099511623296, 0, 1, 1099511623296, 1099511623296, 1, 1, 1099511623296, 1, 0, 0, 1, 1099511623296, 1, 1099511623296, 1099511623296, 1, 1099511623296, 1, 1, 1, 1, 0, 0, 0, 1099511623296, 1, 0, 1]]\n"
    }
   ],
   "source": [
    "# print(len(sk.data))\n",
    "print('secret key values : ', sk.data)"
   ]
  },
  {
   "cell_type": "code",
   "execution_count": 4,
   "metadata": {},
   "outputs": [],
   "source": [
    "# print(pk.data)\n",
    "# print('public key values : ', pk.data)"
   ]
  },
  {
   "cell_type": "markdown",
   "metadata": {},
   "source": [
    "## Integer Encoder\n",
    "Encodes Integer values to Plaintext object"
   ]
  },
  {
   "cell_type": "code",
   "execution_count": 5,
   "metadata": {
    "tags": []
   },
   "outputs": [
    {
     "output_type": "stream",
     "name": "stdout",
     "text": "[1]     [1]     [1, 0, 0, 1]\n"
    }
   ],
   "source": [
    "int_encoder = IntegerEncoder(ctx)\n",
    "ri1 = random.randint(0,10)\n",
    "ri2 = random.randint(0,10)\n",
    "ri3 = random.randint(0,10)\n",
    "pt1 = int_encoder.encode(ri1)\n",
    "pt2 = int_encoder.encode(ri2)\n",
    "pt3 = int_encoder.encode(ri3)\n",
    "print(pt1.data,\"   \", pt2.data, \"   \", pt3.data)\n",
    "# print('plaintext data',plaintext.data)"
   ]
  },
  {
   "cell_type": "markdown",
   "metadata": {},
   "source": [
    "### Decodes back to Integer"
   ]
  },
  {
   "cell_type": "code",
   "execution_count": 6,
   "metadata": {
    "tags": []
   },
   "outputs": [
    {
     "output_type": "stream",
     "name": "stdout",
     "text": "1\n1\n9\n"
    }
   ],
   "source": [
    "print(int_encoder.decode(pt1))\n",
    "print(int_encoder.decode(pt2))\n",
    "print(int_encoder.decode(pt3))"
   ]
  },
  {
   "cell_type": "markdown",
   "metadata": {},
   "source": [
    "## Encrypter\n",
    "Encrypt Plaintext to ciphertext using public_key"
   ]
  },
  {
   "cell_type": "code",
   "execution_count": 7,
   "metadata": {},
   "outputs": [],
   "source": [
    "encrypter = Encryptor(ctx, pk)"
   ]
  },
  {
   "cell_type": "code",
   "execution_count": 8,
   "metadata": {
    "tags": []
   },
   "outputs": [],
   "source": [
    "ct1 = encrypter.encrypt(pt1)\n",
    "ct2 = encrypter.encrypt(pt2)\n",
    "ct3 = encrypter.encrypt(pt3)"
   ]
  },
  {
   "cell_type": "markdown",
   "metadata": {},
   "source": [
    "Encrypt Plaintext to ciphertext using secret_key"
   ]
  },
  {
   "cell_type": "markdown",
   "metadata": {},
   "source": [
    "## Decryptor\n",
    "Decrypt Ciphertext to Plaintext using secret_key"
   ]
  },
  {
   "cell_type": "code",
   "execution_count": 9,
   "metadata": {},
   "outputs": [],
   "source": [
    "decrypter = Decryptor(ctx, sk)"
   ]
  },
  {
   "cell_type": "code",
   "execution_count": 10,
   "metadata": {
    "tags": []
   },
   "outputs": [],
   "source": [
    "dec1 = decrypter.decrypt(ct1)\n",
    "dec2 = decrypter.decrypt(ct2)\n",
    "dec3 = decrypter.decrypt(ct3)"
   ]
  },
  {
   "cell_type": "code",
   "execution_count": 11,
   "metadata": {
    "tags": []
   },
   "outputs": [
    {
     "output_type": "stream",
     "name": "stdout",
     "text": "1     1     9\n"
    }
   ],
   "source": [
    "print(int_encoder.decode(dec1), \"   \", int_encoder.decode(dec2), \"   \", int_encoder.decode(dec3))"
   ]
  },
  {
   "cell_type": "markdown",
   "metadata": {},
   "source": [
    "## Evaluator"
   ]
  },
  {
   "cell_type": "code",
   "execution_count": 12,
   "metadata": {},
   "outputs": [],
   "source": [
    "eval = Evaluator(ctx)"
   ]
  },
  {
   "cell_type": "code",
   "execution_count": 13,
   "metadata": {
    "tags": []
   },
   "outputs": [
    {
     "output_type": "stream",
     "name": "stdout",
     "text": "2\n"
    }
   ],
   "source": [
    "cc12 = eval.add(ct1, ct2)\n",
    "cc12 = decrypter.decrypt(cc12)\n",
    "print(int_encoder.decode(cc12))"
   ]
  },
  {
   "cell_type": "code",
   "execution_count": 14,
   "metadata": {
    "tags": []
   },
   "outputs": [
    {
     "output_type": "stream",
     "name": "stdout",
     "text": "2\n"
    }
   ],
   "source": [
    "pc12 = eval.add(pt1, ct2)\n",
    "pc12 = decrypter.decrypt(pc12)\n",
    "print(int_encoder.decode(pc12))"
   ]
  },
  {
   "cell_type": "code",
   "execution_count": 15,
   "metadata": {
    "tags": []
   },
   "outputs": [
    {
     "output_type": "stream",
     "name": "stdout",
     "text": "2\n"
    }
   ],
   "source": [
    "pp12 = eval.add(pt1, pt2)\n",
    "print(int_encoder.decode(pp12))"
   ]
  },
  {
   "cell_type": "markdown",
   "metadata": {},
   "source": [
    "### Verify result"
   ]
  },
  {
   "cell_type": "code",
   "execution_count": 16,
   "metadata": {},
   "outputs": [],
   "source": [
    "assert int_encoder.decode(cc12) == int_encoder.decode(pc12) == int_encoder.decode(pp12) == ri1+ri2"
   ]
  },
  {
   "cell_type": "code",
   "execution_count": 17,
   "metadata": {
    "tags": []
   },
   "outputs": [
    {
     "output_type": "stream",
     "name": "stdout",
     "text": "\n\nct1 : [[[90979862835, 1052149874892, 38398099035, 700880002771, 898593201206, 681273170635, 884198174502, 335666540504, 219006038581, 723803820947, 944654992253, 129590741525, 144805372829, 291895483343, 1043484675649, 291646129027, 79067129309, 999036565951, 255484132947, 5408417257, 215498146307, 440565260989, 321865633612, 158748997911, 953086709055, 528518474672, 506038193381, 384721722711, 361817151887, 173099647271, 406367772597, 533784475308, 686120981266, 852880015973, 822706788918, 113020698147, 973150471798, 940679336244, 569147484651, 95039604550, 1004704997085, 73845137664, 1079234407474, 980766395864, 986106147323, 650865009575, 682857749796, 914843701407, 444249598275, 763871993020, 838406283506, 1010743825047, 675542354965, 112204032658, 354956906415, 592095637683, 516585826097, 153788493227, 609180315128, 612170358135, 138665341756, 406413528644, 587037733296, 35476242117]], [[786103533508, 1045935361475, 516289190285, 872730636179, 354457471095, 87012680049, 187932771882, 512775889349, 700168533716, 661284258666, 454758826911, 891686686954, 559588192072, 233188851663, 573238742845, 779511121297, 333238634765, 1096220522243, 719971567565, 278686679455, 130578869369, 92826391761, 987758535918, 945502545826, 135676702605, 880771941959, 305132769228, 142706126579, 596128934908, 592032602767, 711841523765, 1053161087633, 746951019506, 433782551542, 456238140692, 392082055720, 615447867798, 469286080780, 767964161973, 670132203851, 211792612690, 593069107062, 258089537999, 434577987124, 789159841440, 593684782032, 701521794369, 565791694073, 555683540926, 898019941476, 171140554143, 206950848753, 91636956465, 143930414194, 461458919459, 833858134420, 216132499041, 623188793062, 616725355615, 1077126952489, 287913480515, 603634187042, 866509703750, 154788754906]]]\n\n\nct2 : [[[306997480724, 288909726291, 669959230718, 925371234638, 250024703563, 283001517218, 774118771814, 374815467699, 553657067288, 753918938625, 670318643640, 56051790541, 1041979954573, 499112198892, 115151774116, 838405997547, 976975794317, 1031252067998, 420259331528, 6579495934, 552815869554, 5442198534, 612115536782, 350007184332, 208552863630, 549750119948, 187052506845, 975556042992, 777337076783, 210595262283, 593605705509, 1089365380015, 486722781515, 224258041111, 227483073824, 607989766268, 602677488152, 30586510900, 1033859111249, 95064136057, 438865701495, 625753752446, 373578811476, 738298235350, 1028772561450, 1019423912500, 432473840723, 25389147395, 969423607436, 999492574042, 664919435075, 444346143055, 48598568612, 603661125134, 173526974091, 974347614761, 737899347121, 515136932795, 983951198454, 509933629252, 475421913471, 96747330934, 848596194054, 18911873464]], [[443571322518, 247603061436, 701288737823, 649191373076, 790513096700, 1075415494118, 912980112069, 799908499261, 979749614426, 488264054571, 1071340711036, 976312330796, 459967108186, 622850110653, 616872907840, 693936903502, 975783463925, 25291619178, 457275500410, 171814993080, 934862257548, 17885221507, 221212251731, 602284874386, 793663178132, 222109080897, 877142737373, 899782735947, 420467637076, 391129887803, 260911717751, 33578373150, 465484392836, 154953668858, 331999008190, 1077200928542, 1093898750064, 702651961977, 1050911751187, 994532795793, 302045637765, 409542405926, 637110658212, 659032557755, 772662352032, 1061680867696, 225403862079, 741904881375, 209800764012, 137761423470, 641040054324, 1003860947610, 170537195512, 825914539302, 619933315798, 619761621307, 503369902511, 199945750461, 320452956958, 34703838940, 350360854258, 330721317210, 276879157854, 33359086325]]]\n\n\n\nfinal result:  1\n"
    }
   ],
   "source": [
    "result = eval._mul_cipher_cipher(ct1, ct2)\n",
    "print(\"\\n\\nct1 :\",ct1.data)\n",
    "print(\"\\n\\nct2 :\",ct2.data)\n",
    "print('\\n\\n')\n",
    "\n",
    "result = decrypter.decrypt(result)\n",
    "result = int_encoder.decode(result)\n",
    "\n",
    "print('final result: ', result)"
   ]
  },
  {
   "cell_type": "code",
   "execution_count": 18,
   "metadata": {
    "tags": []
   },
   "outputs": [
    {
     "output_type": "stream",
     "name": "stdout",
     "text": "1      1\n"
    }
   ],
   "source": [
    "print(ri1 * ri2, \"    \", result)\n",
    "assert ri1 * ri2 == result"
   ]
  },
  {
   "cell_type": "code",
   "execution_count": null,
   "metadata": {},
   "outputs": [],
   "source": []
  },
  {
   "cell_type": "code",
   "execution_count": 39,
   "metadata": {
    "tags": []
   },
   "outputs": [
    {
     "output_type": "stream",
     "name": "stderr",
     "text": "WARNING:root:Torch was already hooked... skipping hooking process\n"
    }
   ],
   "source": [
    "import syft as sy\n",
    "import torch as th\n",
    "hook = sy.TorchHook(th)\n",
    "from syft.frameworks.torch.he.fv.context import Context\n",
    "from syft.frameworks.torch.he.fv.encryption_params import EncryptionParams\n",
    "context = Context(EncryptionParams(128, CoeffModulus().create(64, [30, 30]), 64))"
   ]
  },
  {
   "cell_type": "code",
   "execution_count": 40,
   "metadata": {
    "tags": []
   },
   "outputs": [
    {
     "output_type": "stream",
     "name": "stdout",
     "text": "[[[[453695769, 552930889, 693947014, 674231369, 984351982, 1064425845, 40644867, 462614856, 1019748881, 947852071, 126206589, 414864002, 1009635783, 972298090, 894077716, 634929242, 566380008, 776522442, 623511219, 444019581, 308375216, 307699888, 591457056, 867305169, 457406749, 398698831, 62499734, 889470614, 384511411, 307052309, 538087952, 717416371, 22084996, 919918420, 600280609, 976074662, 856234064, 1018218603, 129810937, 1009462116, 719852135, 359396518, 79722314, 656983599, 446827454, 917638423, 978854444, 179752550, 864401749, 1034846981, 7510516, 663253628, 670367598, 962565306, 29447587, 35915693, 520623830, 985356566, 6051708, 43701912, 976765781, 717079461, 103948104, 815597593, 414667244, 593486504, 909525037, 921067801, 831396938, 417299932, 933700441, 79905604, 728979568, 49084434, 577286368, 495480635, 860498407, 696603025, 124150923, 632009697, 719333405, 365014698, 508309905, 998894013, 929667664, 894148802, 303372541, 31040486, 598849110, 1067437187, 745847319, 220387801, 937766814, 299347089, 354777851, 36432960, 787578068, 802077138, 274624954, 67070604, 706092823, 779867196, 715446595, 943237856, 292006298, 119104200, 116806336, 52355644, 674795306, 262866406, 1036760842, 324607574, 928385640, 498198733, 1028932089, 319347873, 735214615, 166887243, 249075198, 753985993, 375861602, 768345442, 510915347, 495873125, 378149541, 410576147, 667036947, 447005583], [547081420, 352180110, 236064594, 192780375, 676218398, 181470481, 877497959, 11174124, 54767999, 293529305, 654456403, 940010259, 674292437, 692114172, 346349920, 402675989, 851594431, 944912766, 679935006, 403744184, 1039219452, 692524541, 118377690, 943899048, 581946292, 599393411, 870323386, 1012830122, 630925895, 551119943, 843552385, 161392645, 638934931, 854468007, 28973853, 921316035, 640432916, 339623529, 1004508250, 625802093, 41696991, 1058116762, 625372397, 445354615, 642997536, 535164372, 562128625, 547314794, 285186229, 359013743, 1018797906, 957531647, 254227931, 245433915, 993494365, 884632780, 280344618, 699270531, 449850081, 119641900, 108143021, 105337553, 604047411, 1035572140, 822513557, 226254345, 625398486, 94104484, 949869167, 1055383508, 342769321, 434368588, 438168152, 851015588, 473328546, 1055690658, 424606949, 614801030, 406575570, 173440312, 478653586, 777299716, 579868634, 430048615, 150542173, 803323232, 745114530, 298079762, 317864042, 858346612, 788555521, 48707662, 554349491, 493606388, 322876487, 957923102, 976202250, 253083344, 222058089, 174097360, 334527609, 175957232, 445831575, 273968113, 146790990, 1021285970, 565749682, 973432725, 751767392, 916669050, 478424717, 593736877, 795517489, 336652043, 539756420, 168142737, 1071425769, 574496813, 933466474, 76509004, 13170332, 643783997, 405231916, 584693471, 218144906, 174179344, 64474899, 1035805026]], [[145456828, 399047064, 431777807, 977223363, 427049242, 958180380, 465638991, 760377515, 482652128, 628289098, 724544096, 346262706, 752591323, 193610887, 994059905, 881212937, 111218338, 996926730, 308362239, 494355825, 434942200, 246885765, 640897505, 33183647, 948950165, 784332155, 736637509, 963628672, 1024393509, 491193853, 963022449, 575833465, 110877971, 886721337, 378123287, 669191333, 653703749, 430593982, 255591290, 67417435, 118255877, 1057830008, 146564642, 276495629, 17014797, 939056192, 330997274, 549263487, 162835267, 681232288, 367077909, 534273950, 1048855652, 651883059, 863050795, 440649171, 685459784, 162606394, 49728694, 484854653, 645991564, 439373445, 121467230, 613374935, 1026407562, 337730160, 912605559, 3941933, 411002750, 731128780, 334305899, 563743006, 293621040, 275115961, 905636853, 8575714, 607990498, 14852783, 333479812, 218651575, 1044120767, 44673688, 438812312, 574746949, 682228547, 615542172, 814434729, 717007452, 795173340, 322207077, 269584144, 1040732283, 910989273, 423877055, 780351429, 591568262, 991139957, 158958054, 458768241, 354827019, 818152668, 1034110173, 289506553, 504278858, 124149735, 1019300945, 289221643, 717623435, 1065043887, 862196304, 79394392, 780967603, 502044849, 130335282, 1023625287, 579705985, 817139235, 91485082, 183787266, 1026746177, 139925565, 488829184, 477639947, 313891938, 245866661, 335883953, 948251472, 539152722], [352332768, 541674166, 425734534, 574916256, 275028025, 697855639, 596360559, 75581178, 72818928, 772482768, 540289973, 978903595, 48510197, 198656254, 289799077, 788618148, 577865860, 455198234, 152646653, 392454516, 528796496, 547405471, 308250360, 1014652021, 715740704, 167455984, 88699463, 349895795, 392683187, 76069193, 470728333, 367117612, 656658606, 339263502, 88237588, 56549016, 62872139, 1005916518, 326710374, 358876512, 6781672, 270921382, 348605552, 858558946, 816290949, 441273559, 855419540, 679032315, 967599822, 238170995, 597130255, 974624739, 924170794, 557695859, 998520653, 835156564, 845623507, 574638204, 861625893, 47884505, 952788996, 446642572, 888581722, 193247620, 374346692, 860600741, 953387659, 56279420, 219052767, 93084858, 463088027, 467816783, 8212808, 937370690, 499770416, 257640119, 200271211, 292612303, 54950528, 234674069, 3524781, 811958988, 848028277, 74913879, 644179337, 919841026, 1062322218, 714957932, 813099189, 320303822, 600842859, 1056231165, 964344451, 459455683, 462837588, 469449160, 252318604, 303752580, 987150868, 111766364, 1029900560, 709562913, 956385974, 781668544, 1015401282, 952196872, 349210383, 2831032, 582172297, 133875902, 377468215, 725512248, 874729073, 959975205, 520233580, 113691855, 906385065, 572980897, 904864402, 800086720, 558027521, 677613336, 109709779, 872340847, 713137859, 793434189, 768358274, 578846252]]]]\n"
    }
   ],
   "source": [
    "key_generator = KeyGenerator(context)\n",
    "keys = key_generator.keygen()\n",
    "relin_key = key_generator.get_relin_keys()\n",
    "\n",
    "print(relin_key.data)"
   ]
  },
  {
   "cell_type": "code",
   "execution_count": 41,
   "metadata": {
    "tags": []
   },
   "outputs": [],
   "source": [
    "x = th.Tensor([[1,2,3],[4,5,6]]).int().encrypt(protocol=\"bfv\", private_key=keys[0], context = context)"
   ]
  },
  {
   "cell_type": "code",
   "execution_count": 42,
   "metadata": {
    "tags": []
   },
   "outputs": [
    {
     "output_type": "execute_result",
     "data": {
      "text/plain": "(Wrapper)>BFVTensor>[[<syft.frameworks.torch.he.fv.ciphertext.CipherText object at 0x12b64b910>\n  <syft.frameworks.torch.he.fv.ciphertext.CipherText object at 0x10b07d6d0>\n  <syft.frameworks.torch.he.fv.ciphertext.CipherText object at 0x12b64b340>]\n [<syft.frameworks.torch.he.fv.ciphertext.CipherText object at 0x12d115370>\n  <syft.frameworks.torch.he.fv.ciphertext.CipherText object at 0x12b6f5070>\n  <syft.frameworks.torch.he.fv.ciphertext.CipherText object at 0x12d1082b0>]]"
     },
     "metadata": {},
     "execution_count": 42
    }
   ],
   "source": [
    "x"
   ]
  },
  {
   "cell_type": "code",
   "execution_count": 43,
   "metadata": {},
   "outputs": [
    {
     "output_type": "execute_result",
     "data": {
      "text/plain": "tensor([[1, 2, 3],\n        [4, 5, 6]])"
     },
     "metadata": {},
     "execution_count": 43
    }
   ],
   "source": [
    "y = x.decrypt(private_key = keys[0])\n",
    "y"
   ]
  },
  {
   "cell_type": "code",
   "execution_count": 44,
   "metadata": {},
   "outputs": [
    {
     "output_type": "execute_result",
     "data": {
      "text/plain": "(Wrapper)>BFVTensor>[[<syft.frameworks.torch.he.fv.ciphertext.CipherText object at 0x12b64b910>\n  <syft.frameworks.torch.he.fv.ciphertext.CipherText object at 0x10b07d6d0>\n  <syft.frameworks.torch.he.fv.ciphertext.CipherText object at 0x12b64b340>]\n [<syft.frameworks.torch.he.fv.ciphertext.CipherText object at 0x12d115370>\n  <syft.frameworks.torch.he.fv.ciphertext.CipherText object at 0x12b6f5070>\n  <syft.frameworks.torch.he.fv.ciphertext.CipherText object at 0x12d1082b0>]]"
     },
     "metadata": {},
     "execution_count": 44
    }
   ],
   "source": [
    "x"
   ]
  },
  {
   "cell_type": "code",
   "execution_count": 45,
   "metadata": {
    "tags": []
   },
   "outputs": [],
   "source": [
    "x = x + y"
   ]
  },
  {
   "cell_type": "code",
   "execution_count": 46,
   "metadata": {},
   "outputs": [
    {
     "output_type": "execute_result",
     "data": {
      "text/plain": "(Wrapper)>BFVTensor>[[<syft.frameworks.torch.he.fv.ciphertext.CipherText object at 0x12d108790>\n  <syft.frameworks.torch.he.fv.ciphertext.CipherText object at 0x12d108640>\n  <syft.frameworks.torch.he.fv.ciphertext.CipherText object at 0x12d1089a0>]\n [<syft.frameworks.torch.he.fv.ciphertext.CipherText object at 0x12d108a00>\n  <syft.frameworks.torch.he.fv.ciphertext.CipherText object at 0x12d1084f0>\n  <syft.frameworks.torch.he.fv.ciphertext.CipherText object at 0x12d108340>]]"
     },
     "metadata": {},
     "execution_count": 46
    }
   ],
   "source": [
    "x"
   ]
  },
  {
   "cell_type": "code",
   "execution_count": 47,
   "metadata": {},
   "outputs": [
    {
     "output_type": "execute_result",
     "data": {
      "text/plain": "tensor([[ 2,  4,  6],\n        [ 8, 10, 12]])"
     },
     "metadata": {},
     "execution_count": 47
    }
   ],
   "source": [
    "x.decrypt(private_key = keys[0])"
   ]
  },
  {
   "cell_type": "code",
   "execution_count": 48,
   "metadata": {
    "tags": []
   },
   "outputs": [],
   "source": [
    "x = x - th.Tensor([[1,2,3],[4,5,6]]).int().encrypt(protocol=\"bfv\", private_key=keys[0], context = context)"
   ]
  },
  {
   "cell_type": "code",
   "execution_count": 49,
   "metadata": {},
   "outputs": [
    {
     "output_type": "execute_result",
     "data": {
      "text/plain": "(Wrapper)>BFVTensor>[[<syft.frameworks.torch.he.fv.ciphertext.CipherText object at 0x12c62cd60>\n  <syft.frameworks.torch.he.fv.ciphertext.CipherText object at 0x12c62c370>\n  <syft.frameworks.torch.he.fv.ciphertext.CipherText object at 0x12c62ca30>]\n [<syft.frameworks.torch.he.fv.ciphertext.CipherText object at 0x12c62c8e0>\n  <syft.frameworks.torch.he.fv.ciphertext.CipherText object at 0x12c62c070>\n  <syft.frameworks.torch.he.fv.ciphertext.CipherText object at 0x12c62cf10>]]"
     },
     "metadata": {},
     "execution_count": 49
    }
   ],
   "source": [
    "x"
   ]
  },
  {
   "cell_type": "code",
   "execution_count": 50,
   "metadata": {},
   "outputs": [
    {
     "output_type": "execute_result",
     "data": {
      "text/plain": "tensor([[1, 2, 3],\n        [4, 5, 6]])"
     },
     "metadata": {},
     "execution_count": 50
    }
   ],
   "source": [
    "x.decrypt(private_key = keys[0])"
   ]
  },
  {
   "cell_type": "code",
   "execution_count": 51,
   "metadata": {},
   "outputs": [],
   "source": [
    " x = x*x"
   ]
  },
  {
   "cell_type": "code",
   "execution_count": 52,
   "metadata": {},
   "outputs": [
    {
     "output_type": "execute_result",
     "data": {
      "text/plain": "tensor([[ 1,  4,  9],\n        [16, 25, 36]])"
     },
     "metadata": {},
     "execution_count": 52
    }
   ],
   "source": [
    "x.decrypt(private_key = keys[0])"
   ]
  },
  {
   "cell_type": "code",
   "execution_count": 53,
   "metadata": {
    "tags": []
   },
   "outputs": [],
   "source": [
    "a = th.Tensor([[1,2,3],[4,5,6]]).int().encrypt(protocol=\"bfv\", private_key=keys[0], context = context)\n",
    "b = th.Tensor([[-1,-2],[-3,-4], [-5,-6]]).int().encrypt(protocol=\"bfv\", private_key=keys[0], context = context)"
   ]
  },
  {
   "cell_type": "code",
   "execution_count": 54,
   "metadata": {},
   "outputs": [
    {
     "output_type": "execute_result",
     "data": {
      "text/plain": "(Wrapper)>BFVTensor>[[<syft.frameworks.torch.he.fv.ciphertext.CipherText object at 0x12c97fac0>\n  <syft.frameworks.torch.he.fv.ciphertext.CipherText object at 0x12c97b610>\n  <syft.frameworks.torch.he.fv.ciphertext.CipherText object at 0x12c97f6d0>]\n [<syft.frameworks.torch.he.fv.ciphertext.CipherText object at 0x12c9691c0>\n  <syft.frameworks.torch.he.fv.ciphertext.CipherText object at 0x12c97f7f0>\n  <syft.frameworks.torch.he.fv.ciphertext.CipherText object at 0x12c969d60>]]"
     },
     "metadata": {},
     "execution_count": 54
    }
   ],
   "source": [
    "a"
   ]
  },
  {
   "cell_type": "code",
   "execution_count": 55,
   "metadata": {},
   "outputs": [
    {
     "output_type": "execute_result",
     "data": {
      "text/plain": "(Wrapper)>BFVTensor>[[<syft.frameworks.torch.he.fv.ciphertext.CipherText object at 0x12c97fbb0>\n  <syft.frameworks.torch.he.fv.ciphertext.CipherText object at 0x12c65b670>]\n [<syft.frameworks.torch.he.fv.ciphertext.CipherText object at 0x12c97fb20>\n  <syft.frameworks.torch.he.fv.ciphertext.CipherText object at 0x12c65b5e0>]\n [<syft.frameworks.torch.he.fv.ciphertext.CipherText object at 0x12c97f850>\n  <syft.frameworks.torch.he.fv.ciphertext.CipherText object at 0x12c65b550>]]"
     },
     "metadata": {},
     "execution_count": 55
    }
   ],
   "source": [
    "b"
   ]
  },
  {
   "cell_type": "code",
   "execution_count": 60,
   "metadata": {
    "tags": []
   },
   "outputs": [
    {
     "output_type": "stream",
     "name": "stdout",
     "text": "(Wrapper)>BFVTensor>[[<syft.frameworks.torch.he.fv.ciphertext.CipherText object at 0x12c895520>, <syft.frameworks.torch.he.fv.ciphertext.CipherText object at 0x12c752eb0>], [<syft.frameworks.torch.he.fv.ciphertext.CipherText object at 0x12ca0faf0>, <syft.frameworks.torch.he.fv.ciphertext.CipherText object at 0x12d0effa0>]]\n"
    }
   ],
   "source": [
    "ans_mm = a.mm(b, relin_key = relin_key)\n",
    "print(ans_mm)"
   ]
  },
  {
   "cell_type": "code",
   "execution_count": 62,
   "metadata": {},
   "outputs": [
    {
     "output_type": "error",
     "ename": "AttributeError",
     "evalue": "'list' object has no attribute 'flatten'",
     "traceback": [
      "\u001b[0;31m---------------------------------------------------------------------------\u001b[0m",
      "\u001b[0;31mAttributeError\u001b[0m                            Traceback (most recent call last)",
      "\u001b[0;32m<ipython-input-62-5d7aeae9c9c1>\u001b[0m in \u001b[0;36m<module>\u001b[0;34m\u001b[0m\n\u001b[0;32m----> 1\u001b[0;31m \u001b[0mmm_decrypt\u001b[0m \u001b[0;34m=\u001b[0m \u001b[0mans_mm\u001b[0m\u001b[0;34m.\u001b[0m\u001b[0mdecrypt\u001b[0m\u001b[0;34m(\u001b[0m\u001b[0mprivate_key\u001b[0m \u001b[0;34m=\u001b[0m \u001b[0mkeys\u001b[0m\u001b[0;34m[\u001b[0m\u001b[0;36m0\u001b[0m\u001b[0;34m]\u001b[0m\u001b[0;34m)\u001b[0m\u001b[0;34m\u001b[0m\u001b[0;34m\u001b[0m\u001b[0m\n\u001b[0m",
      "\u001b[0;32m~/Documents/PySyft/syft/frameworks/torch/tensors/interpreters/native.py\u001b[0m in \u001b[0;36mdecrypt\u001b[0;34m(self, **kwargs)\u001b[0m\n\u001b[1;32m   1106\u001b[0m         \u001b[0;32melif\u001b[0m \u001b[0misinstance\u001b[0m\u001b[0;34m(\u001b[0m\u001b[0mself\u001b[0m\u001b[0;34m.\u001b[0m\u001b[0mchild\u001b[0m\u001b[0;34m,\u001b[0m \u001b[0mBFVTensor\u001b[0m\u001b[0;34m)\u001b[0m\u001b[0;34m:\u001b[0m\u001b[0;34m\u001b[0m\u001b[0;34m\u001b[0m\u001b[0m\n\u001b[1;32m   1107\u001b[0m             \u001b[0mprivate_key\u001b[0m \u001b[0;34m=\u001b[0m \u001b[0mkwargs\u001b[0m\u001b[0;34m.\u001b[0m\u001b[0mget\u001b[0m\u001b[0;34m(\u001b[0m\u001b[0;34m\"private_key\"\u001b[0m\u001b[0;34m)\u001b[0m\u001b[0;34m\u001b[0m\u001b[0;34m\u001b[0m\u001b[0m\n\u001b[0;32m-> 1108\u001b[0;31m             \u001b[0;32mreturn\u001b[0m \u001b[0mself\u001b[0m\u001b[0;34m.\u001b[0m\u001b[0mchild\u001b[0m\u001b[0;34m.\u001b[0m\u001b[0mdecrypt\u001b[0m\u001b[0;34m(\u001b[0m\u001b[0mprivate_key\u001b[0m\u001b[0;34m)\u001b[0m\u001b[0;34m\u001b[0m\u001b[0;34m\u001b[0m\u001b[0m\n\u001b[0m\u001b[1;32m   1109\u001b[0m \u001b[0;34m\u001b[0m\u001b[0m\n\u001b[1;32m   1110\u001b[0m         \u001b[0;32melse\u001b[0m\u001b[0;34m:\u001b[0m\u001b[0;34m\u001b[0m\u001b[0;34m\u001b[0m\u001b[0m\n",
      "\u001b[0;32m~/Documents/PySyft/syft/frameworks/torch/tensors/interpreters/bfv.py\u001b[0m in \u001b[0;36mdecrypt\u001b[0;34m(self, private_key)\u001b[0m\n\u001b[1;32m     55\u001b[0m         \u001b[0mself\u001b[0m\u001b[0;34m.\u001b[0m\u001b[0mprepareDecryptor\u001b[0m\u001b[0;34m(\u001b[0m\u001b[0mprivate_key\u001b[0m\u001b[0;34m)\u001b[0m\u001b[0;34m\u001b[0m\u001b[0;34m\u001b[0m\u001b[0m\n\u001b[1;32m     56\u001b[0m \u001b[0;34m\u001b[0m\u001b[0m\n\u001b[0;32m---> 57\u001b[0;31m         \u001b[0minputs\u001b[0m \u001b[0;34m=\u001b[0m \u001b[0mself\u001b[0m\u001b[0;34m.\u001b[0m\u001b[0mchild\u001b[0m\u001b[0;34m.\u001b[0m\u001b[0mflatten\u001b[0m\u001b[0;34m(\u001b[0m\u001b[0;34m)\u001b[0m\u001b[0;34m.\u001b[0m\u001b[0mtolist\u001b[0m\u001b[0;34m(\u001b[0m\u001b[0;34m)\u001b[0m\u001b[0;34m\u001b[0m\u001b[0;34m\u001b[0m\u001b[0m\n\u001b[0m\u001b[1;32m     58\u001b[0m         \u001b[0mnew_child\u001b[0m \u001b[0;34m=\u001b[0m \u001b[0;34m[\u001b[0m\u001b[0mself\u001b[0m\u001b[0;34m.\u001b[0m\u001b[0mencoder\u001b[0m\u001b[0;34m.\u001b[0m\u001b[0mdecode\u001b[0m\u001b[0;34m(\u001b[0m\u001b[0mself\u001b[0m\u001b[0;34m.\u001b[0m\u001b[0mdecryptor\u001b[0m\u001b[0;34m.\u001b[0m\u001b[0mdecrypt\u001b[0m\u001b[0;34m(\u001b[0m\u001b[0mx\u001b[0m\u001b[0;34m)\u001b[0m\u001b[0;34m)\u001b[0m \u001b[0;32mfor\u001b[0m \u001b[0mx\u001b[0m \u001b[0;32min\u001b[0m \u001b[0minputs\u001b[0m\u001b[0;34m]\u001b[0m\u001b[0;34m\u001b[0m\u001b[0;34m\u001b[0m\u001b[0m\n\u001b[1;32m     59\u001b[0m         \u001b[0;32mreturn\u001b[0m \u001b[0mth\u001b[0m\u001b[0;34m.\u001b[0m\u001b[0mtensor\u001b[0m\u001b[0;34m(\u001b[0m\u001b[0mnew_child\u001b[0m\u001b[0;34m)\u001b[0m\u001b[0;34m.\u001b[0m\u001b[0mview\u001b[0m\u001b[0;34m(\u001b[0m\u001b[0;34m*\u001b[0m\u001b[0mself\u001b[0m\u001b[0;34m.\u001b[0m\u001b[0mchild\u001b[0m\u001b[0;34m.\u001b[0m\u001b[0mshape\u001b[0m\u001b[0;34m)\u001b[0m\u001b[0;34m\u001b[0m\u001b[0;34m\u001b[0m\u001b[0m\n",
      "\u001b[0;31mAttributeError\u001b[0m: 'list' object has no attribute 'flatten'"
     ]
    }
   ],
   "source": [
    "mm_decrypt = ans_mm.decrypt(private_key = keys[0])"
   ]
  },
  {
   "cell_type": "code",
   "execution_count": null,
   "metadata": {},
   "outputs": [],
   "source": []
  }
 ],
 "metadata": {
  "file_extension": ".py",
  "kernelspec": {
   "name": "Python 3.8.5 64-bit",
   "display_name": "Python 3.8.5 64-bit",
   "metadata": {
    "interpreter": {
     "hash": "1ee38ef4a5a9feb55287fd749643f13d043cb0a7addaab2a9c224cbe137c0062"
    }
   }
  },
  "language_info": {
   "codemirror_mode": {
    "name": "ipython",
    "version": 3
   },
   "file_extension": ".py",
   "mimetype": "text/x-python",
   "name": "python",
   "nbconvert_exporter": "python",
   "pygments_lexer": "ipython3",
   "version": "3.8.5-final"
  },
  "mimetype": "text/x-python",
  "name": "python",
  "npconvert_exporter": "python",
  "pygments_lexer": "ipython3",
  "version": 3
 },
 "nbformat": 4,
 "nbformat_minor": 2
}
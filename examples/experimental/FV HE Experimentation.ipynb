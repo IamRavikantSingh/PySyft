{
 "cells": [
  {
   "cell_type": "markdown",
   "metadata": {},
   "source": [
    "# Testing Individual components of the FV HE scheme"
   ]
  },
  {
   "cell_type": "code",
   "execution_count": 1,
   "metadata": {},
   "outputs": [],
   "source": [
    "import random\n",
    "\n",
    "from syft.frameworks.torch.he.fv.modulus import CoeffModulus\n",
    "from syft.frameworks.torch.he.fv.encryption_params import EncryptionParams\n",
    "from syft.frameworks.torch.he.fv.context import Context\n",
    "from syft.frameworks.torch.he.fv.integer_encoder import IntegerEncoder\n",
    "from syft.frameworks.torch.he.fv.key_generator import KeyGenerator\n",
    "from syft.frameworks.torch.he.fv.encryptor import Encryptor\n",
    "from syft.frameworks.torch.he.fv.decryptor import Decryptor\n",
    "from syft.frameworks.torch.he.fv.integer_encoder import IntegerEncoder\n",
    "from syft.frameworks.torch.he.fv.modulus import SeqLevelType\n",
    "from syft.frameworks.torch.he.fv.evaluator import Evaluator"
   ]
  },
  {
   "cell_type": "markdown",
   "metadata": {},
   "source": [
    "## Keygeneration"
   ]
  },
  {
   "cell_type": "code",
   "execution_count": 2,
   "metadata": {},
   "outputs": [],
   "source": [
    "poly_modulus = 64\n",
    "bit_sizes= [40]\n",
    "plain_modulus = 64\n",
    "ctx = Context(EncryptionParams(poly_modulus, CoeffModulus().create(poly_modulus, bit_sizes), plain_modulus))\n",
    "keygenerator = KeyGenerator(ctx)\n",
    "sk, pk = keygenerator.keygen()"
   ]
  },
  {
   "cell_type": "code",
   "execution_count": 3,
   "metadata": {
    "tags": []
   },
   "outputs": [
    {
     "output_type": "stream",
     "name": "stdout",
     "text": [
      "secret key values :  [[1099511623296, 1, 0, 1, 1099511623296, 1099511623296, 0, 1099511623296, 1099511623296, 1, 0, 1099511623296, 0, 0, 1099511623296, 1, 1099511623296, 1099511623296, 1, 0, 1099511623296, 1099511623296, 1099511623296, 1099511623296, 1, 1, 0, 1099511623296, 1099511623296, 1099511623296, 0, 0, 1, 1, 0, 1099511623296, 1099511623296, 0, 1, 0, 1099511623296, 0, 0, 1, 0, 1099511623296, 1099511623296, 0, 0, 1, 1099511623296, 1099511623296, 0, 1, 1, 1099511623296, 1, 1, 1099511623296, 1099511623296, 1, 0, 1099511623296, 1099511623296]]\n"
     ]
    }
   ],
   "source": [
    "# print(len(sk.data))\n",
    "print('secret key values : ', sk.data)"
   ]
  },
  {
   "cell_type": "code",
   "execution_count": 4,
   "metadata": {},
   "outputs": [],
   "source": [
    "# print(pk.data)\n",
    "# print('public key values : ', pk.data)"
   ]
  },
  {
   "cell_type": "markdown",
   "metadata": {},
   "source": [
    "## Integer Encoder\n",
    "Encodes Integer values to Plaintext object"
   ]
  },
  {
   "cell_type": "code",
   "execution_count": 5,
   "metadata": {
    "tags": []
   },
   "outputs": [
    {
     "output_type": "stream",
     "name": "stdout",
     "text": [
      "[1, 0, 0, 1]     [0, 0, 1]     [1, 1]\n"
     ]
    }
   ],
   "source": [
    "int_encoder = IntegerEncoder(ctx)\n",
    "ri1 = random.randint(0,10)\n",
    "ri2 = random.randint(0,10)\n",
    "ri3 = random.randint(0,10)\n",
    "pt1 = int_encoder.encode(ri1)\n",
    "pt2 = int_encoder.encode(ri2)\n",
    "pt3 = int_encoder.encode(ri3)\n",
    "print(pt1.data,\"   \", pt2.data, \"   \", pt3.data)\n",
    "# print('plaintext data',plaintext.data)"
   ]
  },
  {
   "cell_type": "markdown",
   "metadata": {},
   "source": [
    "### Decodes back to Integer"
   ]
  },
  {
   "cell_type": "code",
   "execution_count": 6,
   "metadata": {
    "tags": []
   },
   "outputs": [
    {
     "output_type": "stream",
     "name": "stdout",
     "text": [
      "9\n4\n3\n"
     ]
    }
   ],
   "source": [
    "print(int_encoder.decode(pt1))\n",
    "print(int_encoder.decode(pt2))\n",
    "print(int_encoder.decode(pt3))"
   ]
  },
  {
   "cell_type": "markdown",
   "metadata": {},
   "source": [
    "## Encrypter\n",
    "Encrypt Plaintext to ciphertext using public_key"
   ]
  },
  {
   "cell_type": "code",
   "execution_count": 7,
   "metadata": {},
   "outputs": [],
   "source": [
    "encrypter = Encryptor(ctx, pk)"
   ]
  },
  {
   "cell_type": "code",
   "execution_count": 8,
   "metadata": {
    "tags": []
   },
   "outputs": [],
   "source": [
    "ct1 = encrypter.encrypt(pt1)\n",
    "ct2 = encrypter.encrypt(pt2)\n",
    "ct3 = encrypter.encrypt(pt3)"
   ]
  },
  {
   "cell_type": "markdown",
   "metadata": {},
   "source": [
    "Encrypt Plaintext to ciphertext using secret_key"
   ]
  },
  {
   "cell_type": "markdown",
   "metadata": {},
   "source": [
    "## Decryptor\n",
    "Decrypt Ciphertext to Plaintext using secret_key"
   ]
  },
  {
   "cell_type": "code",
   "execution_count": 9,
   "metadata": {},
   "outputs": [],
   "source": [
    "decrypter = Decryptor(ctx, sk)"
   ]
  },
  {
   "cell_type": "code",
   "execution_count": 10,
   "metadata": {
    "tags": []
   },
   "outputs": [],
   "source": [
    "dec1 = decrypter.decrypt(ct1)\n",
    "dec2 = decrypter.decrypt(ct2)\n",
    "dec3 = decrypter.decrypt(ct3)"
   ]
  },
  {
   "cell_type": "code",
   "execution_count": 11,
   "metadata": {
    "tags": []
   },
   "outputs": [
    {
     "output_type": "stream",
     "name": "stdout",
     "text": [
      "9     4     3\n"
     ]
    }
   ],
   "source": [
    "print(int_encoder.decode(dec1), \"   \", int_encoder.decode(dec2), \"   \", int_encoder.decode(dec3))"
   ]
  },
  {
   "cell_type": "markdown",
   "metadata": {},
   "source": [
    "## Evaluator"
   ]
  },
  {
   "cell_type": "code",
   "execution_count": 12,
   "metadata": {},
   "outputs": [],
   "source": [
    "eval = Evaluator(ctx)"
   ]
  },
  {
   "cell_type": "code",
   "execution_count": 13,
   "metadata": {
    "tags": []
   },
   "outputs": [
    {
     "output_type": "stream",
     "name": "stdout",
     "text": [
      "13\n"
     ]
    }
   ],
   "source": [
    "cc12 = eval.add(ct1, ct2)\n",
    "cc12 = decrypter.decrypt(cc12)\n",
    "print(int_encoder.decode(cc12))"
   ]
  },
  {
   "cell_type": "code",
   "execution_count": 14,
   "metadata": {
    "tags": []
   },
   "outputs": [
    {
     "output_type": "stream",
     "name": "stdout",
     "text": [
      "13\n"
     ]
    }
   ],
   "source": [
    "pc12 = eval.add(pt1, ct2)\n",
    "pc12 = decrypter.decrypt(pc12)\n",
    "print(int_encoder.decode(pc12))"
   ]
  },
  {
   "cell_type": "code",
   "execution_count": 15,
   "metadata": {
    "tags": []
   },
   "outputs": [
    {
     "output_type": "stream",
     "name": "stdout",
     "text": [
      "13\n"
     ]
    }
   ],
   "source": [
    "pp12 = eval.add(pt1, pt2)\n",
    "print(int_encoder.decode(pp12))"
   ]
  },
  {
   "cell_type": "markdown",
   "metadata": {},
   "source": [
    "### Verify result"
   ]
  },
  {
   "cell_type": "code",
   "execution_count": 16,
   "metadata": {},
   "outputs": [],
   "source": [
    "assert int_encoder.decode(cc12) == int_encoder.decode(pc12) == int_encoder.decode(pp12) == ri1+ri2"
   ]
  },
  {
   "cell_type": "code",
   "execution_count": 17,
   "metadata": {
    "tags": []
   },
   "outputs": [
    {
     "output_type": "stream",
     "name": "stdout",
     "text": [
      "\n\nct1 : [[[648049015750, 1043484709929, 912920988260, 293660945893, 55958470559, 1053493554736, 1060064162234, 495328759917, 400442215239, 714769375226, 862549126058, 839009648988, 273167933563, 1041210039819, 104565769485, 438672021277, 227354486880, 919743863436, 67655801645, 745149580147, 684623190479, 326418050213, 550516647939, 366711540046, 678923148900, 243021516943, 113347178801, 773747108623, 21046030315, 790486746825, 414374573822, 107734282631, 537393651736, 1037625753981, 553072713228, 156202043248, 864642632819, 55967711428, 673327214613, 475722963085, 350058474501, 615186490126, 322254020297, 240863653461, 1008076811916, 1072674176092, 188725472653, 650020438889, 500910878724, 327360050390, 160148695921, 988458348230, 795149157322, 50990382414, 123027322620, 685426358920, 1035535730311, 765571504981, 912164996823, 1089916865282, 224591250551, 647825835704, 688663252270, 208494896197]], [[489013322621, 20686660579, 723978460245, 648958234798, 976321953659, 55343303408, 233602182795, 875453678208, 568069879111, 760942972085, 617830694406, 324967691485, 275699488596, 284392322516, 810961098987, 348609949633, 1028094538065, 79854493107, 484933401795, 546997627222, 673474552293, 935796342359, 234496344182, 2997192369, 924399377270, 719842145260, 574585898409, 271490861725, 977160121541, 324014868500, 1080065120572, 692855754595, 817685119817, 702913906896, 864286794781, 990665100369, 689054252281, 501593373406, 970014706868, 589021011538, 464270463370, 1045881610534, 905333113000, 264248813891, 73545896962, 743632131903, 141110504999, 915222902678, 940801943280, 213159226919, 915977695222, 680729682476, 673187927731, 90032515, 628871441436, 405781531820, 665334555830, 693536593968, 197400788131, 844195033370, 115095131023, 1036638372997, 1026282757332, 770128079442]]]\n\n\nct2 : [[[38978117323, 613193237520, 407557298037, 131406437736, 102562736269, 871115847190, 318601265221, 1098484117370, 672490655376, 1080745508640, 11131401223, 413814570255, 1056575666110, 300458163795, 577016765319, 220560864307, 908463629128, 456076347714, 193238871425, 1046781741527, 601105143694, 417675210975, 647787074534, 321242323739, 240310792361, 378929083968, 505784027791, 126581104587, 851280577530, 312811615844, 931526784946, 337351535272, 420586797853, 512537644825, 981090073161, 970865543650, 650238272309, 26391928985, 498398815618, 576136069413, 258218810194, 441827237703, 1045272289947, 665235688345, 971771491820, 494702463113, 508998932878, 617377801835, 396902118465, 737461900196, 352321704780, 404256685676, 636786510083, 666855958271, 375842779280, 198263731531, 364230066286, 625961065217, 284591215972, 116998914880, 1357317987, 780271750952, 596964523541, 135585444339]], [[895600175003, 956645739793, 1092647744006, 458398897420, 405234221082, 133935090110, 50182052620, 951944930160, 815919850267, 130848573390, 713688177820, 988398562341, 632471591672, 745774233272, 770073960976, 101013502114, 387961994399, 474117008842, 265816379145, 348957487575, 346562281314, 969890405676, 955805244423, 1043828411350, 394765319508, 248150416554, 857758520264, 756711964717, 338191245451, 1039010620356, 721811722296, 59191682985, 10779987703, 231238389379, 748969352081, 496519291128, 945735314984, 168293466074, 520993497187, 114686300014, 727082261160, 1068209891100, 872915074092, 799050479419, 320929891315, 842002219696, 789248531873, 315967478557, 639207638511, 569783520300, 881813683416, 409062300128, 1067467478018, 229400293222, 42381822367, 737985370653, 238040466103, 368766409799, 319464129403, 642390305028, 729404494854, 639124712710, 709449668229, 277093535815]]]\n\n\n\nfinal result:  36\n"
     ]
    }
   ],
   "source": [
    "result = eval._mul_cipher_cipher(ct1, ct2)\n",
    "print(\"\\n\\nct1 :\",ct1.data)\n",
    "print(\"\\n\\nct2 :\",ct2.data)\n",
    "print('\\n\\n')\n",
    "\n",
    "result = decrypter.decrypt(result)\n",
    "result = int_encoder.decode(result)\n",
    "\n",
    "print('final result: ', result)"
   ]
  },
  {
   "cell_type": "code",
   "execution_count": 18,
   "metadata": {
    "tags": []
   },
   "outputs": [
    {
     "output_type": "stream",
     "name": "stdout",
     "text": [
      "36      36\n"
     ]
    }
   ],
   "source": [
    "print(ri1 * ri2, \"    \", result)\n",
    "assert ri1 * ri2 == result"
   ]
  },
  {
   "source": [
    "## Tensor Testing"
   ],
   "cell_type": "markdown",
   "metadata": {}
  },
  {
   "cell_type": "code",
   "execution_count": 19,
   "metadata": {
    "tags": []
   },
   "outputs": [],
   "source": [
    "import syft as sy\n",
    "import torch as th\n",
    "hook = sy.TorchHook(th)\n",
    "from syft.frameworks.torch.he.fv.context import Context\n",
    "from syft.frameworks.torch.he.fv.encryption_params import EncryptionParams\n",
    "context = Context(EncryptionParams(128, CoeffModulus().create(64, [30, 30]), 64))"
   ]
  },
  {
   "cell_type": "code",
   "execution_count": 20,
   "metadata": {
    "tags": []
   },
   "outputs": [],
   "source": [
    "key_generator = KeyGenerator(context)\n",
    "keys = key_generator.keygen()\n",
    "relin_key = key_generator.get_relin_keys()"
   ]
  },
  {
   "cell_type": "code",
   "execution_count": 21,
   "metadata": {
    "tags": []
   },
   "outputs": [],
   "source": [
    "x = th.Tensor([[1,2,3],[4,5,6]]).int().encrypt(protocol=\"bfv\", private_key=keys[0], context = context)"
   ]
  },
  {
   "cell_type": "code",
   "execution_count": 22,
   "metadata": {
    "tags": []
   },
   "outputs": [
    {
     "output_type": "execute_result",
     "data": {
      "text/plain": [
       "(Wrapper)>BFVTensor>[[<syft.frameworks.torch.he.fv.ciphertext.CipherText object at 0x123f91f40>\n",
       "  <syft.frameworks.torch.he.fv.ciphertext.CipherText object at 0x1242dfdf0>\n",
       "  <syft.frameworks.torch.he.fv.ciphertext.CipherText object at 0x123f91d00>]\n",
       " [<syft.frameworks.torch.he.fv.ciphertext.CipherText object at 0x1242dfe50>\n",
       "  <syft.frameworks.torch.he.fv.ciphertext.CipherText object at 0x123f91b80>\n",
       "  <syft.frameworks.torch.he.fv.ciphertext.CipherText object at 0x1242dffa0>]]"
      ]
     },
     "metadata": {},
     "execution_count": 22
    }
   ],
   "source": [
    "x"
   ]
  },
  {
   "cell_type": "code",
   "execution_count": 23,
   "metadata": {},
   "outputs": [
    {
     "output_type": "execute_result",
     "data": {
      "text/plain": [
       "tensor([[1, 2, 3],\n",
       "        [4, 5, 6]])"
      ]
     },
     "metadata": {},
     "execution_count": 23
    }
   ],
   "source": [
    "y = x.decrypt(private_key = keys[0])\n",
    "y"
   ]
  },
  {
   "cell_type": "code",
   "execution_count": 24,
   "metadata": {},
   "outputs": [
    {
     "output_type": "execute_result",
     "data": {
      "text/plain": [
       "(Wrapper)>BFVTensor>[[<syft.frameworks.torch.he.fv.ciphertext.CipherText object at 0x123f91f40>\n",
       "  <syft.frameworks.torch.he.fv.ciphertext.CipherText object at 0x1242dfdf0>\n",
       "  <syft.frameworks.torch.he.fv.ciphertext.CipherText object at 0x123f91d00>]\n",
       " [<syft.frameworks.torch.he.fv.ciphertext.CipherText object at 0x1242dfe50>\n",
       "  <syft.frameworks.torch.he.fv.ciphertext.CipherText object at 0x123f91b80>\n",
       "  <syft.frameworks.torch.he.fv.ciphertext.CipherText object at 0x1242dffa0>]]"
      ]
     },
     "metadata": {},
     "execution_count": 24
    }
   ],
   "source": [
    "x"
   ]
  },
  {
   "cell_type": "code",
   "execution_count": 25,
   "metadata": {
    "tags": []
   },
   "outputs": [],
   "source": [
    "x = x + y"
   ]
  },
  {
   "cell_type": "code",
   "execution_count": 26,
   "metadata": {},
   "outputs": [
    {
     "output_type": "execute_result",
     "data": {
      "text/plain": [
       "(Wrapper)>BFVTensor>[[<syft.frameworks.torch.he.fv.ciphertext.CipherText object at 0x1243224c0>\n",
       "  <syft.frameworks.torch.he.fv.ciphertext.CipherText object at 0x124322490>\n",
       "  <syft.frameworks.torch.he.fv.ciphertext.CipherText object at 0x1243223a0>]\n",
       " [<syft.frameworks.torch.he.fv.ciphertext.CipherText object at 0x1243223d0>\n",
       "  <syft.frameworks.torch.he.fv.ciphertext.CipherText object at 0x124322310>\n",
       "  <syft.frameworks.torch.he.fv.ciphertext.CipherText object at 0x124322250>]]"
      ]
     },
     "metadata": {},
     "execution_count": 26
    }
   ],
   "source": [
    "x"
   ]
  },
  {
   "cell_type": "code",
   "execution_count": 27,
   "metadata": {},
   "outputs": [
    {
     "output_type": "execute_result",
     "data": {
      "text/plain": [
       "tensor([[ 2,  4,  6],\n",
       "        [ 8, 10, 12]])"
      ]
     },
     "metadata": {},
     "execution_count": 27
    }
   ],
   "source": [
    "x.decrypt(private_key = keys[0])"
   ]
  },
  {
   "cell_type": "code",
   "execution_count": 28,
   "metadata": {
    "tags": []
   },
   "outputs": [],
   "source": [
    "x = x - th.Tensor([[1,2,3],[1,2,3]]).int().encrypt(protocol=\"bfv\", private_key=keys[0], context = context)"
   ]
  },
  {
   "cell_type": "code",
   "execution_count": 29,
   "metadata": {},
   "outputs": [
    {
     "output_type": "execute_result",
     "data": {
      "text/plain": [
       "(Wrapper)>BFVTensor>[[<syft.frameworks.torch.he.fv.ciphertext.CipherText object at 0x1243450a0>\n",
       "  <syft.frameworks.torch.he.fv.ciphertext.CipherText object at 0x124345190>\n",
       "  <syft.frameworks.torch.he.fv.ciphertext.CipherText object at 0x1243451c0>]\n",
       " [<syft.frameworks.torch.he.fv.ciphertext.CipherText object at 0x124345220>\n",
       "  <syft.frameworks.torch.he.fv.ciphertext.CipherText object at 0x124345280>\n",
       "  <syft.frameworks.torch.he.fv.ciphertext.CipherText object at 0x1243452e0>]]"
      ]
     },
     "metadata": {},
     "execution_count": 29
    }
   ],
   "source": [
    "x"
   ]
  },
  {
   "cell_type": "code",
   "execution_count": 30,
   "metadata": {},
   "outputs": [
    {
     "output_type": "execute_result",
     "data": {
      "text/plain": [
       "tensor([[1, 2, 3],\n",
       "        [7, 8, 9]])"
      ]
     },
     "metadata": {},
     "execution_count": 30
    }
   ],
   "source": [
    "x.decrypt(private_key = keys[0])"
   ]
  },
  {
   "cell_type": "code",
   "execution_count": 31,
   "metadata": {},
   "outputs": [],
   "source": [
    " x = x*x"
   ]
  },
  {
   "cell_type": "code",
   "execution_count": 32,
   "metadata": {},
   "outputs": [
    {
     "output_type": "execute_result",
     "data": {
      "text/plain": [
       "tensor([[ 1,  4,  9],\n",
       "        [49, 64, 81]])"
      ]
     },
     "metadata": {},
     "execution_count": 32
    }
   ],
   "source": [
    "x.decrypt(private_key = keys[0])"
   ]
  },
  {
   "cell_type": "code",
   "execution_count": 33,
   "metadata": {
    "tags": []
   },
   "outputs": [],
   "source": [
    "a = th.Tensor([[1,2,3],[4,5,6]]).int().encrypt(protocol=\"bfv\", private_key=keys[0], context = context)\n",
    "b = th.Tensor([[-1,-2],[-3,-4], [-5,-6]]).int().encrypt(protocol=\"bfv\", private_key=keys[0], context = context)"
   ]
  },
  {
   "cell_type": "code",
   "execution_count": 34,
   "metadata": {},
   "outputs": [
    {
     "output_type": "execute_result",
     "data": {
      "text/plain": [
       "(Wrapper)>BFVTensor>[[<syft.frameworks.torch.he.fv.ciphertext.CipherText object at 0x123f66b80>\n",
       "  <syft.frameworks.torch.he.fv.ciphertext.CipherText object at 0x124357490>\n",
       "  <syft.frameworks.torch.he.fv.ciphertext.CipherText object at 0x124355220>]\n",
       " [<syft.frameworks.torch.he.fv.ciphertext.CipherText object at 0x124357a60>\n",
       "  <syft.frameworks.torch.he.fv.ciphertext.CipherText object at 0x124355df0>\n",
       "  <syft.frameworks.torch.he.fv.ciphertext.CipherText object at 0x124357160>]]"
      ]
     },
     "metadata": {},
     "execution_count": 34
    }
   ],
   "source": [
    "a"
   ]
  },
  {
   "cell_type": "code",
   "execution_count": 35,
   "metadata": {},
   "outputs": [
    {
     "output_type": "execute_result",
     "data": {
      "text/plain": [
       "(Wrapper)>BFVTensor>[[<syft.frameworks.torch.he.fv.ciphertext.CipherText object at 0x1242df3d0>\n",
       "  <syft.frameworks.torch.he.fv.ciphertext.CipherText object at 0x12435c3a0>]\n",
       " [<syft.frameworks.torch.he.fv.ciphertext.CipherText object at 0x124355490>\n",
       "  <syft.frameworks.torch.he.fv.ciphertext.CipherText object at 0x12435cac0>]\n",
       " [<syft.frameworks.torch.he.fv.ciphertext.CipherText object at 0x1243554f0>\n",
       "  <syft.frameworks.torch.he.fv.ciphertext.CipherText object at 0x12435c550>]]"
      ]
     },
     "metadata": {},
     "execution_count": 35
    }
   ],
   "source": [
    "b"
   ]
  },
  {
   "cell_type": "code",
   "execution_count": 36,
   "metadata": {
    "tags": []
   },
   "outputs": [
    {
     "output_type": "stream",
     "name": "stdout",
     "text": [
      "(Wrapper)>BFVTensor>[[<syft.frameworks.torch.he.fv.ciphertext.CipherText object at 0x12435d670>\n  <syft.frameworks.torch.he.fv.ciphertext.CipherText object at 0x103c13130>]\n [<syft.frameworks.torch.he.fv.ciphertext.CipherText object at 0x103c00880>\n  <syft.frameworks.torch.he.fv.ciphertext.CipherText object at 0x123f66fd0>]]\n"
     ]
    }
   ],
   "source": [
    "ans_mm = a.mm(b, relin_key = relin_key)\n",
    "print(ans_mm)"
   ]
  },
  {
   "cell_type": "code",
   "execution_count": 37,
   "metadata": {},
   "outputs": [],
   "source": [
    "mm_decrypt = ans_mm.decrypt(private_key = keys[0])"
   ]
  },
  {
   "cell_type": "code",
   "execution_count": 38,
   "metadata": {},
   "outputs": [
    {
     "output_type": "stream",
     "name": "stdout",
     "text": [
      "tensor([[-22, -28],\n        [-49, -64]])\n"
     ]
    }
   ],
   "source": [
    "print(mm_decrypt)"
   ]
  },
  {
   "cell_type": "code",
   "execution_count": null,
   "metadata": {},
   "outputs": [],
   "source": []
  }
 ],
 "metadata": {
  "file_extension": ".py",
  "kernelspec": {
   "name": "Python 3.8.5 64-bit",
   "display_name": "Python 3.8.5 64-bit",
   "metadata": {
    "interpreter": {
     "hash": "1ee38ef4a5a9feb55287fd749643f13d043cb0a7addaab2a9c224cbe137c0062"
    }
   }
  },
  "language_info": {
   "codemirror_mode": {
    "name": "ipython",
    "version": 3
   },
   "file_extension": ".py",
   "mimetype": "text/x-python",
   "name": "python",
   "nbconvert_exporter": "python",
   "pygments_lexer": "ipython3",
   "version": "3.8.5-final"
  },
  "mimetype": "text/x-python",
  "name": "python",
  "npconvert_exporter": "python",
  "pygments_lexer": "ipython3",
  "version": 3
 },
 "nbformat": 4,
 "nbformat_minor": 2
}
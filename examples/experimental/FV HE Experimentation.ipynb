{
 "cells": [
  {
   "cell_type": "markdown",
   "metadata": {},
   "source": [
    "# Testing Individual components of the FV HE scheme"
   ]
  },
  {
   "cell_type": "code",
   "execution_count": 1,
   "metadata": {
    "tags": []
   },
   "outputs": [],
   "source": [
    "import random\n",
    "\n",
    "from syft.frameworks.torch.he.fv.modulus import CoeffModulus\n",
    "from syft.frameworks.torch.he.fv.encryption_params import EncryptionParams\n",
    "from syft.frameworks.torch.he.fv.context import Context\n",
    "from syft.frameworks.torch.he.fv.integer_encoder import IntegerEncoder\n",
    "from syft.frameworks.torch.he.fv.key_generator import KeyGenerator\n",
    "from syft.frameworks.torch.he.fv.encryptor import Encryptor\n",
    "from syft.frameworks.torch.he.fv.decryptor import Decryptor\n",
    "from syft.frameworks.torch.he.fv.integer_encoder import IntegerEncoder\n",
    "from syft.frameworks.torch.he.fv.modulus import SeqLevelType\n",
    "from syft.frameworks.torch.he.fv.evaluator import Evaluator"
   ]
  },
  {
   "cell_type": "markdown",
   "metadata": {},
   "source": [
    "## Keygeneration"
   ]
  },
  {
   "cell_type": "code",
   "execution_count": 2,
   "metadata": {},
   "outputs": [],
   "source": [
    "poly_modulus = 64\n",
    "bit_sizes= [40]\n",
    "plain_modulus = 64\n",
    "ctx = Context(EncryptionParams(poly_modulus, CoeffModulus().create(poly_modulus, bit_sizes), plain_modulus))\n",
    "keygenerator = KeyGenerator(ctx)\n",
    "sk, pk = keygenerator.keygen()"
   ]
  },
  {
   "cell_type": "code",
   "execution_count": 3,
   "metadata": {
    "tags": []
   },
   "outputs": [
    {
     "output_type": "error",
     "ename": "AttributeError",
     "evalue": "'Context' object has no attribute 'param'",
     "traceback": [
      "\u001b[0;31m---------------------------------------------------------------------------\u001b[0m",
      "\u001b[0;31mAttributeError\u001b[0m                            Traceback (most recent call last)",
      "\u001b[0;32m<ipython-input-3-53b9ef16a468>\u001b[0m in \u001b[0;36m<module>\u001b[0;34m\u001b[0m\n\u001b[0;32m----> 1\u001b[0;31m \u001b[0mprint\u001b[0m\u001b[0;34m(\u001b[0m\u001b[0mctx\u001b[0m\u001b[0;34m.\u001b[0m\u001b[0mparam\u001b[0m\u001b[0;34m.\u001b[0m\u001b[0mcoeff_modulus\u001b[0m\u001b[0;34m)\u001b[0m\u001b[0;34m\u001b[0m\u001b[0;34m\u001b[0m\u001b[0m\n\u001b[0m",
      "\u001b[0;31mAttributeError\u001b[0m: 'Context' object has no attribute 'param'"
     ]
    }
   ],
   "source": [
    "print(ctx.param.coeff_modulus)"
   ]
  },
  {
   "cell_type": "code",
   "execution_count": 4,
   "metadata": {
    "tags": []
   },
   "outputs": [
    {
     "output_type": "stream",
     "name": "stdout",
     "text": "secret key values :  [[1, 1, 1, 1099511623296, 1099511623296, 0, 1099511623296, 1099511623296, 0, 1099511623296, 1, 1, 0, 0, 1099511623296, 1, 1099511623296, 1, 0, 1, 0, 0, 0, 1, 0, 0, 0, 1099511623296, 1099511623296, 1099511623296, 0, 1099511623296, 1099511623296, 0, 1099511623296, 1099511623296, 0, 1, 1099511623296, 1, 1, 0, 1, 1, 1, 1, 1, 1, 1099511623296, 1099511623296, 1, 1, 0, 1099511623296, 1099511623296, 0, 0, 1099511623296, 1, 1099511623296, 1, 0, 1099511623296, 1099511623296]]\n"
    }
   ],
   "source": [
    "# print(len(sk.data))\n",
    "print('secret key values : ', sk.data)"
   ]
  },
  {
   "cell_type": "code",
   "execution_count": 5,
   "metadata": {},
   "outputs": [],
   "source": [
    "# print(pk.data)\n",
    "# print('public key values : ', pk.data)"
   ]
  },
  {
   "cell_type": "markdown",
   "metadata": {},
   "source": [
    "## Integer Encoder\n",
    "Encodes Integer values to Plaintext object"
   ]
  },
  {
   "cell_type": "code",
   "execution_count": 6,
   "metadata": {
    "tags": []
   },
   "outputs": [
    {
     "output_type": "stream",
     "name": "stdout",
     "text": "[0, 1]     [1, 1]     [1, 0, 1]\n"
    }
   ],
   "source": [
    "int_encoder = IntegerEncoder(ctx)\n",
    "ri1 = random.randint(0,10)\n",
    "ri2 = random.randint(0,10)\n",
    "ri3 = random.randint(0,10)\n",
    "pt1 = int_encoder.encode(ri1)\n",
    "pt2 = int_encoder.encode(ri2)\n",
    "pt3 = int_encoder.encode(ri3)\n",
    "print(pt1.data,\"   \", pt2.data, \"   \", pt3.data)\n",
    "# print('plaintext data',plaintext.data)"
   ]
  },
  {
   "cell_type": "markdown",
   "metadata": {},
   "source": [
    "### Decodes back to Integer"
   ]
  },
  {
   "cell_type": "code",
   "execution_count": 7,
   "metadata": {
    "tags": []
   },
   "outputs": [
    {
     "output_type": "stream",
     "name": "stdout",
     "text": "2\n3\n5\n"
    }
   ],
   "source": [
    "print(int_encoder.decode(pt1))\n",
    "print(int_encoder.decode(pt2))\n",
    "print(int_encoder.decode(pt3))"
   ]
  },
  {
   "cell_type": "markdown",
   "metadata": {},
   "source": [
    "## Encrypter\n",
    "Encrypt Plaintext to ciphertext using public_key"
   ]
  },
  {
   "cell_type": "code",
   "execution_count": 8,
   "metadata": {},
   "outputs": [],
   "source": [
    "encrypter = Encryptor(ctx, pk)"
   ]
  },
  {
   "cell_type": "code",
   "execution_count": 9,
   "metadata": {},
   "outputs": [],
   "source": [
    "ct1 = encrypter.encrypt(pt1)\n",
    "ct2 = encrypter.encrypt(pt2)\n",
    "ct3 = encrypter.encrypt(pt3)"
   ]
  },
  {
   "cell_type": "markdown",
   "metadata": {},
   "source": [
    "Encrypt Plaintext to ciphertext using secret_key"
   ]
  },
  {
   "cell_type": "markdown",
   "metadata": {},
   "source": [
    "## Decryptor\n",
    "Decrypt Ciphertext to Plaintext using secret_key"
   ]
  },
  {
   "cell_type": "code",
   "execution_count": 10,
   "metadata": {},
   "outputs": [],
   "source": [
    "decrypter = Decryptor(ctx, sk)"
   ]
  },
  {
   "cell_type": "code",
   "execution_count": 11,
   "metadata": {
    "tags": []
   },
   "outputs": [],
   "source": [
    "dec1 = decrypter.decrypt(ct1)\n",
    "dec2 = decrypter.decrypt(ct2)\n",
    "dec3 = decrypter.decrypt(ct3)"
   ]
  },
  {
   "cell_type": "code",
   "execution_count": 12,
   "metadata": {
    "tags": []
   },
   "outputs": [
    {
     "output_type": "stream",
     "name": "stdout",
     "text": "2     3     5\n"
    }
   ],
   "source": [
    "print(int_encoder.decode(dec1), \"   \", int_encoder.decode(dec2), \"   \", int_encoder.decode(dec3))"
   ]
  },
  {
   "cell_type": "markdown",
   "metadata": {},
   "source": [
    "## Evaluator"
   ]
  },
  {
   "cell_type": "code",
   "execution_count": 13,
   "metadata": {},
   "outputs": [],
   "source": [
    "eval = Evaluator(ctx)"
   ]
  },
  {
   "cell_type": "code",
   "execution_count": 14,
   "metadata": {
    "tags": []
   },
   "outputs": [
    {
     "output_type": "stream",
     "name": "stdout",
     "text": "5\n"
    }
   ],
   "source": [
    "cc12 = eval.add(ct1, ct2)\n",
    "cc12 = decrypter.decrypt(cc12)\n",
    "print(int_encoder.decode(cc12))"
   ]
  },
  {
   "cell_type": "code",
   "execution_count": 15,
   "metadata": {
    "tags": []
   },
   "outputs": [
    {
     "output_type": "stream",
     "name": "stdout",
     "text": "5\n"
    }
   ],
   "source": [
    "pc12 = eval.add(pt1, ct2)\n",
    "pc12 = decrypter.decrypt(pc12)\n",
    "print(int_encoder.decode(pc12))"
   ]
  },
  {
   "cell_type": "code",
   "execution_count": 16,
   "metadata": {
    "tags": []
   },
   "outputs": [
    {
     "output_type": "stream",
     "name": "stdout",
     "text": "5\n"
    }
   ],
   "source": [
    "pp12 = eval.add(pt1, pt2)\n",
    "print(int_encoder.decode(pp12))"
   ]
  },
  {
   "cell_type": "markdown",
   "metadata": {},
   "source": [
    "### Verify result"
   ]
  },
  {
   "cell_type": "code",
   "execution_count": 17,
   "metadata": {},
   "outputs": [],
   "source": [
    "assert int_encoder.decode(cc12) == int_encoder.decode(pc12) == int_encoder.decode(pp12) == ri1+ri2"
   ]
  },
  {
   "cell_type": "code",
   "execution_count": 18,
   "metadata": {
    "tags": []
   },
   "outputs": [
    {
     "output_type": "stream",
     "name": "stdout",
     "text": "\n\nct1 : [[[547673600290, 182509703597, 605352823985, 535031829300, 189121239682, 199238688460, 746855160657, 626879383758, 890239667619, 136334616306, 645233577070, 379730707829, 318673394434, 652022127196, 162659296004, 1012660010564, 845916854940, 334676382180, 564977974847, 295055438742, 135775281406, 919718289214, 645953368005, 468066741347, 530071347981, 746159814619, 396435728522, 233215557072, 843228592838, 727561914241, 704247665699, 86091039060, 825021783247, 591871086487, 236737927759, 640377164113, 184186538798, 468596345651, 829937111145, 1094675881608, 883353846562, 378812248931, 1091947367842, 378331989474, 240990077467, 687053997224, 116876707805, 951688925903, 508556562347, 1057688841892, 289561684465, 1066496182842, 892656877756, 198668617796, 550796436052, 763004528125, 1064890875145, 709350343527, 908980781203, 600568704256, 13150535246, 453394347883, 537267822171, 799436989005]], [[256441165395, 826021478949, 614838782542, 273528695329, 639324189727, 856941481472, 3021117881, 528230580311, 200844287902, 452882236295, 709181376143, 664594872766, 1010092246922, 961755176090, 622230828880, 675602336842, 195989246688, 1082934517698, 211347251590, 602276067799, 390735820515, 992643689755, 565445170846, 727775442533, 1013273324669, 710070029436, 221642970175, 1036140479208, 552788311774, 467395130607, 375949986147, 576193021076, 533293636541, 747778914298, 501942474324, 1084066679264, 376429251864, 265943640599, 176934572288, 44133152392, 1057183618869, 905012096208, 190456613753, 860146968732, 262287073244, 662912947124, 897042287153, 345885831483, 654470436001, 286809042892, 560563140401, 507150810889, 158028365936, 779061766501, 470363048290, 328761609565, 789424070657, 675537740250, 879300621581, 634582824433, 1014393100889, 787083971427, 595241083274, 872130647821]]]\n\n\nct2 : [[[833038432086, 542037308607, 993147177145, 532465871762, 374941882286, 570147965374, 231110647934, 193843065001, 984535932536, 659457971948, 1073550504844, 447016323889, 573255396657, 581572624068, 373595297968, 1012256309678, 815902378005, 298561477786, 297369067067, 92343230925, 415041554714, 409557884573, 727528216484, 171221072477, 765606639104, 371794445003, 836655217675, 680277839034, 436734380682, 297599780133, 660517289732, 147352034770, 129338571480, 964812288727, 1059556147936, 56714112990, 149991136653, 275756892946, 435426270029, 515737977107, 543978091514, 733637343965, 183125054390, 440205600472, 776885026512, 103707529288, 566705898612, 548500834261, 546554650295, 955329284203, 322686004236, 1037716665618, 779971067944, 107087063127, 1030157277167, 64986281942, 975146669453, 932795504648, 468509873349, 479845978749, 521473171209, 183239804598, 850179893003, 830645875868]], [[1030453504364, 740533616176, 943694616090, 479512737616, 988494941286, 316037890344, 654404521957, 1056834466215, 990835812723, 897688893673, 969036784699, 276918955161, 71053732163, 190930957452, 196327775733, 684724950392, 98187576400, 1044352377214, 214832586510, 681082309305, 724485152048, 662413098207, 440940496966, 120753306798, 649015172968, 1039691127040, 1067665549332, 41516121475, 678466134600, 39186086754, 810467517746, 1010391296827, 5585128273, 726576083909, 220231129640, 228247966878, 296444831665, 571309591275, 136316278178, 711455347005, 984496342498, 180054914862, 512956874986, 782430078124, 628222223334, 817516872044, 571722938085, 895155807067, 104028948291, 784305329856, 432801409918, 439441850703, 951274723862, 686350998407, 797432163348, 233288113929, 123348613735, 922126189761, 166933520888, 570366361813, 474025624811, 923969760559, 652359942053, 493762957703]]]\n\n\n\nfinal result:  6\n"
    }
   ],
   "source": [
    "result = eval._mul_cipher_cipher(ct1, ct2)\n",
    "print(\"\\n\\nct1 :\",ct1.data)\n",
    "print(\"\\n\\nct2 :\",ct2.data)\n",
    "print('\\n\\n')\n",
    "\n",
    "result = decrypter.decrypt(result)\n",
    "result = int_encoder.decode(result)\n",
    "\n",
    "print('final result: ', result)"
   ]
  },
  {
   "cell_type": "code",
   "execution_count": 19,
   "metadata": {
    "tags": []
   },
   "outputs": [
    {
     "output_type": "stream",
     "name": "stdout",
     "text": "6      6\n"
    }
   ],
   "source": [
    "print(ri1 * ri2, \"    \", result)\n",
    "assert ri1 * ri2 == result"
   ]
  },
  {
   "cell_type": "code",
   "execution_count": null,
   "metadata": {},
   "outputs": [],
   "source": []
  },
  {
   "cell_type": "code",
   "execution_count": 20,
   "metadata": {
    "tags": []
   },
   "outputs": [],
   "source": [
    "import syft as sy\n",
    "import torch as th\n",
    "hook = sy.TorchHook(th)\n",
    "from syft.frameworks.torch.he.fv.context import Context\n",
    "from syft.frameworks.torch.he.fv.encryption_params import EncryptionParams\n",
    "context = Context(EncryptionParams(128, CoeffModulus().create(128, [30]), 128))"
   ]
  },
  {
   "cell_type": "code",
   "execution_count": 21,
   "metadata": {},
   "outputs": [],
   "source": [
    "keys = KeyGenerator(context).keygen()"
   ]
  },
  {
   "cell_type": "code",
   "execution_count": 22,
   "metadata": {
    "tags": []
   },
   "outputs": [],
   "source": [
    "x = th.Tensor([[1,2,3],[4,5,6]]).int().encrypt(protocol=\"bfv\", private_key=keys[0], context = context)"
   ]
  },
  {
   "cell_type": "code",
   "execution_count": 23,
   "metadata": {
    "tags": []
   },
   "outputs": [
    {
     "output_type": "execute_result",
     "data": {
      "text/plain": "(Wrapper)>BFVTensor>[[<syft.frameworks.torch.he.fv.ciphertext.CipherText object at 0x12fe1df70>\n  <syft.frameworks.torch.he.fv.ciphertext.CipherText object at 0x12fabc490>\n  <syft.frameworks.torch.he.fv.ciphertext.CipherText object at 0x12fe1dee0>]\n [<syft.frameworks.torch.he.fv.ciphertext.CipherText object at 0x12fabc7c0>\n  <syft.frameworks.torch.he.fv.ciphertext.CipherText object at 0x12fe1dfd0>\n  <syft.frameworks.torch.he.fv.ciphertext.CipherText object at 0x12fe1d280>]]"
     },
     "metadata": {},
     "execution_count": 23
    }
   ],
   "source": [
    "x"
   ]
  },
  {
   "cell_type": "code",
   "execution_count": 24,
   "metadata": {},
   "outputs": [
    {
     "output_type": "execute_result",
     "data": {
      "text/plain": "tensor([[1, 2, 3],\n        [4, 5, 6]])"
     },
     "metadata": {},
     "execution_count": 24
    }
   ],
   "source": [
    "y = x.decrypt(private_key = keys[0])\n",
    "y"
   ]
  },
  {
   "cell_type": "code",
   "execution_count": 25,
   "metadata": {},
   "outputs": [
    {
     "output_type": "execute_result",
     "data": {
      "text/plain": "(Wrapper)>BFVTensor>[[<syft.frameworks.torch.he.fv.ciphertext.CipherText object at 0x12fe1df70>\n  <syft.frameworks.torch.he.fv.ciphertext.CipherText object at 0x12fabc490>\n  <syft.frameworks.torch.he.fv.ciphertext.CipherText object at 0x12fe1dee0>]\n [<syft.frameworks.torch.he.fv.ciphertext.CipherText object at 0x12fabc7c0>\n  <syft.frameworks.torch.he.fv.ciphertext.CipherText object at 0x12fe1dfd0>\n  <syft.frameworks.torch.he.fv.ciphertext.CipherText object at 0x12fe1d280>]]"
     },
     "metadata": {},
     "execution_count": 25
    }
   ],
   "source": [
    "x"
   ]
  },
  {
   "cell_type": "code",
   "execution_count": 26,
   "metadata": {},
   "outputs": [],
   "source": [
    "x = x + y"
   ]
  },
  {
   "cell_type": "code",
   "execution_count": 27,
   "metadata": {},
   "outputs": [
    {
     "output_type": "execute_result",
     "data": {
      "text/plain": "(Wrapper)>BFVTensor>[[<syft.frameworks.torch.he.fv.ciphertext.CipherText object at 0x12fe1dbb0>\n  <syft.frameworks.torch.he.fv.ciphertext.CipherText object at 0x12fe1d8b0>\n  <syft.frameworks.torch.he.fv.ciphertext.CipherText object at 0x12fe1d9d0>]\n [<syft.frameworks.torch.he.fv.ciphertext.CipherText object at 0x12fe1db50>\n  <syft.frameworks.torch.he.fv.ciphertext.CipherText object at 0x12fe1da60>\n  <syft.frameworks.torch.he.fv.ciphertext.CipherText object at 0x12fe1dd60>]]"
     },
     "metadata": {},
     "execution_count": 27
    }
   ],
   "source": [
    "x"
   ]
  },
  {
   "cell_type": "code",
   "execution_count": 28,
   "metadata": {},
   "outputs": [
    {
     "output_type": "execute_result",
     "data": {
      "text/plain": "tensor([[ 2,  4,  6],\n        [ 8, 10, 12]])"
     },
     "metadata": {},
     "execution_count": 28
    }
   ],
   "source": [
    "x.decrypt(private_key = keys[0])"
   ]
  },
  {
   "cell_type": "code",
   "execution_count": 29,
   "metadata": {},
   "outputs": [],
   "source": [
    "x = x - th.Tensor([[1,2,3],[4,5,6]]).int().encrypt(protocol=\"bfv\", private_key=keys[0], context = context)"
   ]
  },
  {
   "cell_type": "code",
   "execution_count": 30,
   "metadata": {},
   "outputs": [
    {
     "output_type": "execute_result",
     "data": {
      "text/plain": "(Wrapper)>BFVTensor>[[<syft.frameworks.torch.he.fv.ciphertext.CipherText object at 0x12fe4b6d0>\n  <syft.frameworks.torch.he.fv.ciphertext.CipherText object at 0x12fe4b820>\n  <syft.frameworks.torch.he.fv.ciphertext.CipherText object at 0x12fe4b850>]\n [<syft.frameworks.torch.he.fv.ciphertext.CipherText object at 0x12fe4b8e0>\n  <syft.frameworks.torch.he.fv.ciphertext.CipherText object at 0x12fe4b9d0>\n  <syft.frameworks.torch.he.fv.ciphertext.CipherText object at 0x12fe4bb20>]]"
     },
     "metadata": {},
     "execution_count": 30
    }
   ],
   "source": [
    "x"
   ]
  },
  {
   "cell_type": "code",
   "execution_count": 31,
   "metadata": {},
   "outputs": [
    {
     "output_type": "execute_result",
     "data": {
      "text/plain": "tensor([[1, 2, 3],\n        [4, 5, 6]])"
     },
     "metadata": {},
     "execution_count": 31
    }
   ],
   "source": [
    "x.decrypt(private_key = keys[0])"
   ]
  },
  {
   "cell_type": "code",
   "execution_count": null,
   "metadata": {},
   "outputs": [],
   "source": []
  }
 ],
 "metadata": {
  "file_extension": ".py",
  "kernelspec": {
   "display_name": "Python 3.8.5 64-bit",
   "language": "python",
   "name": "python_defaultSpec_1598003932032"
  },
  "language_info": {
   "codemirror_mode": {
    "name": "ipython",
    "version": 3
   },
   "file_extension": ".py",
   "mimetype": "text/x-python",
   "name": "python",
   "nbconvert_exporter": "python",
   "pygments_lexer": "ipython3",
   "version": "3.8.5-final"
  },
  "mimetype": "text/x-python",
  "name": "python",
  "npconvert_exporter": "python",
  "pygments_lexer": "ipython3",
  "version": 3
 },
 "nbformat": 4,
 "nbformat_minor": 2
}
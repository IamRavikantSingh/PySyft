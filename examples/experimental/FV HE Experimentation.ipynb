{
 "cells": [
  {
   "cell_type": "markdown",
   "metadata": {},
   "source": [
    "# Testing Individual components of the FV HE scheme"
   ]
  },
  {
   "cell_type": "code",
   "execution_count": 1,
   "metadata": {},
   "outputs": [],
   "source": [
    "import random\n",
    "\n",
    "from syft.frameworks.torch.he.fv.modulus import CoeffModulus\n",
    "from syft.frameworks.torch.he.fv.encryption_params import EncryptionParams\n",
    "from syft.frameworks.torch.he.fv.context import Context\n",
    "from syft.frameworks.torch.he.fv.integer_encoder import IntegerEncoder\n",
    "from syft.frameworks.torch.he.fv.key_generator import KeyGenerator\n",
    "from syft.frameworks.torch.he.fv.encryptor import Encryptor\n",
    "from syft.frameworks.torch.he.fv.decryptor import Decryptor\n",
    "from syft.frameworks.torch.he.fv.integer_encoder import IntegerEncoder\n",
    "from syft.frameworks.torch.he.fv.modulus import SeqLevelType\n",
    "from syft.frameworks.torch.he.fv.evaluator import Evaluator"
   ]
  },
  {
   "cell_type": "markdown",
   "metadata": {},
   "source": [
    "## Keygeneration"
   ]
  },
  {
   "cell_type": "code",
   "execution_count": 2,
   "metadata": {},
   "outputs": [],
   "source": [
    "poly_modulus = 64\n",
    "bit_sizes= [40]\n",
    "plain_modulus = 64\n",
    "ctx = Context(EncryptionParams(poly_modulus, CoeffModulus().create(poly_modulus, bit_sizes), plain_modulus))\n",
    "keygenerator = KeyGenerator(ctx)\n",
    "sk, pk = keygenerator.keygen()"
   ]
  },
  {
   "cell_type": "code",
   "execution_count": 3,
   "metadata": {
    "tags": []
   },
   "outputs": [
    {
     "output_type": "stream",
     "name": "stdout",
     "text": [
      "secret key values :  [[0, 0, 1099511623296, 0, 0, 1, 0, 1099511623296, 1, 1, 1099511623296, 1, 1, 1, 1099511623296, 1, 1099511623296, 1, 0, 0, 1099511623296, 1, 1, 1099511623296, 1099511623296, 0, 0, 0, 0, 0, 0, 1099511623296, 1099511623296, 1099511623296, 1099511623296, 1099511623296, 1099511623296, 1099511623296, 0, 0, 1, 1, 1, 1, 1, 0, 1, 0, 0, 1, 1, 1099511623296, 1099511623296, 0, 1, 1, 1099511623296, 0, 1, 0, 1099511623296, 1, 1099511623296, 1]]\n"
     ]
    }
   ],
   "source": [
    "# print(len(sk.data))\n",
    "print('secret key values : ', sk.data)"
   ]
  },
  {
   "cell_type": "code",
   "execution_count": 4,
   "metadata": {},
   "outputs": [],
   "source": [
    "# print(pk.data)\n",
    "# print('public key values : ', pk.data)"
   ]
  },
  {
   "cell_type": "markdown",
   "metadata": {},
   "source": [
    "## Integer Encoder\n",
    "Encodes Integer values to Plaintext object"
   ]
  },
  {
   "cell_type": "code",
   "execution_count": 5,
   "metadata": {
    "tags": []
   },
   "outputs": [
    {
     "output_type": "stream",
     "name": "stdout",
     "text": [
      "[1]     [0, 0, 0, 1]     [0, 1]\n"
     ]
    }
   ],
   "source": [
    "int_encoder = IntegerEncoder(ctx)\n",
    "ri1 = random.randint(0,10)\n",
    "ri2 = random.randint(0,10)\n",
    "ri3 = random.randint(0,10)\n",
    "pt1 = int_encoder.encode(ri1)\n",
    "pt2 = int_encoder.encode(ri2)\n",
    "pt3 = int_encoder.encode(ri3)\n",
    "print(pt1.data,\"   \", pt2.data, \"   \", pt3.data)\n",
    "# print('plaintext data',plaintext.data)"
   ]
  },
  {
   "cell_type": "markdown",
   "metadata": {},
   "source": [
    "### Decodes back to Integer"
   ]
  },
  {
   "cell_type": "code",
   "execution_count": 6,
   "metadata": {
    "tags": []
   },
   "outputs": [
    {
     "output_type": "stream",
     "name": "stdout",
     "text": [
      "1\n8\n2\n"
     ]
    }
   ],
   "source": [
    "print(int_encoder.decode(pt1))\n",
    "print(int_encoder.decode(pt2))\n",
    "print(int_encoder.decode(pt3))"
   ]
  },
  {
   "cell_type": "markdown",
   "metadata": {},
   "source": [
    "## Encrypter\n",
    "Encrypt Plaintext to ciphertext using public_key"
   ]
  },
  {
   "cell_type": "code",
   "execution_count": 7,
   "metadata": {},
   "outputs": [],
   "source": [
    "encrypter = Encryptor(ctx, pk)"
   ]
  },
  {
   "cell_type": "code",
   "execution_count": 8,
   "metadata": {
    "tags": []
   },
   "outputs": [],
   "source": [
    "ct1 = encrypter.encrypt(pt1)\n",
    "ct2 = encrypter.encrypt(pt2)\n",
    "ct3 = encrypter.encrypt(pt3)"
   ]
  },
  {
   "cell_type": "markdown",
   "metadata": {},
   "source": [
    "Encrypt Plaintext to ciphertext using secret_key"
   ]
  },
  {
   "cell_type": "markdown",
   "metadata": {},
   "source": [
    "## Decryptor\n",
    "Decrypt Ciphertext to Plaintext using secret_key"
   ]
  },
  {
   "cell_type": "code",
   "execution_count": 9,
   "metadata": {},
   "outputs": [],
   "source": [
    "decrypter = Decryptor(ctx, sk)"
   ]
  },
  {
   "cell_type": "code",
   "execution_count": 10,
   "metadata": {
    "tags": []
   },
   "outputs": [],
   "source": [
    "dec1 = decrypter.decrypt(ct1)\n",
    "dec2 = decrypter.decrypt(ct2)\n",
    "dec3 = decrypter.decrypt(ct3)"
   ]
  },
  {
   "cell_type": "code",
   "execution_count": 11,
   "metadata": {
    "tags": []
   },
   "outputs": [
    {
     "output_type": "stream",
     "name": "stdout",
     "text": [
      "1     8     2\n"
     ]
    }
   ],
   "source": [
    "print(int_encoder.decode(dec1), \"   \", int_encoder.decode(dec2), \"   \", int_encoder.decode(dec3))"
   ]
  },
  {
   "cell_type": "markdown",
   "metadata": {},
   "source": [
    "## Evaluator"
   ]
  },
  {
   "cell_type": "code",
   "execution_count": 12,
   "metadata": {},
   "outputs": [],
   "source": [
    "eval = Evaluator(ctx)"
   ]
  },
  {
   "cell_type": "code",
   "execution_count": 13,
   "metadata": {
    "tags": []
   },
   "outputs": [
    {
     "output_type": "stream",
     "name": "stdout",
     "text": [
      "9\n"
     ]
    }
   ],
   "source": [
    "cc12 = eval.add(ct1, ct2)\n",
    "cc12 = decrypter.decrypt(cc12)\n",
    "print(int_encoder.decode(cc12))"
   ]
  },
  {
   "cell_type": "code",
   "execution_count": 14,
   "metadata": {
    "tags": []
   },
   "outputs": [
    {
     "output_type": "stream",
     "name": "stdout",
     "text": [
      "9\n"
     ]
    }
   ],
   "source": [
    "pc12 = eval.add(pt1, ct2)\n",
    "pc12 = decrypter.decrypt(pc12)\n",
    "print(int_encoder.decode(pc12))"
   ]
  },
  {
   "cell_type": "code",
   "execution_count": 15,
   "metadata": {
    "tags": []
   },
   "outputs": [
    {
     "output_type": "stream",
     "name": "stdout",
     "text": [
      "9\n"
     ]
    }
   ],
   "source": [
    "pp12 = eval.add(pt1, pt2)\n",
    "print(int_encoder.decode(pp12))"
   ]
  },
  {
   "cell_type": "markdown",
   "metadata": {},
   "source": [
    "### Verify result"
   ]
  },
  {
   "cell_type": "code",
   "execution_count": 16,
   "metadata": {},
   "outputs": [],
   "source": [
    "assert int_encoder.decode(cc12) == int_encoder.decode(pc12) == int_encoder.decode(pp12) == ri1+ri2"
   ]
  },
  {
   "cell_type": "code",
   "execution_count": 17,
   "metadata": {
    "tags": []
   },
   "outputs": [
    {
     "output_type": "stream",
     "name": "stdout",
     "text": [
      "\n\nct1 : [[[127467458230, 644314413317, 204785670438, 750837692148, 136960509837, 1093509326191, 860783479643, 756743342323, 405027555463, 1083275239148, 205019059481, 225199556806, 925805718786, 499720023403, 371200675131, 1038781305241, 759012902516, 1059705199397, 61017040272, 625861354154, 570148665491, 34912981542, 429409110715, 909006816393, 585787448234, 854159639079, 264326846874, 820396173723, 20007182420, 844360972333, 1076987137653, 884329380575, 959853615141, 458930278236, 42810442255, 808585438264, 759464852937, 365284216606, 781954897265, 383488359137, 708111279244, 594709524499, 628635894240, 585911086356, 726931939379, 594996700726, 817845186417, 395369077259, 239232021256, 1063103518356, 419374985589, 1080283371425, 449079163667, 548081908262, 759412338624, 616945580445, 1011370468696, 856408221719, 155089635110, 1092979658621, 161110519292, 51135746339, 945967841325, 933499164988]], [[133818496119, 943075325841, 56580002692, 758168077802, 1055602744683, 943669089615, 224319716826, 891448724258, 31973545127, 797889912096, 320960294269, 433031482462, 776387105993, 911240710706, 782080769009, 1050600509756, 166110070215, 809415319063, 508239688809, 46546318768, 250620169187, 217096590525, 555531733162, 499549460478, 380457663366, 412593448061, 872413156985, 957957301925, 961218970840, 900314214187, 572901779715, 36668774722, 942234180776, 253805540331, 264422642911, 1048194530777, 710396375956, 658746465174, 953026131973, 286346585751, 897383495366, 438275211775, 283305441280, 937127868776, 840534104970, 516311968115, 70117653697, 537960780802, 544270141735, 477931013165, 913740141605, 879747210922, 20011384243, 877851008271, 309588830755, 1067102385409, 285290892330, 366155393749, 415946685184, 74816672741, 288570163218, 764928874780, 852614788270, 820723227081]]]\n\n\nct2 : [[[885725851431, 88449451570, 285800985961, 439203027605, 148264732429, 235976364450, 466227588803, 700038421753, 643951259026, 11338889742, 482748596159, 1007029002243, 758332560049, 308358338521, 520118808287, 384567029232, 865916825310, 871788108540, 735641227050, 945325840053, 72632223781, 742941242083, 574099472842, 313749842653, 407125127654, 416156139971, 286521844123, 308879109182, 502086490281, 589361137471, 958839534791, 697865221594, 996189098431, 90586847824, 167424624021, 842401621658, 688032357147, 508585328853, 664982478116, 420393085312, 375091454891, 7433424938, 280287268146, 551947899345, 300435987483, 190270488321, 785655129657, 883108943874, 697687732142, 212206060268, 853826153705, 170526180256, 1041304059946, 302754585083, 313672491553, 202440738404, 469590189969, 29079594666, 284937301080, 1077211226846, 48194666403, 681160787582, 682936284769, 1063662713225]], [[1012824273693, 497592365563, 295574951235, 923987635999, 271543016561, 569331596077, 143840190636, 871518228455, 13233887634, 591609860464, 383506324967, 140624359179, 1075786449851, 44096136190, 1003239274320, 852195954292, 607557299095, 726048013225, 23053774866, 466637249439, 974527112518, 167085753019, 664525294664, 867904133230, 741745800899, 37918148054, 53085485551, 1037150191738, 242401700473, 299113361378, 961800903534, 250174228046, 920177447884, 711692655602, 329920542853, 680008376629, 964154196809, 349182987947, 673965687855, 622188867616, 971882817442, 468346238723, 985811568104, 448324218415, 712510564762, 891941623085, 173101338186, 806607849252, 501803249549, 605475362246, 1086040174034, 590757186321, 605225437883, 1080401403430, 69203409223, 500767928567, 189389087482, 77954494047, 580097965368, 563030628110, 54891417943, 924261158073, 15857546022, 734398926327]]]\n\n\n\nfinal result:  8\n"
     ]
    }
   ],
   "source": [
    "result = eval._mul_cipher_cipher(ct1, ct2)\n",
    "print(\"\\n\\nct1 :\",ct1.data)\n",
    "print(\"\\n\\nct2 :\",ct2.data)\n",
    "print('\\n\\n')\n",
    "\n",
    "result = decrypter.decrypt(result)\n",
    "result = int_encoder.decode(result)\n",
    "\n",
    "print('final result: ', result)"
   ]
  },
  {
   "cell_type": "code",
   "execution_count": 18,
   "metadata": {
    "tags": []
   },
   "outputs": [
    {
     "output_type": "stream",
     "name": "stdout",
     "text": [
      "8      8\n"
     ]
    }
   ],
   "source": [
    "print(ri1 * ri2, \"    \", result)\n",
    "assert ri1 * ri2 == result"
   ]
  },
  {
   "source": [
    "## Tensor Testing"
   ],
   "cell_type": "markdown",
   "metadata": {}
  },
  {
   "cell_type": "code",
   "execution_count": 19,
   "metadata": {
    "tags": []
   },
   "outputs": [],
   "source": [
    "import syft as sy\n",
    "import torch as th\n",
    "hook = sy.TorchHook(th)\n",
    "from syft.frameworks.torch.he.fv.context import Context\n",
    "from syft.frameworks.torch.he.fv.encryption_params import EncryptionParams\n",
    "context = Context(EncryptionParams(128, CoeffModulus().create(64, [30, 30]), 64))"
   ]
  },
  {
   "cell_type": "code",
   "execution_count": 20,
   "metadata": {
    "tags": []
   },
   "outputs": [],
   "source": [
    "key_generator = KeyGenerator(context)\n",
    "keys = key_generator.keygen()\n",
    "relin_key = key_generator.get_relin_keys()"
   ]
  },
  {
   "cell_type": "code",
   "execution_count": 21,
   "metadata": {
    "tags": []
   },
   "outputs": [],
   "source": [
    "x = th.Tensor([[1,2,3],[4,5,6]]).int().encrypt(protocol=\"bfv\", private_key=keys[0], context = context)"
   ]
  },
  {
   "cell_type": "code",
   "execution_count": 22,
   "metadata": {
    "tags": []
   },
   "outputs": [
    {
     "output_type": "execute_result",
     "data": {
      "text/plain": [
       "(Wrapper)>BFVTensor>[[<syft.frameworks.torch.he.fv.ciphertext.CipherText object at 0x12d856520>\n",
       "  <syft.frameworks.torch.he.fv.ciphertext.CipherText object at 0x12dbade80>\n",
       "  <syft.frameworks.torch.he.fv.ciphertext.CipherText object at 0x12d856b80>]\n",
       " [<syft.frameworks.torch.he.fv.ciphertext.CipherText object at 0x12dbaddc0>\n",
       "  <syft.frameworks.torch.he.fv.ciphertext.CipherText object at 0x12d8565b0>\n",
       "  <syft.frameworks.torch.he.fv.ciphertext.CipherText object at 0x12dbadd00>]]"
      ]
     },
     "metadata": {},
     "execution_count": 22
    }
   ],
   "source": [
    "x"
   ]
  },
  {
   "cell_type": "code",
   "execution_count": 23,
   "metadata": {},
   "outputs": [
    {
     "output_type": "execute_result",
     "data": {
      "text/plain": [
       "tensor([[1, 2, 3],\n",
       "        [4, 5, 6]])"
      ]
     },
     "metadata": {},
     "execution_count": 23
    }
   ],
   "source": [
    "y = x.decrypt(private_key = keys[0])\n",
    "y"
   ]
  },
  {
   "cell_type": "code",
   "execution_count": 24,
   "metadata": {},
   "outputs": [
    {
     "output_type": "execute_result",
     "data": {
      "text/plain": [
       "(Wrapper)>BFVTensor>[[<syft.frameworks.torch.he.fv.ciphertext.CipherText object at 0x12d856520>\n",
       "  <syft.frameworks.torch.he.fv.ciphertext.CipherText object at 0x12dbade80>\n",
       "  <syft.frameworks.torch.he.fv.ciphertext.CipherText object at 0x12d856b80>]\n",
       " [<syft.frameworks.torch.he.fv.ciphertext.CipherText object at 0x12dbaddc0>\n",
       "  <syft.frameworks.torch.he.fv.ciphertext.CipherText object at 0x12d8565b0>\n",
       "  <syft.frameworks.torch.he.fv.ciphertext.CipherText object at 0x12dbadd00>]]"
      ]
     },
     "metadata": {},
     "execution_count": 24
    }
   ],
   "source": [
    "x"
   ]
  },
  {
   "cell_type": "code",
   "execution_count": 25,
   "metadata": {
    "tags": []
   },
   "outputs": [],
   "source": [
    "x = x + y"
   ]
  },
  {
   "cell_type": "code",
   "execution_count": 26,
   "metadata": {},
   "outputs": [
    {
     "output_type": "execute_result",
     "data": {
      "text/plain": [
       "(Wrapper)>BFVTensor>[[<syft.frameworks.torch.he.fv.ciphertext.CipherText object at 0x12dbe41f0>\n",
       "  <syft.frameworks.torch.he.fv.ciphertext.CipherText object at 0x12dbe4490>\n",
       "  <syft.frameworks.torch.he.fv.ciphertext.CipherText object at 0x12dbe44c0>]\n",
       " [<syft.frameworks.torch.he.fv.ciphertext.CipherText object at 0x12dbe4580>\n",
       "  <syft.frameworks.torch.he.fv.ciphertext.CipherText object at 0x12dbe45b0>\n",
       "  <syft.frameworks.torch.he.fv.ciphertext.CipherText object at 0x12dbe4670>]]"
      ]
     },
     "metadata": {},
     "execution_count": 26
    }
   ],
   "source": [
    "x"
   ]
  },
  {
   "cell_type": "code",
   "execution_count": 27,
   "metadata": {},
   "outputs": [
    {
     "output_type": "execute_result",
     "data": {
      "text/plain": [
       "tensor([[ 2,  4,  6],\n",
       "        [ 8, 10, 12]])"
      ]
     },
     "metadata": {},
     "execution_count": 27
    }
   ],
   "source": [
    "x.decrypt(private_key = keys[0])"
   ]
  },
  {
   "cell_type": "code",
   "execution_count": 28,
   "metadata": {
    "tags": []
   },
   "outputs": [],
   "source": [
    "x = x - th.Tensor([[1,2,3],[1,2,3]]).int().encrypt(protocol=\"bfv\", private_key=keys[0], context = context)"
   ]
  },
  {
   "cell_type": "code",
   "execution_count": 29,
   "metadata": {},
   "outputs": [
    {
     "output_type": "execute_result",
     "data": {
      "text/plain": [
       "(Wrapper)>BFVTensor>[[<syft.frameworks.torch.he.fv.ciphertext.CipherText object at 0x12dc0e1f0>\n",
       "  <syft.frameworks.torch.he.fv.ciphertext.CipherText object at 0x12dc0e2e0>\n",
       "  <syft.frameworks.torch.he.fv.ciphertext.CipherText object at 0x12dc0e310>]\n",
       " [<syft.frameworks.torch.he.fv.ciphertext.CipherText object at 0x12dc0e370>\n",
       "  <syft.frameworks.torch.he.fv.ciphertext.CipherText object at 0x12dc0e3d0>\n",
       "  <syft.frameworks.torch.he.fv.ciphertext.CipherText object at 0x12dc0e430>]]"
      ]
     },
     "metadata": {},
     "execution_count": 29
    }
   ],
   "source": [
    "x"
   ]
  },
  {
   "cell_type": "code",
   "execution_count": 30,
   "metadata": {},
   "outputs": [
    {
     "output_type": "execute_result",
     "data": {
      "text/plain": [
       "tensor([[1, 2, 3],\n",
       "        [7, 8, 9]])"
      ]
     },
     "metadata": {},
     "execution_count": 30
    }
   ],
   "source": [
    "x.decrypt(private_key = keys[0])"
   ]
  },
  {
   "cell_type": "code",
   "execution_count": 31,
   "metadata": {},
   "outputs": [],
   "source": [
    " x = x*x"
   ]
  },
  {
   "cell_type": "code",
   "execution_count": 32,
   "metadata": {},
   "outputs": [
    {
     "output_type": "execute_result",
     "data": {
      "text/plain": [
       "tensor([[ 1,  4,  9],\n",
       "        [49, 64, 81]])"
      ]
     },
     "metadata": {},
     "execution_count": 32
    }
   ],
   "source": [
    "x.decrypt(private_key = keys[0])"
   ]
  },
  {
   "cell_type": "code",
   "execution_count": 33,
   "metadata": {
    "tags": []
   },
   "outputs": [],
   "source": [
    "a = th.Tensor([[1,2,3],[4,5,6]]).int().encrypt(protocol=\"bfv\", private_key=keys[0], context = context)\n",
    "b = th.Tensor([[-1,-2],[-3,-4], [-5,-6]]).int().encrypt(protocol=\"bfv\", private_key=keys[0], context = context)"
   ]
  },
  {
   "cell_type": "code",
   "execution_count": 34,
   "metadata": {},
   "outputs": [
    {
     "output_type": "execute_result",
     "data": {
      "text/plain": [
       "(Wrapper)>BFVTensor>[[<syft.frameworks.torch.he.fv.ciphertext.CipherText object at 0x12dc202e0>\n",
       "  <syft.frameworks.torch.he.fv.ciphertext.CipherText object at 0x12d83c400>\n",
       "  <syft.frameworks.torch.he.fv.ciphertext.CipherText object at 0x12dc20190>]\n",
       " [<syft.frameworks.torch.he.fv.ciphertext.CipherText object at 0x12dc21bb0>\n",
       "  <syft.frameworks.torch.he.fv.ciphertext.CipherText object at 0x12dc20f10>\n",
       "  <syft.frameworks.torch.he.fv.ciphertext.CipherText object at 0x12dc21b20>]]"
      ]
     },
     "metadata": {},
     "execution_count": 34
    }
   ],
   "source": [
    "a"
   ]
  },
  {
   "cell_type": "code",
   "execution_count": 35,
   "metadata": {},
   "outputs": [
    {
     "output_type": "execute_result",
     "data": {
      "text/plain": [
       "(Wrapper)>BFVTensor>[[<syft.frameworks.torch.he.fv.ciphertext.CipherText object at 0x12dc20e50>\n",
       "  <syft.frameworks.torch.he.fv.ciphertext.CipherText object at 0x12dc219a0>]\n",
       " [<syft.frameworks.torch.he.fv.ciphertext.CipherText object at 0x12dc20130>\n",
       "  <syft.frameworks.torch.he.fv.ciphertext.CipherText object at 0x12dc214f0>]\n",
       " [<syft.frameworks.torch.he.fv.ciphertext.CipherText object at 0x12dc20fa0>\n",
       "  <syft.frameworks.torch.he.fv.ciphertext.CipherText object at 0x12dc21e80>]]"
      ]
     },
     "metadata": {},
     "execution_count": 35
    }
   ],
   "source": [
    "b"
   ]
  },
  {
   "cell_type": "code",
   "execution_count": 36,
   "metadata": {
    "tags": []
   },
   "outputs": [
    {
     "output_type": "stream",
     "name": "stdout",
     "text": [
      "(Wrapper)>BFVTensor>[[<syft.frameworks.torch.he.fv.ciphertext.CipherText object at 0x12d808400>\n  <syft.frameworks.torch.he.fv.ciphertext.CipherText object at 0x12dba82b0>]\n [<syft.frameworks.torch.he.fv.ciphertext.CipherText object at 0x12dc20520>\n  <syft.frameworks.torch.he.fv.ciphertext.CipherText object at 0x12dc256d0>]]\n"
     ]
    }
   ],
   "source": [
    "ans_mm = a.mm(b, relin_key = relin_key)\n",
    "print(ans_mm)"
   ]
  },
  {
   "cell_type": "code",
   "execution_count": 37,
   "metadata": {},
   "outputs": [],
   "source": [
    "mm_decrypt = ans_mm.decrypt(private_key = keys[0])"
   ]
  },
  {
   "cell_type": "code",
   "execution_count": 38,
   "metadata": {},
   "outputs": [
    {
     "output_type": "stream",
     "name": "stdout",
     "text": [
      "tensor([[-22, -28],\n        [-49, -64]])\n"
     ]
    }
   ],
   "source": [
    "print(mm_decrypt)"
   ]
  },
  {
   "cell_type": "code",
   "execution_count": null,
   "metadata": {},
   "outputs": [],
   "source": []
  }
 ],
 "metadata": {
  "file_extension": ".py",
  "kernelspec": {
   "name": "Python 3.8.5 64-bit",
   "display_name": "Python 3.8.5 64-bit",
   "metadata": {
    "interpreter": {
     "hash": "1ee38ef4a5a9feb55287fd749643f13d043cb0a7addaab2a9c224cbe137c0062"
    }
   }
  },
  "language_info": {
   "codemirror_mode": {
    "name": "ipython",
    "version": 3
   },
   "file_extension": ".py",
   "mimetype": "text/x-python",
   "name": "python",
   "nbconvert_exporter": "python",
   "pygments_lexer": "ipython3",
   "version": "3.8.5-final"
  },
  "mimetype": "text/x-python",
  "name": "python",
  "npconvert_exporter": "python",
  "pygments_lexer": "ipython3",
  "version": 3
 },
 "nbformat": 4,
 "nbformat_minor": 2
}
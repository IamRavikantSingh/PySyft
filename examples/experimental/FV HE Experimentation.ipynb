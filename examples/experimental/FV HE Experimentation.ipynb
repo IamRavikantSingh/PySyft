{
 "cells": [
  {
   "cell_type": "markdown",
   "metadata": {},
   "source": [
    "# Testing Individual components of the FV HE scheme"
   ]
  },
  {
   "cell_type": "code",
   "execution_count": 1,
   "metadata": {
    "tags": []
   },
   "outputs": [],
   "source": [
    "import random\n",
    "\n",
    "from syft.frameworks.torch.he.fv.modulus import CoeffModulus\n",
    "from syft.frameworks.torch.he.fv.encryption_params import EncryptionParams\n",
    "from syft.frameworks.torch.he.fv.context import Context\n",
    "from syft.frameworks.torch.he.fv.integer_encoder import IntegerEncoder\n",
    "from syft.frameworks.torch.he.fv.key_generator import KeyGenerator\n",
    "from syft.frameworks.torch.he.fv.encryptor import Encryptor\n",
    "from syft.frameworks.torch.he.fv.decryptor import Decryptor\n",
    "from syft.frameworks.torch.he.fv.integer_encoder import IntegerEncoder\n",
    "from syft.frameworks.torch.he.fv.modulus import SeqLevelType\n",
    "from syft.frameworks.torch.he.fv.evaluator import Evaluator"
   ]
  },
  {
   "cell_type": "markdown",
   "metadata": {},
   "source": [
    "## Keygeneration"
   ]
  },
  {
   "cell_type": "code",
   "execution_count": 2,
   "metadata": {},
   "outputs": [],
   "source": [
    "poly_modulus = 64\n",
    "bit_sizes= [40]\n",
    "plain_modulus = 64\n",
    "ctx = Context(EncryptionParams(poly_modulus, CoeffModulus().create(poly_modulus, bit_sizes), plain_modulus))\n",
    "keygenerator = KeyGenerator(ctx)\n",
    "sk, pk = keygenerator.keygen()"
   ]
  },
  {
   "cell_type": "code",
   "execution_count": 3,
   "metadata": {
    "tags": []
   },
   "outputs": [
    {
     "output_type": "error",
     "ename": "AttributeError",
     "evalue": "'Context' object has no attribute 'param'",
     "traceback": [
      "\u001b[0;31m---------------------------------------------------------------------------\u001b[0m",
      "\u001b[0;31mAttributeError\u001b[0m                            Traceback (most recent call last)",
      "\u001b[0;32m<ipython-input-3-53b9ef16a468>\u001b[0m in \u001b[0;36m<module>\u001b[0;34m\u001b[0m\n\u001b[0;32m----> 1\u001b[0;31m \u001b[0mprint\u001b[0m\u001b[0;34m(\u001b[0m\u001b[0mctx\u001b[0m\u001b[0;34m.\u001b[0m\u001b[0mparam\u001b[0m\u001b[0;34m.\u001b[0m\u001b[0mcoeff_modulus\u001b[0m\u001b[0;34m)\u001b[0m\u001b[0;34m\u001b[0m\u001b[0;34m\u001b[0m\u001b[0m\n\u001b[0m",
      "\u001b[0;31mAttributeError\u001b[0m: 'Context' object has no attribute 'param'"
     ]
    }
   ],
   "source": [
    "print(ctx.param.coeff_modulus)"
   ]
  },
  {
   "cell_type": "code",
   "execution_count": 4,
   "metadata": {
    "tags": []
   },
   "outputs": [
    {
     "output_type": "stream",
     "name": "stdout",
     "text": "secret key values :  [[0, 1, 0, 1099511623296, 1, 0, 1, 1, 1, 1, 1, 1, 0, 1, 1099511623296, 1, 0, 1099511623296, 1099511623296, 0, 1099511623296, 0, 1, 0, 1, 1099511623296, 0, 0, 1099511623296, 1099511623296, 1099511623296, 1, 1, 1099511623296, 0, 1, 1, 0, 0, 1099511623296, 1, 1099511623296, 1099511623296, 1099511623296, 1099511623296, 1, 1, 1099511623296, 1, 0, 1099511623296, 1099511623296, 0, 0, 0, 1099511623296, 0, 0, 1099511623296, 1099511623296, 0, 1099511623296, 1, 0]]\n"
    }
   ],
   "source": [
    "# print(len(sk.data))\n",
    "print('secret key values : ', sk.data)"
   ]
  },
  {
   "cell_type": "code",
   "execution_count": 5,
   "metadata": {},
   "outputs": [],
   "source": [
    "# print(pk.data)\n",
    "# print('public key values : ', pk.data)"
   ]
  },
  {
   "cell_type": "markdown",
   "metadata": {},
   "source": [
    "## Integer Encoder\n",
    "Encodes Integer values to Plaintext object"
   ]
  },
  {
   "cell_type": "code",
   "execution_count": 6,
   "metadata": {
    "tags": []
   },
   "outputs": [
    {
     "output_type": "stream",
     "name": "stdout",
     "text": "[0, 1]     [0, 0, 0, 1]     [0, 0, 0, 1]\n"
    }
   ],
   "source": [
    "int_encoder = IntegerEncoder(ctx)\n",
    "ri1 = random.randint(0,10)\n",
    "ri2 = random.randint(0,10)\n",
    "ri3 = random.randint(0,10)\n",
    "pt1 = int_encoder.encode(ri1)\n",
    "pt2 = int_encoder.encode(ri2)\n",
    "pt3 = int_encoder.encode(ri3)\n",
    "print(pt1.data,\"   \", pt2.data, \"   \", pt3.data)\n",
    "# print('plaintext data',plaintext.data)"
   ]
  },
  {
   "cell_type": "markdown",
   "metadata": {},
   "source": [
    "### Decodes back to Integer"
   ]
  },
  {
   "cell_type": "code",
   "execution_count": 7,
   "metadata": {
    "tags": []
   },
   "outputs": [
    {
     "output_type": "stream",
     "name": "stdout",
     "text": "2\n8\n8\n"
    }
   ],
   "source": [
    "print(int_encoder.decode(pt1))\n",
    "print(int_encoder.decode(pt2))\n",
    "print(int_encoder.decode(pt3))"
   ]
  },
  {
   "cell_type": "markdown",
   "metadata": {},
   "source": [
    "## Encrypter\n",
    "Encrypt Plaintext to ciphertext using public_key"
   ]
  },
  {
   "cell_type": "code",
   "execution_count": 8,
   "metadata": {},
   "outputs": [],
   "source": [
    "encrypter = Encryptor(ctx, pk)"
   ]
  },
  {
   "cell_type": "code",
   "execution_count": 9,
   "metadata": {},
   "outputs": [],
   "source": [
    "ct1 = encrypter.encrypt(pt1)\n",
    "ct2 = encrypter.encrypt(pt2)\n",
    "ct3 = encrypter.encrypt(pt3)"
   ]
  },
  {
   "cell_type": "markdown",
   "metadata": {},
   "source": [
    "Encrypt Plaintext to ciphertext using secret_key"
   ]
  },
  {
   "cell_type": "markdown",
   "metadata": {},
   "source": [
    "## Decryptor\n",
    "Decrypt Ciphertext to Plaintext using secret_key"
   ]
  },
  {
   "cell_type": "code",
   "execution_count": 10,
   "metadata": {},
   "outputs": [],
   "source": [
    "decrypter = Decryptor(ctx, sk)"
   ]
  },
  {
   "cell_type": "code",
   "execution_count": 11,
   "metadata": {
    "tags": []
   },
   "outputs": [],
   "source": [
    "dec1 = decrypter.decrypt(ct1)\n",
    "dec2 = decrypter.decrypt(ct2)\n",
    "dec3 = decrypter.decrypt(ct3)"
   ]
  },
  {
   "cell_type": "code",
   "execution_count": 12,
   "metadata": {
    "tags": []
   },
   "outputs": [
    {
     "output_type": "stream",
     "name": "stdout",
     "text": "2     8     8\n"
    }
   ],
   "source": [
    "print(int_encoder.decode(dec1), \"   \", int_encoder.decode(dec2), \"   \", int_encoder.decode(dec3))"
   ]
  },
  {
   "cell_type": "markdown",
   "metadata": {},
   "source": [
    "## Evaluator"
   ]
  },
  {
   "cell_type": "code",
   "execution_count": 13,
   "metadata": {},
   "outputs": [],
   "source": [
    "eval = Evaluator(ctx)"
   ]
  },
  {
   "cell_type": "code",
   "execution_count": 14,
   "metadata": {
    "tags": []
   },
   "outputs": [
    {
     "output_type": "stream",
     "name": "stdout",
     "text": "10\n"
    }
   ],
   "source": [
    "cc12 = eval.add(ct1, ct2)\n",
    "cc12 = decrypter.decrypt(cc12)\n",
    "print(int_encoder.decode(cc12))"
   ]
  },
  {
   "cell_type": "code",
   "execution_count": 15,
   "metadata": {
    "tags": []
   },
   "outputs": [
    {
     "output_type": "stream",
     "name": "stdout",
     "text": "10\n"
    }
   ],
   "source": [
    "pc12 = eval.add(pt1, ct2)\n",
    "pc12 = decrypter.decrypt(pc12)\n",
    "print(int_encoder.decode(pc12))"
   ]
  },
  {
   "cell_type": "code",
   "execution_count": 16,
   "metadata": {
    "tags": []
   },
   "outputs": [
    {
     "output_type": "stream",
     "name": "stdout",
     "text": "10\n"
    }
   ],
   "source": [
    "pp12 = eval.add(pt1, pt2)\n",
    "print(int_encoder.decode(pp12))"
   ]
  },
  {
   "cell_type": "markdown",
   "metadata": {},
   "source": [
    "### Verify result"
   ]
  },
  {
   "cell_type": "code",
   "execution_count": 17,
   "metadata": {},
   "outputs": [],
   "source": [
    "assert int_encoder.decode(cc12) == int_encoder.decode(pc12) == int_encoder.decode(pp12) == ri1+ri2"
   ]
  },
  {
   "cell_type": "code",
   "execution_count": 18,
   "metadata": {
    "tags": []
   },
   "outputs": [
    {
     "output_type": "stream",
     "name": "stdout",
     "text": "\n\nct1 : [[[152864357394, 314194766596, 660340414334, 730649127007, 508964065424, 1058522846275, 23557869022, 77312731088, 66695944280, 785625586306, 690891491323, 603550672214, 991277537375, 432236537526, 806832477099, 956660206742, 756878992034, 643895437588, 122309769916, 61953303052, 920148784045, 513355255496, 34293603073, 1012443703742, 1033567500594, 994796338203, 970371876072, 640316009828, 1086625859856, 893888601784, 661702282569, 831084835436, 1026757012843, 672213561902, 765373031073, 132438930351, 450070377584, 368904734177, 539497343609, 919712651721, 313048223242, 1060102270531, 839915313921, 58540167032, 565091517923, 605284833752, 1050353437806, 524709766132, 1098265595700, 706970898998, 470639983470, 501577481401, 764107882068, 921545109436, 914730583108, 557306799683, 572668246878, 481428647263, 946700855367, 912384958544, 38950762517, 629176510299, 1093191785838, 540958102478]], [[55716783718, 617570538342, 288497768680, 1030971953362, 344431595013, 681410104196, 640620571096, 29337742308, 881947451918, 35573338563, 178324149811, 744969551195, 87104580830, 1042583934479, 753698828157, 190698621750, 416222790951, 432216054708, 836344960021, 66196131614, 506892590083, 152546053139, 610496302182, 644184891566, 887059205080, 16352260551, 795421975482, 397056280601, 580524711473, 904537167078, 579458419023, 817932178095, 387652875643, 254040291844, 1012362564449, 808912167995, 836943356086, 375350824165, 653022810735, 701778646236, 489701389719, 374657604880, 849092314778, 992749518169, 468924911606, 242481061343, 15383169888, 1050402295950, 845243388804, 870298263984, 296676499775, 160468200465, 972523608595, 633398495838, 959934988341, 348372920057, 402144497088, 65401434361, 630521349438, 396895724597, 941600296447, 64653361171, 893530048800, 702858714486]]]\n\n\nct2 : [[[945093621078, 936148024883, 808323992661, 364429883641, 725324957179, 969769108622, 2382332439, 838644334331, 280024950990, 911465570403, 559398448993, 518985260762, 715075774326, 629383627148, 1014823151196, 978630225489, 526518750018, 231194696748, 143971990317, 433057708188, 102940675194, 232751471123, 940412286756, 273986795429, 1033132335124, 947513789449, 390167027257, 174845401361, 425052321269, 634371546913, 279022580170, 284331468722, 633542207953, 37376643814, 84409336713, 922947696733, 942027016016, 989937753329, 758398673925, 794389712358, 1013665336568, 58654113672, 599543785175, 306551432198, 902306852111, 538628532846, 924082867258, 713319195465, 304123385121, 255593982195, 12449069301, 986656719710, 56493730535, 938912668857, 948905313622, 1072522090026, 1087374226934, 48175111933, 167876649139, 53981766357, 980130477399, 972068992924, 34090376482, 301703404005]], [[334031118360, 607571362769, 321450148625, 249346671460, 358447244484, 769968624901, 790309492348, 4460157763, 913595573051, 1055499367180, 396425870225, 700996328821, 758026539283, 957036642714, 423602574104, 769045221828, 705433815100, 470312770930, 554433360242, 978138402489, 552860390813, 430216074428, 453703344810, 891474141010, 501673958968, 278733725478, 861168122733, 805409219615, 607044770555, 773995601772, 759663584286, 899554021646, 473082959698, 551669303269, 788200110993, 640160613698, 815890865636, 630571067911, 707003981881, 836203992213, 637290472711, 811647922999, 876711637438, 161763557462, 184808593843, 117415684375, 116975380426, 478691066723, 384120435278, 440078855432, 439010243501, 656824041281, 342846736748, 953536399557, 44913135966, 164566427013, 1091535984147, 695668543057, 1032130793347, 944501548574, 1080237929597, 283705995698, 1075048783099, 610941785400]]]\n\n\n\nfinal result:  16\n"
    }
   ],
   "source": [
    "result = eval._mul_cipher_cipher(ct1, ct2)\n",
    "print(\"\\n\\nct1 :\",ct1.data)\n",
    "print(\"\\n\\nct2 :\",ct2.data)\n",
    "print('\\n\\n')\n",
    "\n",
    "result = decrypter.decrypt(result)\n",
    "result = int_encoder.decode(result)\n",
    "\n",
    "print('final result: ', result)"
   ]
  },
  {
   "cell_type": "code",
   "execution_count": 19,
   "metadata": {
    "tags": []
   },
   "outputs": [
    {
     "output_type": "stream",
     "name": "stdout",
     "text": "16      16\n"
    }
   ],
   "source": [
    "print(ri1 * ri2, \"    \", result)\n",
    "assert ri1 * ri2 == result"
   ]
  },
  {
   "cell_type": "code",
   "execution_count": null,
   "metadata": {},
   "outputs": [],
   "source": []
  },
  {
   "cell_type": "code",
   "execution_count": 20,
   "metadata": {
    "tags": []
   },
   "outputs": [],
   "source": [
    "import syft as sy\n",
    "import torch as th\n",
    "hook = sy.TorchHook(th)\n",
    "from syft.frameworks.torch.he.fv.context import Context\n",
    "from syft.frameworks.torch.he.fv.encryption_params import EncryptionParams\n",
    "context = Context(EncryptionParams(128, CoeffModulus().create(128, [30]), 128))"
   ]
  },
  {
   "cell_type": "code",
   "execution_count": 21,
   "metadata": {},
   "outputs": [],
   "source": [
    "keys = KeyGenerator(context).keygen()"
   ]
  },
  {
   "cell_type": "code",
   "execution_count": 22,
   "metadata": {
    "tags": []
   },
   "outputs": [],
   "source": [
    "x = th.Tensor([[1,2,3],[4,5,6]]).int().encrypt(protocol=\"bfv\", private_key=keys[0], context = context)"
   ]
  },
  {
   "cell_type": "code",
   "execution_count": 23,
   "metadata": {
    "tags": []
   },
   "outputs": [
    {
     "output_type": "execute_result",
     "data": {
      "text/plain": "(Wrapper)>BFVTensor>[[<syft.frameworks.torch.he.fv.ciphertext.CipherText object at 0x12f033f70>\n  <syft.frameworks.torch.he.fv.ciphertext.CipherText object at 0x12ecd4fd0>\n  <syft.frameworks.torch.he.fv.ciphertext.CipherText object at 0x12f033fd0>]\n [<syft.frameworks.torch.he.fv.ciphertext.CipherText object at 0x12f0333a0>\n  <syft.frameworks.torch.he.fv.ciphertext.CipherText object at 0x12f033dc0>\n  <syft.frameworks.torch.he.fv.ciphertext.CipherText object at 0x12f033580>]]"
     },
     "metadata": {},
     "execution_count": 23
    }
   ],
   "source": [
    "x"
   ]
  },
  {
   "cell_type": "code",
   "execution_count": 24,
   "metadata": {},
   "outputs": [
    {
     "output_type": "execute_result",
     "data": {
      "text/plain": "tensor([[1, 2, 3],\n        [4, 5, 6]])"
     },
     "metadata": {},
     "execution_count": 24
    }
   ],
   "source": [
    "y = x.decrypt(private_key = keys[0])\n",
    "y"
   ]
  },
  {
   "cell_type": "code",
   "execution_count": 25,
   "metadata": {},
   "outputs": [
    {
     "output_type": "execute_result",
     "data": {
      "text/plain": "(Wrapper)>BFVTensor>[[<syft.frameworks.torch.he.fv.ciphertext.CipherText object at 0x12f033f70>\n  <syft.frameworks.torch.he.fv.ciphertext.CipherText object at 0x12ecd4fd0>\n  <syft.frameworks.torch.he.fv.ciphertext.CipherText object at 0x12f033fd0>]\n [<syft.frameworks.torch.he.fv.ciphertext.CipherText object at 0x12f0333a0>\n  <syft.frameworks.torch.he.fv.ciphertext.CipherText object at 0x12f033dc0>\n  <syft.frameworks.torch.he.fv.ciphertext.CipherText object at 0x12f033580>]]"
     },
     "metadata": {},
     "execution_count": 25
    }
   ],
   "source": [
    "x"
   ]
  },
  {
   "cell_type": "code",
   "execution_count": 26,
   "metadata": {},
   "outputs": [],
   "source": [
    "x = x + y"
   ]
  },
  {
   "cell_type": "code",
   "execution_count": 27,
   "metadata": {},
   "outputs": [
    {
     "output_type": "execute_result",
     "data": {
      "text/plain": "(Wrapper)>BFVTensor>[[<syft.frameworks.torch.he.fv.ciphertext.CipherText object at 0x12f033d90>\n  <syft.frameworks.torch.he.fv.ciphertext.CipherText object at 0x12f0330a0>\n  <syft.frameworks.torch.he.fv.ciphertext.CipherText object at 0x12f033a60>]\n [<syft.frameworks.torch.he.fv.ciphertext.CipherText object at 0x12f0335b0>\n  <syft.frameworks.torch.he.fv.ciphertext.CipherText object at 0x12f033820>\n  <syft.frameworks.torch.he.fv.ciphertext.CipherText object at 0x12f027700>]]"
     },
     "metadata": {},
     "execution_count": 27
    }
   ],
   "source": [
    "x"
   ]
  },
  {
   "cell_type": "code",
   "execution_count": 28,
   "metadata": {},
   "outputs": [
    {
     "output_type": "execute_result",
     "data": {
      "text/plain": "tensor([[ 2,  4,  6],\n        [ 8, 10, 12]])"
     },
     "metadata": {},
     "execution_count": 28
    }
   ],
   "source": [
    "x.decrypt(private_key = keys[0])"
   ]
  },
  {
   "cell_type": "code",
   "execution_count": 29,
   "metadata": {},
   "outputs": [],
   "source": [
    "x = x - th.Tensor([[1,2,3],[4,5,6]]).int().encrypt(protocol=\"bfv\", private_key=keys[0], context = context)"
   ]
  },
  {
   "cell_type": "code",
   "execution_count": 30,
   "metadata": {},
   "outputs": [
    {
     "output_type": "execute_result",
     "data": {
      "text/plain": "(Wrapper)>BFVTensor>[[<syft.frameworks.torch.he.fv.ciphertext.CipherText object at 0x12f063af0>\n  <syft.frameworks.torch.he.fv.ciphertext.CipherText object at 0x12f063df0>\n  <syft.frameworks.torch.he.fv.ciphertext.CipherText object at 0x12f063cd0>]\n [<syft.frameworks.torch.he.fv.ciphertext.CipherText object at 0x12f063f10>\n  <syft.frameworks.torch.he.fv.ciphertext.CipherText object at 0x12f063dc0>\n  <syft.frameworks.torch.he.fv.ciphertext.CipherText object at 0x12f063d90>]]"
     },
     "metadata": {},
     "execution_count": 30
    }
   ],
   "source": [
    "x"
   ]
  },
  {
   "cell_type": "code",
   "execution_count": 31,
   "metadata": {},
   "outputs": [
    {
     "output_type": "execute_result",
     "data": {
      "text/plain": "tensor([[1, 2, 3],\n        [4, 5, 6]])"
     },
     "metadata": {},
     "execution_count": 31
    }
   ],
   "source": [
    "x.decrypt(private_key = keys[0])"
   ]
  },
  {
   "cell_type": "code",
   "execution_count": 32,
   "metadata": {},
   "outputs": [],
   "source": [
    " x = x*x"
   ]
  },
  {
   "cell_type": "code",
   "execution_count": 33,
   "metadata": {},
   "outputs": [
    {
     "output_type": "execute_result",
     "data": {
      "text/plain": "tensor([[ 1,  4,  9],\n        [16, 25, 36]])"
     },
     "metadata": {},
     "execution_count": 33
    }
   ],
   "source": [
    "x.decrypt(private_key = keys[0])"
   ]
  },
  {
   "cell_type": "code",
   "execution_count": null,
   "metadata": {},
   "outputs": [],
   "source": []
  }
 ],
 "metadata": {
  "file_extension": ".py",
  "kernelspec": {
   "display_name": "Python 3.8.5 64-bit",
   "language": "python",
   "name": "python_defaultSpec_1598872452990"
  },
  "language_info": {
   "codemirror_mode": {
    "name": "ipython",
    "version": 3
   },
   "file_extension": ".py",
   "mimetype": "text/x-python",
   "name": "python",
   "nbconvert_exporter": "python",
   "pygments_lexer": "ipython3",
   "version": "3.8.5-final"
  },
  "mimetype": "text/x-python",
  "name": "python",
  "npconvert_exporter": "python",
  "pygments_lexer": "ipython3",
  "version": 3
 },
 "nbformat": 4,
 "nbformat_minor": 2
}
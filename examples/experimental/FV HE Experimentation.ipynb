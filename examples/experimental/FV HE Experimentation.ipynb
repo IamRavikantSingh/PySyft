{
 "cells": [
  {
   "cell_type": "markdown",
   "metadata": {},
   "source": [
    "# Testing Individual components of the FV HE scheme"
   ]
  },
  {
   "cell_type": "code",
   "execution_count": 1,
   "metadata": {
    "tags": []
   },
   "outputs": [],
   "source": [
    "import random\n",
    "\n",
    "from syft.frameworks.torch.he.fv.modulus import CoeffModulus\n",
    "from syft.frameworks.torch.he.fv.encryption_params import EncryptionParams\n",
    "from syft.frameworks.torch.he.fv.context import Context\n",
    "from syft.frameworks.torch.he.fv.integer_encoder import IntegerEncoder\n",
    "from syft.frameworks.torch.he.fv.key_generator import KeyGenerator\n",
    "from syft.frameworks.torch.he.fv.encryptor import Encryptor\n",
    "from syft.frameworks.torch.he.fv.decryptor import Decryptor\n",
    "from syft.frameworks.torch.he.fv.integer_encoder import IntegerEncoder\n",
    "from syft.frameworks.torch.he.fv.modulus import SeqLevelType\n",
    "from syft.frameworks.torch.he.fv.evaluator import Evaluator"
   ]
  },
  {
   "cell_type": "markdown",
   "metadata": {},
   "source": [
    "## Keygeneration"
   ]
  },
  {
   "cell_type": "code",
   "execution_count": 2,
   "metadata": {},
   "outputs": [],
   "source": [
    "poly_modulus = 64\n",
    "bit_sizes= [40]\n",
    "plain_modulus = 64\n",
    "ctx = Context(EncryptionParams(poly_modulus, CoeffModulus().create(poly_modulus, bit_sizes), plain_modulus))\n",
    "keygenerator = KeyGenerator(ctx)\n",
    "sk, pk = keygenerator.keygen()"
   ]
  },
  {
   "cell_type": "code",
   "execution_count": 3,
   "metadata": {
    "tags": []
   },
   "outputs": [
    {
     "output_type": "error",
     "ename": "AttributeError",
     "evalue": "'Context' object has no attribute 'param'",
     "traceback": [
      "\u001b[0;31m---------------------------------------------------------------------------\u001b[0m",
      "\u001b[0;31mAttributeError\u001b[0m                            Traceback (most recent call last)",
      "\u001b[0;32m<ipython-input-3-53b9ef16a468>\u001b[0m in \u001b[0;36m<module>\u001b[0;34m\u001b[0m\n\u001b[0;32m----> 1\u001b[0;31m \u001b[0mprint\u001b[0m\u001b[0;34m(\u001b[0m\u001b[0mctx\u001b[0m\u001b[0;34m.\u001b[0m\u001b[0mparam\u001b[0m\u001b[0;34m.\u001b[0m\u001b[0mcoeff_modulus\u001b[0m\u001b[0;34m)\u001b[0m\u001b[0;34m\u001b[0m\u001b[0;34m\u001b[0m\u001b[0m\n\u001b[0m",
      "\u001b[0;31mAttributeError\u001b[0m: 'Context' object has no attribute 'param'"
     ]
    }
   ],
   "source": [
    "print(ctx.param.coeff_modulus)"
   ]
  },
  {
   "cell_type": "code",
   "execution_count": 4,
   "metadata": {
    "tags": []
   },
   "outputs": [
    {
     "output_type": "stream",
     "name": "stdout",
     "text": "secret key values :  [[0, 0, 1, 0, 1099511623296, 0, 0, 1099511623296, 1, 1099511623296, 0, 1, 1, 0, 1, 1, 1, 1099511623296, 1099511623296, 0, 1099511623296, 1099511623296, 1, 0, 1, 1099511623296, 1099511623296, 0, 0, 1099511623296, 0, 0, 1099511623296, 1, 1099511623296, 1099511623296, 1099511623296, 1, 0, 1, 0, 1, 1099511623296, 1, 1, 1099511623296, 1099511623296, 1099511623296, 1, 0, 0, 1099511623296, 0, 1099511623296, 0, 1099511623296, 0, 1099511623296, 1, 1099511623296, 1, 0, 0, 0]]\n"
    }
   ],
   "source": [
    "# print(len(sk.data))\n",
    "print('secret key values : ', sk.data)"
   ]
  },
  {
   "cell_type": "code",
   "execution_count": 5,
   "metadata": {},
   "outputs": [],
   "source": [
    "# print(pk.data)\n",
    "# print('public key values : ', pk.data)"
   ]
  },
  {
   "cell_type": "markdown",
   "metadata": {},
   "source": [
    "## Integer Encoder\n",
    "Encodes Integer values to Plaintext object"
   ]
  },
  {
   "cell_type": "code",
   "execution_count": 6,
   "metadata": {
    "tags": []
   },
   "outputs": [
    {
     "output_type": "stream",
     "name": "stdout",
     "text": "[1, 0, 0, 1]     [0, 0, 1]     [0, 0, 1]\n"
    }
   ],
   "source": [
    "int_encoder = IntegerEncoder(ctx)\n",
    "ri1 = random.randint(0,10)\n",
    "ri2 = random.randint(0,10)\n",
    "ri3 = random.randint(0,10)\n",
    "pt1 = int_encoder.encode(ri1)\n",
    "pt2 = int_encoder.encode(ri2)\n",
    "pt3 = int_encoder.encode(ri3)\n",
    "print(pt1.data,\"   \", pt2.data, \"   \", pt3.data)\n",
    "# print('plaintext data',plaintext.data)"
   ]
  },
  {
   "cell_type": "markdown",
   "metadata": {},
   "source": [
    "### Decodes back to Integer"
   ]
  },
  {
   "cell_type": "code",
   "execution_count": 7,
   "metadata": {
    "tags": []
   },
   "outputs": [
    {
     "output_type": "stream",
     "name": "stdout",
     "text": "9\n4\n4\n"
    }
   ],
   "source": [
    "print(int_encoder.decode(pt1))\n",
    "print(int_encoder.decode(pt2))\n",
    "print(int_encoder.decode(pt3))"
   ]
  },
  {
   "cell_type": "markdown",
   "metadata": {},
   "source": [
    "## Encrypter\n",
    "Encrypt Plaintext to ciphertext using public_key"
   ]
  },
  {
   "cell_type": "code",
   "execution_count": 8,
   "metadata": {},
   "outputs": [],
   "source": [
    "encrypter = Encryptor(ctx, pk)"
   ]
  },
  {
   "cell_type": "code",
   "execution_count": 9,
   "metadata": {},
   "outputs": [],
   "source": [
    "ct1 = encrypter.encrypt(pt1)\n",
    "ct2 = encrypter.encrypt(pt2)\n",
    "ct3 = encrypter.encrypt(pt3)"
   ]
  },
  {
   "cell_type": "markdown",
   "metadata": {},
   "source": [
    "Encrypt Plaintext to ciphertext using secret_key"
   ]
  },
  {
   "cell_type": "markdown",
   "metadata": {},
   "source": [
    "## Decryptor\n",
    "Decrypt Ciphertext to Plaintext using secret_key"
   ]
  },
  {
   "cell_type": "code",
   "execution_count": 10,
   "metadata": {},
   "outputs": [],
   "source": [
    "decrypter = Decryptor(ctx, sk)"
   ]
  },
  {
   "cell_type": "code",
   "execution_count": 11,
   "metadata": {
    "tags": []
   },
   "outputs": [],
   "source": [
    "dec1 = decrypter.decrypt(ct1)\n",
    "dec2 = decrypter.decrypt(ct2)\n",
    "dec3 = decrypter.decrypt(ct3)"
   ]
  },
  {
   "cell_type": "code",
   "execution_count": 12,
   "metadata": {
    "tags": []
   },
   "outputs": [
    {
     "output_type": "stream",
     "name": "stdout",
     "text": "9     4     4\n"
    }
   ],
   "source": [
    "print(int_encoder.decode(dec1), \"   \", int_encoder.decode(dec2), \"   \", int_encoder.decode(dec3))"
   ]
  },
  {
   "cell_type": "markdown",
   "metadata": {},
   "source": [
    "## Evaluator"
   ]
  },
  {
   "cell_type": "code",
   "execution_count": 13,
   "metadata": {},
   "outputs": [],
   "source": [
    "eval = Evaluator(ctx)"
   ]
  },
  {
   "cell_type": "code",
   "execution_count": 14,
   "metadata": {
    "tags": []
   },
   "outputs": [
    {
     "output_type": "stream",
     "name": "stdout",
     "text": "13\n"
    }
   ],
   "source": [
    "cc12 = eval.add(ct1, ct2)\n",
    "cc12 = decrypter.decrypt(cc12)\n",
    "print(int_encoder.decode(cc12))"
   ]
  },
  {
   "cell_type": "code",
   "execution_count": 15,
   "metadata": {
    "tags": []
   },
   "outputs": [
    {
     "output_type": "stream",
     "name": "stdout",
     "text": "13\n"
    }
   ],
   "source": [
    "pc12 = eval.add(pt1, ct2)\n",
    "pc12 = decrypter.decrypt(pc12)\n",
    "print(int_encoder.decode(pc12))"
   ]
  },
  {
   "cell_type": "code",
   "execution_count": 16,
   "metadata": {
    "tags": []
   },
   "outputs": [
    {
     "output_type": "stream",
     "name": "stdout",
     "text": "13\n"
    }
   ],
   "source": [
    "pp12 = eval.add(pt1, pt2)\n",
    "print(int_encoder.decode(pp12))"
   ]
  },
  {
   "cell_type": "markdown",
   "metadata": {},
   "source": [
    "### Verify result"
   ]
  },
  {
   "cell_type": "code",
   "execution_count": 17,
   "metadata": {},
   "outputs": [],
   "source": [
    "assert int_encoder.decode(cc12) == int_encoder.decode(pc12) == int_encoder.decode(pp12) == ri1+ri2"
   ]
  },
  {
   "cell_type": "code",
   "execution_count": 18,
   "metadata": {
    "tags": []
   },
   "outputs": [
    {
     "output_type": "stream",
     "name": "stdout",
     "text": "\n\nct1 : [[[987087971196, 509284154373, 721405037536, 772102664538, 1030088083642, 1052905798122, 1093025457831, 947769491175, 618058815223, 1072046300069, 554087671929, 144118039165, 380716416165, 575355614646, 469022030028, 357329678618, 944420411006, 357763776412, 563074906213, 473535859797, 1088992316867, 899911537188, 609962850961, 678371846628, 12425926942, 867269115907, 460748089393, 45403017622, 446587417768, 773046172482, 12063429463, 479064392116, 1021522144736, 102929326589, 334170319241, 616660253790, 929570670310, 244728605527, 4594639400, 775101949762, 650638079789, 25894757258, 1094352104068, 899152637187, 607147469352, 513111635530, 500860647414, 78645883275, 15909411353, 438507837827, 731705859641, 67569947813, 824265226989, 38913074303, 901761114183, 426838167903, 897632236849, 937017220407, 617676275857, 570551837726, 488164072052, 819085274516, 15861615034, 804773831349]], [[189092571812, 481560639515, 344227186144, 987363810518, 266715789464, 53542094113, 51771321225, 888791142689, 825988727774, 585564932629, 218619158779, 585995855616, 538227569321, 945903515231, 441557935989, 125662073660, 594819384271, 732494796839, 539471594553, 936657408615, 294204707375, 895372616022, 109201515654, 80303676703, 20535821293, 546570835237, 1028965685639, 431236327659, 657575017984, 274593239349, 95015199803, 708847963511, 180679066959, 366872025626, 101941284026, 92786152800, 609840662558, 693056518230, 115714617426, 82910248084, 693474107895, 1071334269220, 320703960557, 448614145265, 463231769900, 258969516711, 812605417928, 780034845430, 739671021477, 433023691560, 926659231144, 796419979741, 816790610956, 438815881028, 495068668922, 1057295385536, 356753409873, 973186455326, 764377690578, 819407316748, 106214051799, 925166162369, 593717165752, 306052415169]]]\n\n\nct2 : [[[419079627426, 83682335232, 923923159716, 367352071670, 167204199191, 603900611069, 599745845381, 224660922845, 32182464384, 16474586607, 900169186670, 1052910630652, 1008977008762, 785938260320, 693725675862, 935311301645, 291059357926, 400192782064, 887605806257, 706288004632, 426108816486, 658631964329, 534682562500, 315102753757, 70482188238, 941601181931, 333548051864, 649398173605, 79120827529, 538063279292, 1076700415778, 191837225330, 293095510446, 349421352843, 82295945172, 928679995906, 814550874065, 637490047169, 806103700111, 610564614257, 700919550516, 3449564062, 765691382207, 605015146092, 327005737754, 848669031404, 1014533314581, 185864242903, 138010621631, 810274366901, 574541307779, 125890942701, 24455623327, 889973415868, 666499234201, 309966781017, 302568526715, 1063894582602, 577789765333, 149656536356, 871141538676, 1004652026022, 469037567177, 783641388395]], [[870773156096, 628637992292, 972925694041, 282466865599, 431540759848, 132468784486, 1081357417793, 728392742143, 401689732994, 929163655316, 878383470766, 696667404621, 432427878248, 228981703569, 445199948457, 1093272491990, 1097818443294, 795074122496, 632597511978, 930809837137, 332095229454, 674803082659, 63776672631, 783104535395, 443547593101, 704491145232, 928358942912, 58295103336, 1034556128648, 204450426097, 791327455895, 533470216299, 1014315423678, 469852242974, 635933578718, 557542408829, 856799199825, 168107820855, 677545873170, 696868401527, 286004424678, 1003546421013, 775098976579, 871109499054, 672475090184, 567957342437, 152029729343, 604455102722, 347435723960, 346339704591, 5589293347, 190759493522, 438739706714, 369671113084, 498189807068, 109870732746, 261248037266, 409714252486, 743834270373, 882555553981, 128642507908, 927925094586, 556765687409, 57191356174]]]\n\n\n\nfinal result:  36\n"
    }
   ],
   "source": [
    "result = eval._mul_cipher_cipher(ct1, ct2)\n",
    "print(\"\\n\\nct1 :\",ct1.data)\n",
    "print(\"\\n\\nct2 :\",ct2.data)\n",
    "print('\\n\\n')\n",
    "\n",
    "result = decrypter.decrypt(result)\n",
    "result = int_encoder.decode(result)\n",
    "\n",
    "print('final result: ', result)"
   ]
  },
  {
   "cell_type": "code",
   "execution_count": 19,
   "metadata": {
    "tags": []
   },
   "outputs": [
    {
     "output_type": "stream",
     "name": "stdout",
     "text": "36      36\n"
    }
   ],
   "source": [
    "print(ri1 * ri2, \"    \", result)\n",
    "assert ri1 * ri2 == result"
   ]
  },
  {
   "cell_type": "code",
   "execution_count": null,
   "metadata": {},
   "outputs": [],
   "source": []
  },
  {
   "cell_type": "code",
   "execution_count": 20,
   "metadata": {
    "tags": []
   },
   "outputs": [],
   "source": [
    "import syft as sy\n",
    "import torch as th\n",
    "hook = sy.TorchHook(th)\n",
    "from syft.frameworks.torch.he.fv.context import Context\n",
    "from syft.frameworks.torch.he.fv.encryption_params import EncryptionParams\n",
    "context = Context(EncryptionParams(128, CoeffModulus().create(128, [30]), 128))"
   ]
  },
  {
   "cell_type": "code",
   "execution_count": 21,
   "metadata": {},
   "outputs": [],
   "source": [
    "keys = KeyGenerator(context).keygen()"
   ]
  },
  {
   "cell_type": "code",
   "execution_count": 22,
   "metadata": {
    "tags": []
   },
   "outputs": [],
   "source": [
    "x = th.Tensor([[1,2,3],[4,5,6]]).encrypt(protocol=\"bfv\", private_key=keys[0], context = context)"
   ]
  },
  {
   "cell_type": "code",
   "execution_count": 23,
   "metadata": {
    "tags": []
   },
   "outputs": [
    {
     "output_type": "execute_result",
     "data": {
      "text/plain": "(Wrapper)>BFVTensor>[[<syft.frameworks.torch.he.fv.ciphertext.CipherText object at 0x127976f70>\n  <syft.frameworks.torch.he.fv.ciphertext.CipherText object at 0x12796afd0>\n  <syft.frameworks.torch.he.fv.ciphertext.CipherText object at 0x127976f10>]\n [<syft.frameworks.torch.he.fv.ciphertext.CipherText object at 0x12761ea30>\n  <syft.frameworks.torch.he.fv.ciphertext.CipherText object at 0x127976e50>\n  <syft.frameworks.torch.he.fv.ciphertext.CipherText object at 0x127976460>]]"
     },
     "metadata": {},
     "execution_count": 23
    }
   ],
   "source": [
    "x"
   ]
  },
  {
   "cell_type": "code",
   "execution_count": 24,
   "metadata": {},
   "outputs": [
    {
     "output_type": "execute_result",
     "data": {
      "text/plain": "tensor([[1, 2, 3],\n        [4, 5, 6]])"
     },
     "metadata": {},
     "execution_count": 24
    }
   ],
   "source": [
    "x.decrypt(private_key = keys[0])"
   ]
  },
  {
   "cell_type": "code",
   "execution_count": null,
   "metadata": {},
   "outputs": [],
   "source": []
  }
 ],
 "metadata": {
  "file_extension": ".py",
  "kernelspec": {
   "display_name": "Python 3.8.5 64-bit",
   "language": "python",
   "name": "python_defaultSpec_1597831168935"
  },
  "language_info": {
   "codemirror_mode": {
    "name": "ipython",
    "version": 3
   },
   "file_extension": ".py",
   "mimetype": "text/x-python",
   "name": "python",
   "nbconvert_exporter": "python",
   "pygments_lexer": "ipython3",
   "version": "3.8.5-final"
  },
  "mimetype": "text/x-python",
  "name": "python",
  "npconvert_exporter": "python",
  "pygments_lexer": "ipython3",
  "version": 3
 },
 "nbformat": 4,
 "nbformat_minor": 2
}